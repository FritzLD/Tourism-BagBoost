{
 "cells": [
  {
   "cell_type": "markdown",
   "id": "9c453d37",
   "metadata": {},
   "source": [
    "'The company is now planning to launch a new product i.e. Wellness Tourism Package. Wellness Tourism is defined as Travel that allows the traveler to maintain, enhance or kick-start a healthy lifestyle, and support or increase one's sense of well-being.\n",
    "\n",
    "This time company wants to harness the available data of existing and potential customers to target the right customers.'"
   ]
  },
  {
   "cell_type": "markdown",
   "id": "ecd74c49",
   "metadata": {},
   "source": [
    "* There are 5 types of packages the company is offering\n",
    "1. Basic\n",
    "2. Standard\n",
    "3. Deluxe\n",
    "4. Super Deluxe\n",
    "5. King\n",
    "\n",
    "* from the last offering last year- 18% of customers purchased of these packages."
   ]
  },
  {
   "cell_type": "markdown",
   "id": "70f004f2",
   "metadata": {},
   "source": [
    "* A new offering from the company called \"The Wellness Tourism Package\" is under launch and the company is trying to obtain\n",
    "key insights to be able to reduce the cost and increase their effectiveness in their campaigns."
   ]
  },
  {
   "cell_type": "markdown",
   "id": "f6e5cd22",
   "metadata": {},
   "source": [
    "***OBJECTIVE:***  To predict which customer is more likely to purchase the newly introduced travel package. "
   ]
  },
  {
   "cell_type": "markdown",
   "id": "bd903a65",
   "metadata": {},
   "source": [
    "- **CustomerID**              - Unique customer ID\n",
    "- **ProdTaken**               - Whether the customer has purchased a package or not (0: No, 1: Yes)\n",
    "- **Age**                     - Age of customer\n",
    "- **TypeofContact**\t          - How customer was contacted (Company Invited or Self Inquiry)\n",
    "- **CityTier**                -\tCity tier depends on the development of a city, population, facilities, and living standards. \n",
    "> The categories are -   ordered i.e. Tier 1 > Tier 2 > Tier 3\n",
    "- **DurationOfPitch**         -\tDuration of the pitch by a salesperson to the customer\n",
    "- **Occupation**              -\tOccupation of customer\n",
    "- **Gender**                  -\tGender of customer\n",
    "- **NumberOfPersonVisiting**  -\tTotal number of persons planning to take the trip with the customer\n",
    "- **NumberOfFollowups**       -\tTotal number of follow-ups has been done by sales person after sales pitch\n",
    "- **ProductPitched**          -\tProduct pitched by the salesperson\n",
    "- **PreferredPropertyStar**\t  - Preferred hotel property rating by customer\n",
    "- **MaritalStatus**           -\tMarital status of customer\n",
    "- **NumberOfTrips**           -\tAverage number of trips in a year by customer\n",
    "- **Passport**                -\tThe customer has a passport or not (0: No, 1: Yes)\n",
    "- **PitchSatisfactionScore**  -\tSales pitch satisfaction score\n",
    "- **OwnCar**                  -\tWhether the customers own a car or not (0: No, 1: Yes)\n",
    "- **NumberOfChildrenVisiting**-\tTotal number of children with age less than 5 planning to take the trip with the customer\n",
    "- **Designation**             -\tDesignation of the customer in the current organization\n",
    "- **MonthlyIncome**           -\tGross monthly income of the customer\n"
   ]
  },
  {
   "cell_type": "code",
   "execution_count": 1,
   "id": "fc54a0ac",
   "metadata": {},
   "outputs": [],
   "source": [
    "# I will load potentially more libraries to insure that I dont have issues later \n",
    "\n",
    "# Libraries to help with reading and manipulating data\n",
    "import pandas as pd\n",
    "import numpy as np\n",
    "\n",
    "from sklearn import metrics\n",
    "\n",
    "# Libraries to help with data visualization\n",
    "import matplotlib.pyplot as plt\n",
    "%matplotlib inline\n",
    "import seaborn as sns\n",
    "\n",
    "# Library to suppress warnings or deprecation notes \n",
    "import warnings\n",
    "warnings.filterwarnings('ignore')\n",
    "\n",
    "# Libraries to split data, impute missing values \n",
    "from sklearn.model_selection import train_test_split\n",
    "from sklearn.impute import SimpleImputer\n",
    "\n",
    "# Libraries to import decision tree classifier and different ensemble classifiers\n",
    "from sklearn.ensemble import BaggingClassifier\n",
    "from sklearn.ensemble import RandomForestClassifier\n",
    "from sklearn.ensemble import AdaBoostClassifier, GradientBoostingClassifier\n",
    "from xgboost import XGBClassifier\n",
    "from sklearn.ensemble import StackingClassifier\n",
    "from sklearn.tree import DecisionTreeClassifier\n",
    "\n",
    "# library to help impute missing values in a better method than simply using Mode, Median, or Mean\n",
    "from sklearn.experimental import enable_hist_gradient_boosting\n",
    "from sklearn.ensemble import HistGradientBoostingClassifier\n",
    "\n",
    "# Libtune to tune model, get different metric scores\n",
    "from sklearn import metrics\n",
    "from sklearn.metrics import confusion_matrix, classification_report, accuracy_score, precision_score, recall_score, f1_score, roc_auc_score\n",
    "from sklearn.model_selection import GridSearchCV\n",
    "\n",
    "from sklearn.ensemble import BaggingRegressor,RandomForestRegressor, GradientBoostingRegressor, AdaBoostRegressor, StackingRegressor\n",
    "from sklearn.linear_model import LogisticRegression\n",
    "from sklearn.tree import DecisionTreeRegressor\n",
    "\n",
    "# load the LabelEncoder from sklearn\n",
    "from sklearn.preprocessing import LabelEncoder, OneHotEncoder\n",
    "\n",
    "#To install xgboost library use - !pip install xgboost \n",
    "from xgboost import XGBClassifier\n",
    "from xgboost import XGBRegressor\n",
    "\n"
   ]
  },
  {
   "cell_type": "markdown",
   "id": "fc89c9ae",
   "metadata": {},
   "source": [
    "### Load Dataset"
   ]
  },
  {
   "cell_type": "code",
   "execution_count": 2,
   "id": "faf67e16",
   "metadata": {},
   "outputs": [],
   "source": [
    "data = pd.read_excel(r'Tourism.xlsx', sheet_name = 'Tourism')\n",
    "# copy of data\n",
    "df = data.copy()"
   ]
  },
  {
   "cell_type": "markdown",
   "id": "36b3c87c",
   "metadata": {},
   "source": [
    "### Data Overview\n",
    "- Observations\n",
    "- Sanity Checks"
   ]
  },
  {
   "cell_type": "markdown",
   "id": "b8ed85d3",
   "metadata": {},
   "source": [
    "### First 5 and last 5 rows of the data"
   ]
  },
  {
   "cell_type": "code",
   "execution_count": 3,
   "id": "f6cd6555",
   "metadata": {},
   "outputs": [
    {
     "data": {
      "text/html": [
       "<div>\n",
       "<style scoped>\n",
       "    .dataframe tbody tr th:only-of-type {\n",
       "        vertical-align: middle;\n",
       "    }\n",
       "\n",
       "    .dataframe tbody tr th {\n",
       "        vertical-align: top;\n",
       "    }\n",
       "\n",
       "    .dataframe thead th {\n",
       "        text-align: right;\n",
       "    }\n",
       "</style>\n",
       "<table border=\"1\" class=\"dataframe\">\n",
       "  <thead>\n",
       "    <tr style=\"text-align: right;\">\n",
       "      <th></th>\n",
       "      <th>CustomerID</th>\n",
       "      <th>ProdTaken</th>\n",
       "      <th>Age</th>\n",
       "      <th>TypeofContact</th>\n",
       "      <th>CityTier</th>\n",
       "      <th>DurationOfPitch</th>\n",
       "      <th>Occupation</th>\n",
       "      <th>Gender</th>\n",
       "      <th>NumberOfPersonVisiting</th>\n",
       "      <th>NumberOfFollowups</th>\n",
       "      <th>ProductPitched</th>\n",
       "      <th>PreferredPropertyStar</th>\n",
       "      <th>MaritalStatus</th>\n",
       "      <th>NumberOfTrips</th>\n",
       "      <th>Passport</th>\n",
       "      <th>PitchSatisfactionScore</th>\n",
       "      <th>OwnCar</th>\n",
       "      <th>NumberOfChildrenVisiting</th>\n",
       "      <th>Designation</th>\n",
       "      <th>MonthlyIncome</th>\n",
       "    </tr>\n",
       "  </thead>\n",
       "  <tbody>\n",
       "    <tr>\n",
       "      <th>0</th>\n",
       "      <td>200000</td>\n",
       "      <td>1</td>\n",
       "      <td>41.0</td>\n",
       "      <td>Self Enquiry</td>\n",
       "      <td>3</td>\n",
       "      <td>6.0</td>\n",
       "      <td>Salaried</td>\n",
       "      <td>Female</td>\n",
       "      <td>3</td>\n",
       "      <td>3.0</td>\n",
       "      <td>Deluxe</td>\n",
       "      <td>3.0</td>\n",
       "      <td>Single</td>\n",
       "      <td>1.0</td>\n",
       "      <td>1</td>\n",
       "      <td>2</td>\n",
       "      <td>1</td>\n",
       "      <td>0.0</td>\n",
       "      <td>Manager</td>\n",
       "      <td>20993.0</td>\n",
       "    </tr>\n",
       "    <tr>\n",
       "      <th>1</th>\n",
       "      <td>200001</td>\n",
       "      <td>0</td>\n",
       "      <td>49.0</td>\n",
       "      <td>Company Invited</td>\n",
       "      <td>1</td>\n",
       "      <td>14.0</td>\n",
       "      <td>Salaried</td>\n",
       "      <td>Male</td>\n",
       "      <td>3</td>\n",
       "      <td>4.0</td>\n",
       "      <td>Deluxe</td>\n",
       "      <td>4.0</td>\n",
       "      <td>Divorced</td>\n",
       "      <td>2.0</td>\n",
       "      <td>0</td>\n",
       "      <td>3</td>\n",
       "      <td>1</td>\n",
       "      <td>2.0</td>\n",
       "      <td>Manager</td>\n",
       "      <td>20130.0</td>\n",
       "    </tr>\n",
       "    <tr>\n",
       "      <th>2</th>\n",
       "      <td>200002</td>\n",
       "      <td>1</td>\n",
       "      <td>37.0</td>\n",
       "      <td>Self Enquiry</td>\n",
       "      <td>1</td>\n",
       "      <td>8.0</td>\n",
       "      <td>Free Lancer</td>\n",
       "      <td>Male</td>\n",
       "      <td>3</td>\n",
       "      <td>4.0</td>\n",
       "      <td>Basic</td>\n",
       "      <td>3.0</td>\n",
       "      <td>Single</td>\n",
       "      <td>7.0</td>\n",
       "      <td>1</td>\n",
       "      <td>3</td>\n",
       "      <td>0</td>\n",
       "      <td>0.0</td>\n",
       "      <td>Executive</td>\n",
       "      <td>17090.0</td>\n",
       "    </tr>\n",
       "    <tr>\n",
       "      <th>3</th>\n",
       "      <td>200003</td>\n",
       "      <td>0</td>\n",
       "      <td>33.0</td>\n",
       "      <td>Company Invited</td>\n",
       "      <td>1</td>\n",
       "      <td>9.0</td>\n",
       "      <td>Salaried</td>\n",
       "      <td>Female</td>\n",
       "      <td>2</td>\n",
       "      <td>3.0</td>\n",
       "      <td>Basic</td>\n",
       "      <td>3.0</td>\n",
       "      <td>Divorced</td>\n",
       "      <td>2.0</td>\n",
       "      <td>1</td>\n",
       "      <td>5</td>\n",
       "      <td>1</td>\n",
       "      <td>1.0</td>\n",
       "      <td>Executive</td>\n",
       "      <td>17909.0</td>\n",
       "    </tr>\n",
       "    <tr>\n",
       "      <th>4</th>\n",
       "      <td>200004</td>\n",
       "      <td>0</td>\n",
       "      <td>NaN</td>\n",
       "      <td>Self Enquiry</td>\n",
       "      <td>1</td>\n",
       "      <td>8.0</td>\n",
       "      <td>Small Business</td>\n",
       "      <td>Male</td>\n",
       "      <td>2</td>\n",
       "      <td>3.0</td>\n",
       "      <td>Basic</td>\n",
       "      <td>4.0</td>\n",
       "      <td>Divorced</td>\n",
       "      <td>1.0</td>\n",
       "      <td>0</td>\n",
       "      <td>5</td>\n",
       "      <td>1</td>\n",
       "      <td>0.0</td>\n",
       "      <td>Executive</td>\n",
       "      <td>18468.0</td>\n",
       "    </tr>\n",
       "  </tbody>\n",
       "</table>\n",
       "</div>"
      ],
      "text/plain": [
       "   CustomerID  ProdTaken   Age    TypeofContact  CityTier  DurationOfPitch  \\\n",
       "0      200000          1  41.0     Self Enquiry         3              6.0   \n",
       "1      200001          0  49.0  Company Invited         1             14.0   \n",
       "2      200002          1  37.0     Self Enquiry         1              8.0   \n",
       "3      200003          0  33.0  Company Invited         1              9.0   \n",
       "4      200004          0   NaN     Self Enquiry         1              8.0   \n",
       "\n",
       "       Occupation  Gender  NumberOfPersonVisiting  NumberOfFollowups  \\\n",
       "0        Salaried  Female                       3                3.0   \n",
       "1        Salaried    Male                       3                4.0   \n",
       "2     Free Lancer    Male                       3                4.0   \n",
       "3        Salaried  Female                       2                3.0   \n",
       "4  Small Business    Male                       2                3.0   \n",
       "\n",
       "  ProductPitched  PreferredPropertyStar MaritalStatus  NumberOfTrips  \\\n",
       "0         Deluxe                    3.0        Single            1.0   \n",
       "1         Deluxe                    4.0      Divorced            2.0   \n",
       "2          Basic                    3.0        Single            7.0   \n",
       "3          Basic                    3.0      Divorced            2.0   \n",
       "4          Basic                    4.0      Divorced            1.0   \n",
       "\n",
       "   Passport  PitchSatisfactionScore  OwnCar  NumberOfChildrenVisiting  \\\n",
       "0         1                       2       1                       0.0   \n",
       "1         0                       3       1                       2.0   \n",
       "2         1                       3       0                       0.0   \n",
       "3         1                       5       1                       1.0   \n",
       "4         0                       5       1                       0.0   \n",
       "\n",
       "  Designation  MonthlyIncome  \n",
       "0     Manager        20993.0  \n",
       "1     Manager        20130.0  \n",
       "2   Executive        17090.0  \n",
       "3   Executive        17909.0  \n",
       "4   Executive        18468.0  "
      ]
     },
     "execution_count": 3,
     "metadata": {},
     "output_type": "execute_result"
    }
   ],
   "source": [
    "data.head()"
   ]
  },
  {
   "cell_type": "code",
   "execution_count": 4,
   "id": "8c9ef9fe",
   "metadata": {},
   "outputs": [
    {
     "data": {
      "text/html": [
       "<div>\n",
       "<style scoped>\n",
       "    .dataframe tbody tr th:only-of-type {\n",
       "        vertical-align: middle;\n",
       "    }\n",
       "\n",
       "    .dataframe tbody tr th {\n",
       "        vertical-align: top;\n",
       "    }\n",
       "\n",
       "    .dataframe thead th {\n",
       "        text-align: right;\n",
       "    }\n",
       "</style>\n",
       "<table border=\"1\" class=\"dataframe\">\n",
       "  <thead>\n",
       "    <tr style=\"text-align: right;\">\n",
       "      <th></th>\n",
       "      <th>CustomerID</th>\n",
       "      <th>ProdTaken</th>\n",
       "      <th>Age</th>\n",
       "      <th>TypeofContact</th>\n",
       "      <th>CityTier</th>\n",
       "      <th>DurationOfPitch</th>\n",
       "      <th>Occupation</th>\n",
       "      <th>Gender</th>\n",
       "      <th>NumberOfPersonVisiting</th>\n",
       "      <th>NumberOfFollowups</th>\n",
       "      <th>ProductPitched</th>\n",
       "      <th>PreferredPropertyStar</th>\n",
       "      <th>MaritalStatus</th>\n",
       "      <th>NumberOfTrips</th>\n",
       "      <th>Passport</th>\n",
       "      <th>PitchSatisfactionScore</th>\n",
       "      <th>OwnCar</th>\n",
       "      <th>NumberOfChildrenVisiting</th>\n",
       "      <th>Designation</th>\n",
       "      <th>MonthlyIncome</th>\n",
       "    </tr>\n",
       "  </thead>\n",
       "  <tbody>\n",
       "    <tr>\n",
       "      <th>4883</th>\n",
       "      <td>204883</td>\n",
       "      <td>1</td>\n",
       "      <td>49.0</td>\n",
       "      <td>Self Enquiry</td>\n",
       "      <td>3</td>\n",
       "      <td>9.0</td>\n",
       "      <td>Small Business</td>\n",
       "      <td>Male</td>\n",
       "      <td>3</td>\n",
       "      <td>5.0</td>\n",
       "      <td>Deluxe</td>\n",
       "      <td>4.0</td>\n",
       "      <td>Unmarried</td>\n",
       "      <td>2.0</td>\n",
       "      <td>1</td>\n",
       "      <td>1</td>\n",
       "      <td>1</td>\n",
       "      <td>1.0</td>\n",
       "      <td>Manager</td>\n",
       "      <td>26576.0</td>\n",
       "    </tr>\n",
       "    <tr>\n",
       "      <th>4884</th>\n",
       "      <td>204884</td>\n",
       "      <td>1</td>\n",
       "      <td>28.0</td>\n",
       "      <td>Company Invited</td>\n",
       "      <td>1</td>\n",
       "      <td>31.0</td>\n",
       "      <td>Salaried</td>\n",
       "      <td>Male</td>\n",
       "      <td>4</td>\n",
       "      <td>5.0</td>\n",
       "      <td>Basic</td>\n",
       "      <td>3.0</td>\n",
       "      <td>Single</td>\n",
       "      <td>3.0</td>\n",
       "      <td>1</td>\n",
       "      <td>3</td>\n",
       "      <td>1</td>\n",
       "      <td>2.0</td>\n",
       "      <td>Executive</td>\n",
       "      <td>21212.0</td>\n",
       "    </tr>\n",
       "    <tr>\n",
       "      <th>4885</th>\n",
       "      <td>204885</td>\n",
       "      <td>1</td>\n",
       "      <td>52.0</td>\n",
       "      <td>Self Enquiry</td>\n",
       "      <td>3</td>\n",
       "      <td>17.0</td>\n",
       "      <td>Salaried</td>\n",
       "      <td>Female</td>\n",
       "      <td>4</td>\n",
       "      <td>4.0</td>\n",
       "      <td>Standard</td>\n",
       "      <td>4.0</td>\n",
       "      <td>Married</td>\n",
       "      <td>7.0</td>\n",
       "      <td>0</td>\n",
       "      <td>1</td>\n",
       "      <td>1</td>\n",
       "      <td>3.0</td>\n",
       "      <td>Senior Manager</td>\n",
       "      <td>31820.0</td>\n",
       "    </tr>\n",
       "    <tr>\n",
       "      <th>4886</th>\n",
       "      <td>204886</td>\n",
       "      <td>1</td>\n",
       "      <td>19.0</td>\n",
       "      <td>Self Enquiry</td>\n",
       "      <td>3</td>\n",
       "      <td>16.0</td>\n",
       "      <td>Small Business</td>\n",
       "      <td>Male</td>\n",
       "      <td>3</td>\n",
       "      <td>4.0</td>\n",
       "      <td>Basic</td>\n",
       "      <td>3.0</td>\n",
       "      <td>Single</td>\n",
       "      <td>3.0</td>\n",
       "      <td>0</td>\n",
       "      <td>5</td>\n",
       "      <td>0</td>\n",
       "      <td>2.0</td>\n",
       "      <td>Executive</td>\n",
       "      <td>20289.0</td>\n",
       "    </tr>\n",
       "    <tr>\n",
       "      <th>4887</th>\n",
       "      <td>204887</td>\n",
       "      <td>1</td>\n",
       "      <td>36.0</td>\n",
       "      <td>Self Enquiry</td>\n",
       "      <td>1</td>\n",
       "      <td>14.0</td>\n",
       "      <td>Salaried</td>\n",
       "      <td>Male</td>\n",
       "      <td>4</td>\n",
       "      <td>4.0</td>\n",
       "      <td>Basic</td>\n",
       "      <td>4.0</td>\n",
       "      <td>Unmarried</td>\n",
       "      <td>3.0</td>\n",
       "      <td>1</td>\n",
       "      <td>3</td>\n",
       "      <td>1</td>\n",
       "      <td>2.0</td>\n",
       "      <td>Executive</td>\n",
       "      <td>24041.0</td>\n",
       "    </tr>\n",
       "  </tbody>\n",
       "</table>\n",
       "</div>"
      ],
      "text/plain": [
       "      CustomerID  ProdTaken   Age    TypeofContact  CityTier  DurationOfPitch  \\\n",
       "4883      204883          1  49.0     Self Enquiry         3              9.0   \n",
       "4884      204884          1  28.0  Company Invited         1             31.0   \n",
       "4885      204885          1  52.0     Self Enquiry         3             17.0   \n",
       "4886      204886          1  19.0     Self Enquiry         3             16.0   \n",
       "4887      204887          1  36.0     Self Enquiry         1             14.0   \n",
       "\n",
       "          Occupation  Gender  NumberOfPersonVisiting  NumberOfFollowups  \\\n",
       "4883  Small Business    Male                       3                5.0   \n",
       "4884        Salaried    Male                       4                5.0   \n",
       "4885        Salaried  Female                       4                4.0   \n",
       "4886  Small Business    Male                       3                4.0   \n",
       "4887        Salaried    Male                       4                4.0   \n",
       "\n",
       "     ProductPitched  PreferredPropertyStar MaritalStatus  NumberOfTrips  \\\n",
       "4883         Deluxe                    4.0     Unmarried            2.0   \n",
       "4884          Basic                    3.0        Single            3.0   \n",
       "4885       Standard                    4.0       Married            7.0   \n",
       "4886          Basic                    3.0        Single            3.0   \n",
       "4887          Basic                    4.0     Unmarried            3.0   \n",
       "\n",
       "      Passport  PitchSatisfactionScore  OwnCar  NumberOfChildrenVisiting  \\\n",
       "4883         1                       1       1                       1.0   \n",
       "4884         1                       3       1                       2.0   \n",
       "4885         0                       1       1                       3.0   \n",
       "4886         0                       5       0                       2.0   \n",
       "4887         1                       3       1                       2.0   \n",
       "\n",
       "         Designation  MonthlyIncome  \n",
       "4883         Manager        26576.0  \n",
       "4884       Executive        21212.0  \n",
       "4885  Senior Manager        31820.0  \n",
       "4886       Executive        20289.0  \n",
       "4887       Executive        24041.0  "
      ]
     },
     "execution_count": 4,
     "metadata": {},
     "output_type": "execute_result"
    }
   ],
   "source": [
    "data.tail()"
   ]
  },
  {
   "cell_type": "code",
   "execution_count": 5,
   "id": "4b5095a5",
   "metadata": {},
   "outputs": [
    {
     "data": {
      "text/plain": [
       "0"
      ]
     },
     "execution_count": 5,
     "metadata": {},
     "output_type": "execute_result"
    }
   ],
   "source": [
    "# check for duplicate values\n",
    "data.duplicated().sum()"
   ]
  },
  {
   "cell_type": "markdown",
   "id": "9ddd2987",
   "metadata": {},
   "source": [
    "* No duplicated values"
   ]
  },
  {
   "cell_type": "markdown",
   "id": "91f0f279",
   "metadata": {},
   "source": [
    "### The shape of the data"
   ]
  },
  {
   "cell_type": "code",
   "execution_count": 6,
   "id": "735da25e",
   "metadata": {},
   "outputs": [
    {
     "data": {
      "text/plain": [
       "(4888, 20)"
      ]
     },
     "execution_count": 6,
     "metadata": {},
     "output_type": "execute_result"
    }
   ],
   "source": [
    "data.shape"
   ]
  },
  {
   "cell_type": "markdown",
   "id": "9c5058d7",
   "metadata": {},
   "source": [
    "* there are 4888 observations with 20 rows of data"
   ]
  },
  {
   "cell_type": "code",
   "execution_count": 7,
   "id": "f080b1b7",
   "metadata": {},
   "outputs": [
    {
     "name": "stdout",
     "output_type": "stream",
     "text": [
      "<class 'pandas.core.frame.DataFrame'>\n",
      "RangeIndex: 4888 entries, 0 to 4887\n",
      "Data columns (total 20 columns):\n",
      " #   Column                    Non-Null Count  Dtype  \n",
      "---  ------                    --------------  -----  \n",
      " 0   CustomerID                4888 non-null   int64  \n",
      " 1   ProdTaken                 4888 non-null   int64  \n",
      " 2   Age                       4662 non-null   float64\n",
      " 3   TypeofContact             4863 non-null   object \n",
      " 4   CityTier                  4888 non-null   int64  \n",
      " 5   DurationOfPitch           4637 non-null   float64\n",
      " 6   Occupation                4888 non-null   object \n",
      " 7   Gender                    4888 non-null   object \n",
      " 8   NumberOfPersonVisiting    4888 non-null   int64  \n",
      " 9   NumberOfFollowups         4843 non-null   float64\n",
      " 10  ProductPitched            4888 non-null   object \n",
      " 11  PreferredPropertyStar     4862 non-null   float64\n",
      " 12  MaritalStatus             4888 non-null   object \n",
      " 13  NumberOfTrips             4748 non-null   float64\n",
      " 14  Passport                  4888 non-null   int64  \n",
      " 15  PitchSatisfactionScore    4888 non-null   int64  \n",
      " 16  OwnCar                    4888 non-null   int64  \n",
      " 17  NumberOfChildrenVisiting  4822 non-null   float64\n",
      " 18  Designation               4888 non-null   object \n",
      " 19  MonthlyIncome             4655 non-null   float64\n",
      "dtypes: float64(7), int64(7), object(6)\n",
      "memory usage: 763.9+ KB\n"
     ]
    }
   ],
   "source": [
    "data.info()"
   ]
  },
  {
   "cell_type": "markdown",
   "id": "f5b008da",
   "metadata": {},
   "source": [
    "* Need to drop Customer ID- its a duplicated value \n",
    "* TypeofContact,Occupation,Gender, ProductPitched, MaritalStatus, Designation are all objects - we will convert to categories\n",
    "* the rest of the columns are integers or float"
   ]
  },
  {
   "cell_type": "markdown",
   "id": "f20f451b",
   "metadata": {},
   "source": [
    "#### We can drop CustomerID since its a duplicate identifier and is not needed. "
   ]
  },
  {
   "cell_type": "code",
   "execution_count": 8,
   "id": "675371e3",
   "metadata": {},
   "outputs": [],
   "source": [
    "data.drop([\"CustomerID\"], axis=1, inplace=True)"
   ]
  },
  {
   "cell_type": "markdown",
   "id": "d77813b3",
   "metadata": {},
   "source": [
    "#### Change object to category to improve computational efficiency"
   ]
  },
  {
   "cell_type": "code",
   "execution_count": 9,
   "id": "8f918310",
   "metadata": {},
   "outputs": [
    {
     "data": {
      "text/html": [
       "<div>\n",
       "<style scoped>\n",
       "    .dataframe tbody tr th:only-of-type {\n",
       "        vertical-align: middle;\n",
       "    }\n",
       "\n",
       "    .dataframe tbody tr th {\n",
       "        vertical-align: top;\n",
       "    }\n",
       "\n",
       "    .dataframe thead th {\n",
       "        text-align: right;\n",
       "    }\n",
       "</style>\n",
       "<table border=\"1\" class=\"dataframe\">\n",
       "  <thead>\n",
       "    <tr style=\"text-align: right;\">\n",
       "      <th></th>\n",
       "      <th>ProdTaken</th>\n",
       "      <th>Age</th>\n",
       "      <th>TypeofContact</th>\n",
       "      <th>CityTier</th>\n",
       "      <th>DurationOfPitch</th>\n",
       "      <th>Occupation</th>\n",
       "      <th>Gender</th>\n",
       "      <th>NumberOfPersonVisiting</th>\n",
       "      <th>NumberOfFollowups</th>\n",
       "      <th>ProductPitched</th>\n",
       "      <th>PreferredPropertyStar</th>\n",
       "      <th>MaritalStatus</th>\n",
       "      <th>NumberOfTrips</th>\n",
       "      <th>Passport</th>\n",
       "      <th>PitchSatisfactionScore</th>\n",
       "      <th>OwnCar</th>\n",
       "      <th>NumberOfChildrenVisiting</th>\n",
       "      <th>Designation</th>\n",
       "      <th>MonthlyIncome</th>\n",
       "    </tr>\n",
       "  </thead>\n",
       "  <tbody>\n",
       "    <tr>\n",
       "      <th>0</th>\n",
       "      <td>1</td>\n",
       "      <td>41.0</td>\n",
       "      <td>Self Enquiry</td>\n",
       "      <td>3</td>\n",
       "      <td>6.0</td>\n",
       "      <td>Salaried</td>\n",
       "      <td>Female</td>\n",
       "      <td>3</td>\n",
       "      <td>3.0</td>\n",
       "      <td>Deluxe</td>\n",
       "      <td>3.0</td>\n",
       "      <td>Single</td>\n",
       "      <td>1.0</td>\n",
       "      <td>1</td>\n",
       "      <td>2</td>\n",
       "      <td>1</td>\n",
       "      <td>0.0</td>\n",
       "      <td>Manager</td>\n",
       "      <td>20993.0</td>\n",
       "    </tr>\n",
       "    <tr>\n",
       "      <th>1</th>\n",
       "      <td>0</td>\n",
       "      <td>49.0</td>\n",
       "      <td>Company Invited</td>\n",
       "      <td>1</td>\n",
       "      <td>14.0</td>\n",
       "      <td>Salaried</td>\n",
       "      <td>Male</td>\n",
       "      <td>3</td>\n",
       "      <td>4.0</td>\n",
       "      <td>Deluxe</td>\n",
       "      <td>4.0</td>\n",
       "      <td>Divorced</td>\n",
       "      <td>2.0</td>\n",
       "      <td>0</td>\n",
       "      <td>3</td>\n",
       "      <td>1</td>\n",
       "      <td>2.0</td>\n",
       "      <td>Manager</td>\n",
       "      <td>20130.0</td>\n",
       "    </tr>\n",
       "    <tr>\n",
       "      <th>2</th>\n",
       "      <td>1</td>\n",
       "      <td>37.0</td>\n",
       "      <td>Self Enquiry</td>\n",
       "      <td>1</td>\n",
       "      <td>8.0</td>\n",
       "      <td>Free Lancer</td>\n",
       "      <td>Male</td>\n",
       "      <td>3</td>\n",
       "      <td>4.0</td>\n",
       "      <td>Basic</td>\n",
       "      <td>3.0</td>\n",
       "      <td>Single</td>\n",
       "      <td>7.0</td>\n",
       "      <td>1</td>\n",
       "      <td>3</td>\n",
       "      <td>0</td>\n",
       "      <td>0.0</td>\n",
       "      <td>Executive</td>\n",
       "      <td>17090.0</td>\n",
       "    </tr>\n",
       "    <tr>\n",
       "      <th>3</th>\n",
       "      <td>0</td>\n",
       "      <td>33.0</td>\n",
       "      <td>Company Invited</td>\n",
       "      <td>1</td>\n",
       "      <td>9.0</td>\n",
       "      <td>Salaried</td>\n",
       "      <td>Female</td>\n",
       "      <td>2</td>\n",
       "      <td>3.0</td>\n",
       "      <td>Basic</td>\n",
       "      <td>3.0</td>\n",
       "      <td>Divorced</td>\n",
       "      <td>2.0</td>\n",
       "      <td>1</td>\n",
       "      <td>5</td>\n",
       "      <td>1</td>\n",
       "      <td>1.0</td>\n",
       "      <td>Executive</td>\n",
       "      <td>17909.0</td>\n",
       "    </tr>\n",
       "    <tr>\n",
       "      <th>4</th>\n",
       "      <td>0</td>\n",
       "      <td>NaN</td>\n",
       "      <td>Self Enquiry</td>\n",
       "      <td>1</td>\n",
       "      <td>8.0</td>\n",
       "      <td>Small Business</td>\n",
       "      <td>Male</td>\n",
       "      <td>2</td>\n",
       "      <td>3.0</td>\n",
       "      <td>Basic</td>\n",
       "      <td>4.0</td>\n",
       "      <td>Divorced</td>\n",
       "      <td>1.0</td>\n",
       "      <td>0</td>\n",
       "      <td>5</td>\n",
       "      <td>1</td>\n",
       "      <td>0.0</td>\n",
       "      <td>Executive</td>\n",
       "      <td>18468.0</td>\n",
       "    </tr>\n",
       "    <tr>\n",
       "      <th>5</th>\n",
       "      <td>0</td>\n",
       "      <td>32.0</td>\n",
       "      <td>Company Invited</td>\n",
       "      <td>1</td>\n",
       "      <td>8.0</td>\n",
       "      <td>Salaried</td>\n",
       "      <td>Male</td>\n",
       "      <td>3</td>\n",
       "      <td>3.0</td>\n",
       "      <td>Basic</td>\n",
       "      <td>3.0</td>\n",
       "      <td>Single</td>\n",
       "      <td>1.0</td>\n",
       "      <td>0</td>\n",
       "      <td>5</td>\n",
       "      <td>1</td>\n",
       "      <td>1.0</td>\n",
       "      <td>Executive</td>\n",
       "      <td>18068.0</td>\n",
       "    </tr>\n",
       "    <tr>\n",
       "      <th>6</th>\n",
       "      <td>0</td>\n",
       "      <td>59.0</td>\n",
       "      <td>Self Enquiry</td>\n",
       "      <td>1</td>\n",
       "      <td>9.0</td>\n",
       "      <td>Small Business</td>\n",
       "      <td>Female</td>\n",
       "      <td>2</td>\n",
       "      <td>2.0</td>\n",
       "      <td>Basic</td>\n",
       "      <td>5.0</td>\n",
       "      <td>Divorced</td>\n",
       "      <td>5.0</td>\n",
       "      <td>1</td>\n",
       "      <td>2</td>\n",
       "      <td>1</td>\n",
       "      <td>1.0</td>\n",
       "      <td>Executive</td>\n",
       "      <td>17670.0</td>\n",
       "    </tr>\n",
       "    <tr>\n",
       "      <th>7</th>\n",
       "      <td>0</td>\n",
       "      <td>30.0</td>\n",
       "      <td>Self Enquiry</td>\n",
       "      <td>1</td>\n",
       "      <td>30.0</td>\n",
       "      <td>Salaried</td>\n",
       "      <td>Male</td>\n",
       "      <td>3</td>\n",
       "      <td>3.0</td>\n",
       "      <td>Basic</td>\n",
       "      <td>3.0</td>\n",
       "      <td>Married</td>\n",
       "      <td>2.0</td>\n",
       "      <td>0</td>\n",
       "      <td>2</td>\n",
       "      <td>0</td>\n",
       "      <td>1.0</td>\n",
       "      <td>Executive</td>\n",
       "      <td>17693.0</td>\n",
       "    </tr>\n",
       "    <tr>\n",
       "      <th>8</th>\n",
       "      <td>0</td>\n",
       "      <td>38.0</td>\n",
       "      <td>Company Invited</td>\n",
       "      <td>1</td>\n",
       "      <td>29.0</td>\n",
       "      <td>Salaried</td>\n",
       "      <td>Male</td>\n",
       "      <td>2</td>\n",
       "      <td>4.0</td>\n",
       "      <td>Standard</td>\n",
       "      <td>3.0</td>\n",
       "      <td>Unmarried</td>\n",
       "      <td>1.0</td>\n",
       "      <td>0</td>\n",
       "      <td>3</td>\n",
       "      <td>0</td>\n",
       "      <td>0.0</td>\n",
       "      <td>Senior Manager</td>\n",
       "      <td>24526.0</td>\n",
       "    </tr>\n",
       "    <tr>\n",
       "      <th>9</th>\n",
       "      <td>0</td>\n",
       "      <td>36.0</td>\n",
       "      <td>Self Enquiry</td>\n",
       "      <td>1</td>\n",
       "      <td>33.0</td>\n",
       "      <td>Small Business</td>\n",
       "      <td>Male</td>\n",
       "      <td>3</td>\n",
       "      <td>3.0</td>\n",
       "      <td>Deluxe</td>\n",
       "      <td>3.0</td>\n",
       "      <td>Divorced</td>\n",
       "      <td>7.0</td>\n",
       "      <td>0</td>\n",
       "      <td>3</td>\n",
       "      <td>1</td>\n",
       "      <td>0.0</td>\n",
       "      <td>Manager</td>\n",
       "      <td>20237.0</td>\n",
       "    </tr>\n",
       "  </tbody>\n",
       "</table>\n",
       "</div>"
      ],
      "text/plain": [
       "   ProdTaken   Age    TypeofContact  CityTier  DurationOfPitch  \\\n",
       "0          1  41.0     Self Enquiry         3              6.0   \n",
       "1          0  49.0  Company Invited         1             14.0   \n",
       "2          1  37.0     Self Enquiry         1              8.0   \n",
       "3          0  33.0  Company Invited         1              9.0   \n",
       "4          0   NaN     Self Enquiry         1              8.0   \n",
       "5          0  32.0  Company Invited         1              8.0   \n",
       "6          0  59.0     Self Enquiry         1              9.0   \n",
       "7          0  30.0     Self Enquiry         1             30.0   \n",
       "8          0  38.0  Company Invited         1             29.0   \n",
       "9          0  36.0     Self Enquiry         1             33.0   \n",
       "\n",
       "       Occupation  Gender  NumberOfPersonVisiting  NumberOfFollowups  \\\n",
       "0        Salaried  Female                       3                3.0   \n",
       "1        Salaried    Male                       3                4.0   \n",
       "2     Free Lancer    Male                       3                4.0   \n",
       "3        Salaried  Female                       2                3.0   \n",
       "4  Small Business    Male                       2                3.0   \n",
       "5        Salaried    Male                       3                3.0   \n",
       "6  Small Business  Female                       2                2.0   \n",
       "7        Salaried    Male                       3                3.0   \n",
       "8        Salaried    Male                       2                4.0   \n",
       "9  Small Business    Male                       3                3.0   \n",
       "\n",
       "  ProductPitched  PreferredPropertyStar MaritalStatus  NumberOfTrips  \\\n",
       "0         Deluxe                    3.0        Single            1.0   \n",
       "1         Deluxe                    4.0      Divorced            2.0   \n",
       "2          Basic                    3.0        Single            7.0   \n",
       "3          Basic                    3.0      Divorced            2.0   \n",
       "4          Basic                    4.0      Divorced            1.0   \n",
       "5          Basic                    3.0        Single            1.0   \n",
       "6          Basic                    5.0      Divorced            5.0   \n",
       "7          Basic                    3.0       Married            2.0   \n",
       "8       Standard                    3.0     Unmarried            1.0   \n",
       "9         Deluxe                    3.0      Divorced            7.0   \n",
       "\n",
       "   Passport  PitchSatisfactionScore  OwnCar  NumberOfChildrenVisiting  \\\n",
       "0         1                       2       1                       0.0   \n",
       "1         0                       3       1                       2.0   \n",
       "2         1                       3       0                       0.0   \n",
       "3         1                       5       1                       1.0   \n",
       "4         0                       5       1                       0.0   \n",
       "5         0                       5       1                       1.0   \n",
       "6         1                       2       1                       1.0   \n",
       "7         0                       2       0                       1.0   \n",
       "8         0                       3       0                       0.0   \n",
       "9         0                       3       1                       0.0   \n",
       "\n",
       "      Designation  MonthlyIncome  \n",
       "0         Manager        20993.0  \n",
       "1         Manager        20130.0  \n",
       "2       Executive        17090.0  \n",
       "3       Executive        17909.0  \n",
       "4       Executive        18468.0  \n",
       "5       Executive        18068.0  \n",
       "6       Executive        17670.0  \n",
       "7       Executive        17693.0  \n",
       "8  Senior Manager        24526.0  \n",
       "9         Manager        20237.0  "
      ]
     },
     "execution_count": 9,
     "metadata": {},
     "output_type": "execute_result"
    }
   ],
   "source": [
    "for feature in data.columns: # Loop through all columns in the dataframe\n",
    "    if data[feature].dtype == 'object': # Only apply for columns with categorical strings\n",
    "        data[feature] = pd.Categorical(data[feature])# Replace strings with an integer\n",
    "data.head(10)"
   ]
  },
  {
   "cell_type": "markdown",
   "id": "dde60bb8",
   "metadata": {},
   "source": [
    "#### convert some observations into category which resembles their true nature"
   ]
  },
  {
   "cell_type": "code",
   "execution_count": 10,
   "id": "22554fb8",
   "metadata": {},
   "outputs": [],
   "source": [
    "data['CityTier']= data['CityTier'].astype('category')\n",
    "data['PreferredPropertyStar'] = data['PreferredPropertyStar'].astype('category')\n",
    "data['Passport'] = data['Passport'].astype('category').astype('category')\n",
    "data['OwnCar'] = data['OwnCar'].astype('category')"
   ]
  },
  {
   "cell_type": "markdown",
   "id": "e76e7e08",
   "metadata": {},
   "source": [
    "#### number breakdown of observations"
   ]
  },
  {
   "cell_type": "code",
   "execution_count": 11,
   "id": "df86faaa",
   "metadata": {},
   "outputs": [
    {
     "name": "stdout",
     "output_type": "stream",
     "text": [
      "0    3968\n",
      "1     920\n",
      "Name: ProdTaken, dtype: int64\n",
      "------------------------------\n",
      "35.0    237\n",
      "36.0    231\n",
      "34.0    211\n",
      "31.0    203\n",
      "30.0    199\n",
      "32.0    197\n",
      "33.0    189\n",
      "37.0    185\n",
      "29.0    178\n",
      "38.0    176\n",
      "41.0    155\n",
      "39.0    150\n",
      "28.0    147\n",
      "40.0    146\n",
      "42.0    142\n",
      "27.0    138\n",
      "43.0    130\n",
      "46.0    121\n",
      "45.0    116\n",
      "26.0    106\n",
      "44.0    105\n",
      "51.0     90\n",
      "47.0     88\n",
      "50.0     86\n",
      "25.0     74\n",
      "52.0     68\n",
      "53.0     66\n",
      "48.0     65\n",
      "49.0     65\n",
      "55.0     64\n",
      "54.0     61\n",
      "56.0     58\n",
      "24.0     56\n",
      "22.0     46\n",
      "23.0     46\n",
      "59.0     44\n",
      "21.0     41\n",
      "20.0     38\n",
      "19.0     32\n",
      "58.0     31\n",
      "57.0     29\n",
      "60.0     29\n",
      "18.0     14\n",
      "61.0      9\n",
      "Name: Age, dtype: int64\n",
      "------------------------------\n",
      "Self Enquiry       3444\n",
      "Company Invited    1419\n",
      "Name: TypeofContact, dtype: int64\n",
      "------------------------------\n",
      "1    3190\n",
      "3    1500\n",
      "2     198\n",
      "Name: CityTier, dtype: int64\n",
      "------------------------------\n",
      "9.0      483\n",
      "7.0      342\n",
      "8.0      333\n",
      "6.0      307\n",
      "16.0     274\n",
      "15.0     269\n",
      "14.0     253\n",
      "10.0     244\n",
      "13.0     223\n",
      "11.0     205\n",
      "12.0     195\n",
      "17.0     172\n",
      "30.0      95\n",
      "22.0      89\n",
      "31.0      83\n",
      "23.0      79\n",
      "18.0      75\n",
      "29.0      74\n",
      "32.0      74\n",
      "25.0      73\n",
      "21.0      73\n",
      "27.0      72\n",
      "26.0      72\n",
      "24.0      70\n",
      "35.0      66\n",
      "20.0      65\n",
      "28.0      61\n",
      "33.0      57\n",
      "19.0      57\n",
      "34.0      50\n",
      "36.0      44\n",
      "5.0        6\n",
      "126.0      1\n",
      "127.0      1\n",
      "Name: DurationOfPitch, dtype: int64\n",
      "------------------------------\n",
      "Salaried          2368\n",
      "Small Business    2084\n",
      "Large Business     434\n",
      "Free Lancer          2\n",
      "Name: Occupation, dtype: int64\n",
      "------------------------------\n",
      "Male       2916\n",
      "Female     1817\n",
      "Fe Male     155\n",
      "Name: Gender, dtype: int64\n",
      "------------------------------\n",
      "3    2402\n",
      "2    1418\n",
      "4    1026\n",
      "1      39\n",
      "5       3\n",
      "Name: NumberOfPersonVisiting, dtype: int64\n",
      "------------------------------\n",
      "4.0    2068\n",
      "3.0    1466\n",
      "5.0     768\n",
      "2.0     229\n",
      "1.0     176\n",
      "6.0     136\n",
      "Name: NumberOfFollowups, dtype: int64\n",
      "------------------------------\n",
      "Basic           1842\n",
      "Deluxe          1732\n",
      "Standard         742\n",
      "Super Deluxe     342\n",
      "King             230\n",
      "Name: ProductPitched, dtype: int64\n",
      "------------------------------\n",
      "3.0    2993\n",
      "5.0     956\n",
      "4.0     913\n",
      "Name: PreferredPropertyStar, dtype: int64\n",
      "------------------------------\n",
      "Married      2340\n",
      "Divorced      950\n",
      "Single        916\n",
      "Unmarried     682\n",
      "Name: MaritalStatus, dtype: int64\n",
      "------------------------------\n",
      "2.0     1464\n",
      "3.0     1079\n",
      "1.0      620\n",
      "4.0      478\n",
      "5.0      458\n",
      "6.0      322\n",
      "7.0      218\n",
      "8.0      105\n",
      "19.0       1\n",
      "21.0       1\n",
      "20.0       1\n",
      "22.0       1\n",
      "Name: NumberOfTrips, dtype: int64\n",
      "------------------------------\n",
      "0    3466\n",
      "1    1422\n",
      "Name: Passport, dtype: int64\n",
      "------------------------------\n",
      "3    1478\n",
      "5     970\n",
      "1     942\n",
      "4     912\n",
      "2     586\n",
      "Name: PitchSatisfactionScore, dtype: int64\n",
      "------------------------------\n",
      "1    3032\n",
      "0    1856\n",
      "Name: OwnCar, dtype: int64\n",
      "------------------------------\n",
      "1.0    2080\n",
      "2.0    1335\n",
      "0.0    1082\n",
      "3.0     325\n",
      "Name: NumberOfChildrenVisiting, dtype: int64\n",
      "------------------------------\n",
      "Executive         1842\n",
      "Manager           1732\n",
      "Senior Manager     742\n",
      "AVP                342\n",
      "VP                 230\n",
      "Name: Designation, dtype: int64\n",
      "------------------------------\n"
     ]
    }
   ],
   "source": [
    "cat_cols=['ProdTaken','Age','TypeofContact','CityTier','DurationOfPitch','Occupation','Gender','NumberOfPersonVisiting','NumberOfFollowups','ProductPitched','PreferredPropertyStar','MaritalStatus','NumberOfTrips','Passport','PitchSatisfactionScore','OwnCar','NumberOfChildrenVisiting','Designation']\n",
    "\n",
    "for column in cat_cols:\n",
    "    print(data[column].value_counts())\n",
    "    print('-'*30)"
   ]
  },
  {
   "cell_type": "markdown",
   "id": "224e84da",
   "metadata": {},
   "source": [
    "#### Number of unique values in each column"
   ]
  },
  {
   "cell_type": "code",
   "execution_count": 12,
   "id": "aa3b5bc8",
   "metadata": {},
   "outputs": [
    {
     "data": {
      "text/plain": [
       "MonthlyIncome               2475\n",
       "Age                           44\n",
       "DurationOfPitch               34\n",
       "NumberOfTrips                 12\n",
       "NumberOfFollowups              6\n",
       "Designation                    5\n",
       "PitchSatisfactionScore         5\n",
       "ProductPitched                 5\n",
       "NumberOfPersonVisiting         5\n",
       "MaritalStatus                  4\n",
       "Occupation                     4\n",
       "NumberOfChildrenVisiting       4\n",
       "Gender                         3\n",
       "PreferredPropertyStar          3\n",
       "CityTier                       3\n",
       "Passport                       2\n",
       "OwnCar                         2\n",
       "TypeofContact                  2\n",
       "ProdTaken                      2\n",
       "dtype: int64"
      ]
     },
     "execution_count": 12,
     "metadata": {},
     "output_type": "execute_result"
    }
   ],
   "source": [
    "data.nunique().sort_values(ascending=False)"
   ]
  },
  {
   "cell_type": "markdown",
   "id": "00252e48",
   "metadata": {},
   "source": [
    "#### Correcting the syntax of Gender Fe Male and Female are combined "
   ]
  },
  {
   "cell_type": "code",
   "execution_count": 13,
   "id": "0344b807",
   "metadata": {
    "scrolled": true
   },
   "outputs": [
    {
     "data": {
      "text/plain": [
       "count     4888\n",
       "unique       2\n",
       "top       Male\n",
       "freq      2916\n",
       "Name: Gender, dtype: object"
      ]
     },
     "execution_count": 13,
     "metadata": {},
     "output_type": "execute_result"
    }
   ],
   "source": [
    "# Correcting Gender- by merging Fe Male and Female\n",
    "data[\"Gender\"] = data[\"Gender\"].str.replace(\"Fe Male\", \"Female\")\n",
    "data[\"Gender\"].describe()"
   ]
  },
  {
   "cell_type": "markdown",
   "id": "a7d1063a",
   "metadata": {},
   "source": [
    "### Data Preprocessing\n",
    "- Missing value treatment (if needed)\n",
    "- Feature engineering\n",
    "- Outlier detection and treatment (if needed)\n",
    "- Preparing data for modeling\n",
    "- Any other preprocessing steps (if needed)"
   ]
  },
  {
   "cell_type": "markdown",
   "id": "654ecd8c",
   "metadata": {},
   "source": [
    "### Check for missingness"
   ]
  },
  {
   "cell_type": "code",
   "execution_count": 14,
   "id": "1a3eb48c",
   "metadata": {},
   "outputs": [
    {
     "data": {
      "text/plain": [
       "DurationOfPitch             251\n",
       "MonthlyIncome               233\n",
       "Age                         226\n",
       "NumberOfTrips               140\n",
       "NumberOfChildrenVisiting     66\n",
       "NumberOfFollowups            45\n",
       "PreferredPropertyStar        26\n",
       "TypeofContact                25\n",
       "Designation                   0\n",
       "OwnCar                        0\n",
       "PitchSatisfactionScore        0\n",
       "Passport                      0\n",
       "ProdTaken                     0\n",
       "MaritalStatus                 0\n",
       "NumberOfPersonVisiting        0\n",
       "Gender                        0\n",
       "Occupation                    0\n",
       "CityTier                      0\n",
       "ProductPitched                0\n",
       "dtype: int64"
      ]
     },
     "execution_count": 14,
     "metadata": {},
     "output_type": "execute_result"
    }
   ],
   "source": [
    "#check for missing data\n",
    "data.isna().sum().sort_values(ascending=False)"
   ]
  },
  {
   "cell_type": "code",
   "execution_count": 15,
   "id": "bac455cb",
   "metadata": {},
   "outputs": [
    {
     "name": "stdout",
     "output_type": "stream",
     "text": [
      "      ProdTaken   Age TypeofContact CityTier  DurationOfPitch      Occupation  \\\n",
      "224           0  31.0           NaN        1              NaN  Small Business   \n",
      "571           0  26.0           NaN        1              NaN        Salaried   \n",
      "572           0  29.0           NaN        1              NaN  Small Business   \n",
      "576           0  27.0           NaN        3              NaN  Small Business   \n",
      "579           0  34.0           NaN        1              NaN  Small Business   \n",
      "598           1  28.0           NaN        1              NaN  Small Business   \n",
      "622           0  32.0           NaN        3              NaN        Salaried   \n",
      "724           0  24.0           NaN        1              NaN  Small Business   \n",
      "843           0  26.0           NaN        1              NaN  Small Business   \n",
      "1021          1  25.0           NaN        3              NaN        Salaried   \n",
      "1047          0  33.0           NaN        3              NaN  Small Business   \n",
      "1143          0  45.0           NaN        3              NaN  Small Business   \n",
      "1182          0  36.0           NaN        1              NaN  Small Business   \n",
      "1217          0  24.0           NaN        1              NaN  Small Business   \n",
      "1356          0  41.0           NaN        3              NaN  Small Business   \n",
      "1469          0  34.0           NaN        1              NaN  Small Business   \n",
      "1694          0  31.0           NaN        1              NaN  Small Business   \n",
      "2041          0  26.0           NaN        1              NaN        Salaried   \n",
      "2042          0  29.0           NaN        1              NaN  Small Business   \n",
      "2046          0  27.0           NaN        3              NaN  Small Business   \n",
      "2049          0  34.0           NaN        1              NaN  Small Business   \n",
      "2068          1  28.0           NaN        1              NaN  Small Business   \n",
      "2092          0  32.0           NaN        3              NaN        Salaried   \n",
      "2194          0  24.0           NaN        1              NaN  Small Business   \n",
      "2313          0  26.0           NaN        1              NaN  Small Business   \n",
      "\n",
      "      Gender  NumberOfPersonVisiting  NumberOfFollowups ProductPitched  \\\n",
      "224     Male                       2                5.0         Deluxe   \n",
      "571   Female                       3                5.0          Basic   \n",
      "572   Female                       3                3.0         Deluxe   \n",
      "576     Male                       2                3.0         Deluxe   \n",
      "579   Female                       2                4.0          Basic   \n",
      "598     Male                       2                3.0          Basic   \n",
      "622     Male                       3                3.0         Deluxe   \n",
      "724   Female                       2                4.0         Deluxe   \n",
      "843     Male                       2                1.0          Basic   \n",
      "1021    Male                       3                4.0          Basic   \n",
      "1047    Male                       2                3.0         Deluxe   \n",
      "1143    Male                       2                4.0         Deluxe   \n",
      "1182  Female                       2                4.0         Deluxe   \n",
      "1217    Male                       3                1.0          Basic   \n",
      "1356  Female                       2                3.0         Deluxe   \n",
      "1469    Male                       2                1.0         Deluxe   \n",
      "1694    Male                       2                5.0         Deluxe   \n",
      "2041  Female                       3                5.0          Basic   \n",
      "2042  Female                       3                3.0         Deluxe   \n",
      "2046    Male                       2                3.0         Deluxe   \n",
      "2049  Female                       2                4.0          Basic   \n",
      "2068    Male                       2                3.0          Basic   \n",
      "2092    Male                       3                3.0         Deluxe   \n",
      "2194  Female                       2                4.0         Deluxe   \n",
      "2313    Male                       2                1.0          Basic   \n",
      "\n",
      "     PreferredPropertyStar MaritalStatus  NumberOfTrips Passport  \\\n",
      "224                    3.0      Divorced            1.0        0   \n",
      "571                    3.0       Married            4.0        0   \n",
      "572                    3.0      Divorced            5.0        0   \n",
      "576                    3.0      Divorced            1.0        0   \n",
      "579                    5.0        Single            2.0        0   \n",
      "598                    3.0        Single            7.0        0   \n",
      "622                    3.0       Married            3.0        0   \n",
      "724                    3.0       Married            2.0        0   \n",
      "843                    3.0      Divorced            2.0        0   \n",
      "1021                   5.0      Divorced            4.0        0   \n",
      "1047                   5.0      Divorced            1.0        0   \n",
      "1143                   5.0       Married            2.0        0   \n",
      "1182                   3.0       Married            1.0        0   \n",
      "1217                   3.0       Married            2.0        0   \n",
      "1356                   4.0       Married            6.0        0   \n",
      "1469                   3.0       Married            3.0        0   \n",
      "1694                   3.0       Married            1.0        0   \n",
      "2041                   3.0       Married            4.0        0   \n",
      "2042                   3.0       Married            5.0        0   \n",
      "2046                   3.0       Married            1.0        0   \n",
      "2049                   5.0        Single            2.0        0   \n",
      "2068                   3.0        Single            7.0        0   \n",
      "2092                   3.0       Married            3.0        0   \n",
      "2194                   3.0       Married            2.0        0   \n",
      "2313                   3.0       Married            2.0        0   \n",
      "\n",
      "      PitchSatisfactionScore OwnCar  NumberOfChildrenVisiting Designation  \\\n",
      "224                        3      1                       0.0     Manager   \n",
      "571                        4      1                       2.0   Executive   \n",
      "572                        2      1                       0.0     Manager   \n",
      "576                        3      0                       1.0     Manager   \n",
      "579                        2      1                       1.0   Executive   \n",
      "598                        3      0                       0.0   Executive   \n",
      "622                        2      0                       0.0     Manager   \n",
      "724                        3      1                       1.0     Manager   \n",
      "843                        5      1                       1.0   Executive   \n",
      "1021                       1      1                       0.0   Executive   \n",
      "1047                       3      0                       0.0     Manager   \n",
      "1143                       3      0                       0.0     Manager   \n",
      "1182                       5      1                       1.0     Manager   \n",
      "1217                       1      0                       0.0   Executive   \n",
      "1356                       3      1                       1.0     Manager   \n",
      "1469                       3      0                       1.0     Manager   \n",
      "1694                       3      0                       0.0     Manager   \n",
      "2041                       4      1                       0.0   Executive   \n",
      "2042                       1      0                       1.0     Manager   \n",
      "2046                       3      1                       1.0     Manager   \n",
      "2049                       1      1                       0.0   Executive   \n",
      "2068                       3      1                       1.0   Executive   \n",
      "2092                       1      0                       2.0     Manager   \n",
      "2194                       3      0                       0.0     Manager   \n",
      "2313                       5      1                       1.0   Executive   \n",
      "\n",
      "      MonthlyIncome  \n",
      "224             NaN  \n",
      "571             NaN  \n",
      "572             NaN  \n",
      "576             NaN  \n",
      "579             NaN  \n",
      "598             NaN  \n",
      "622             NaN  \n",
      "724             NaN  \n",
      "843             NaN  \n",
      "1021            NaN  \n",
      "1047            NaN  \n",
      "1143            NaN  \n",
      "1182            NaN  \n",
      "1217            NaN  \n",
      "1356            NaN  \n",
      "1469            NaN  \n",
      "1694            NaN  \n",
      "2041            NaN  \n",
      "2042            NaN  \n",
      "2046            NaN  \n",
      "2049            NaN  \n",
      "2068            NaN  \n",
      "2092            NaN  \n",
      "2194            NaN  \n",
      "2313            NaN  \n"
     ]
    }
   ],
   "source": [
    "missing_type_of_contact = data[data['TypeofContact'].isna()]\n",
    "print(missing_type_of_contact)"
   ]
  },
  {
   "cell_type": "markdown",
   "id": "e493c619",
   "metadata": {},
   "source": [
    "* Missing observations in \n",
    "> - Age, TypeofContact, DurationOfPitch, NumberOfFollowups, PreferredPropertyStar, NumberOfTrips, NumberOfChildrenVisiting, MontlyIncome"
   ]
  },
  {
   "cell_type": "code",
   "execution_count": 16,
   "id": "819b3825",
   "metadata": {},
   "outputs": [
    {
     "data": {
      "text/plain": [
       "0    4128\n",
       "1     533\n",
       "2     202\n",
       "3      25\n",
       "dtype: int64"
      ]
     },
     "execution_count": 16,
     "metadata": {},
     "output_type": "execute_result"
    }
   ],
   "source": [
    "# breakdown of number of missing values with other missing values\n",
    "num_missing = data.isnull().sum(axis=1)\n",
    "num_missing.value_counts()"
   ]
  },
  {
   "cell_type": "code",
   "execution_count": 17,
   "id": "5311291d",
   "metadata": {},
   "outputs": [
    {
     "data": {
      "text/html": [
       "<div>\n",
       "<style scoped>\n",
       "    .dataframe tbody tr th:only-of-type {\n",
       "        vertical-align: middle;\n",
       "    }\n",
       "\n",
       "    .dataframe tbody tr th {\n",
       "        vertical-align: top;\n",
       "    }\n",
       "\n",
       "    .dataframe thead th {\n",
       "        text-align: right;\n",
       "    }\n",
       "</style>\n",
       "<table border=\"1\" class=\"dataframe\">\n",
       "  <thead>\n",
       "    <tr style=\"text-align: right;\">\n",
       "      <th></th>\n",
       "      <th>ProdTaken</th>\n",
       "      <th>Age</th>\n",
       "      <th>TypeofContact</th>\n",
       "      <th>CityTier</th>\n",
       "      <th>DurationOfPitch</th>\n",
       "      <th>Occupation</th>\n",
       "      <th>Gender</th>\n",
       "      <th>NumberOfPersonVisiting</th>\n",
       "      <th>NumberOfFollowups</th>\n",
       "      <th>ProductPitched</th>\n",
       "      <th>PreferredPropertyStar</th>\n",
       "      <th>MaritalStatus</th>\n",
       "      <th>NumberOfTrips</th>\n",
       "      <th>Passport</th>\n",
       "      <th>PitchSatisfactionScore</th>\n",
       "      <th>OwnCar</th>\n",
       "      <th>NumberOfChildrenVisiting</th>\n",
       "      <th>Designation</th>\n",
       "      <th>MonthlyIncome</th>\n",
       "    </tr>\n",
       "  </thead>\n",
       "  <tbody>\n",
       "    <tr>\n",
       "      <th>3214</th>\n",
       "      <td>0</td>\n",
       "      <td>47.0</td>\n",
       "      <td>Self Enquiry</td>\n",
       "      <td>1</td>\n",
       "      <td>7.0</td>\n",
       "      <td>Small Business</td>\n",
       "      <td>Male</td>\n",
       "      <td>3</td>\n",
       "      <td>4.0</td>\n",
       "      <td>King</td>\n",
       "      <td>NaN</td>\n",
       "      <td>Married</td>\n",
       "      <td>2.0</td>\n",
       "      <td>0</td>\n",
       "      <td>5</td>\n",
       "      <td>1</td>\n",
       "      <td>2.0</td>\n",
       "      <td>VP</td>\n",
       "      <td>38305.0</td>\n",
       "    </tr>\n",
       "    <tr>\n",
       "      <th>396</th>\n",
       "      <td>0</td>\n",
       "      <td>43.0</td>\n",
       "      <td>Self Enquiry</td>\n",
       "      <td>1</td>\n",
       "      <td>NaN</td>\n",
       "      <td>Salaried</td>\n",
       "      <td>Female</td>\n",
       "      <td>3</td>\n",
       "      <td>3.0</td>\n",
       "      <td>Deluxe</td>\n",
       "      <td>3.0</td>\n",
       "      <td>Married</td>\n",
       "      <td>5.0</td>\n",
       "      <td>1</td>\n",
       "      <td>2</td>\n",
       "      <td>0</td>\n",
       "      <td>0.0</td>\n",
       "      <td>Manager</td>\n",
       "      <td>19522.0</td>\n",
       "    </tr>\n",
       "    <tr>\n",
       "      <th>1423</th>\n",
       "      <td>0</td>\n",
       "      <td>NaN</td>\n",
       "      <td>Self Enquiry</td>\n",
       "      <td>1</td>\n",
       "      <td>6.0</td>\n",
       "      <td>Salaried</td>\n",
       "      <td>Male</td>\n",
       "      <td>3</td>\n",
       "      <td>3.0</td>\n",
       "      <td>Basic</td>\n",
       "      <td>3.0</td>\n",
       "      <td>Single</td>\n",
       "      <td>1.0</td>\n",
       "      <td>0</td>\n",
       "      <td>3</td>\n",
       "      <td>0</td>\n",
       "      <td>2.0</td>\n",
       "      <td>Executive</td>\n",
       "      <td>18375.0</td>\n",
       "    </tr>\n",
       "    <tr>\n",
       "      <th>51</th>\n",
       "      <td>1</td>\n",
       "      <td>NaN</td>\n",
       "      <td>Self Enquiry</td>\n",
       "      <td>1</td>\n",
       "      <td>11.0</td>\n",
       "      <td>Large Business</td>\n",
       "      <td>Male</td>\n",
       "      <td>2</td>\n",
       "      <td>3.0</td>\n",
       "      <td>Basic</td>\n",
       "      <td>3.0</td>\n",
       "      <td>Single</td>\n",
       "      <td>2.0</td>\n",
       "      <td>1</td>\n",
       "      <td>2</td>\n",
       "      <td>1</td>\n",
       "      <td>0.0</td>\n",
       "      <td>Executive</td>\n",
       "      <td>18441.0</td>\n",
       "    </tr>\n",
       "    <tr>\n",
       "      <th>820</th>\n",
       "      <td>0</td>\n",
       "      <td>35.0</td>\n",
       "      <td>Company Invited</td>\n",
       "      <td>3</td>\n",
       "      <td>17.0</td>\n",
       "      <td>Small Business</td>\n",
       "      <td>Male</td>\n",
       "      <td>2</td>\n",
       "      <td>NaN</td>\n",
       "      <td>Deluxe</td>\n",
       "      <td>3.0</td>\n",
       "      <td>Married</td>\n",
       "      <td>2.0</td>\n",
       "      <td>0</td>\n",
       "      <td>5</td>\n",
       "      <td>0</td>\n",
       "      <td>0.0</td>\n",
       "      <td>Manager</td>\n",
       "      <td>19968.0</td>\n",
       "    </tr>\n",
       "  </tbody>\n",
       "</table>\n",
       "</div>"
      ],
      "text/plain": [
       "      ProdTaken   Age    TypeofContact CityTier  DurationOfPitch  \\\n",
       "3214          0  47.0     Self Enquiry        1              7.0   \n",
       "396           0  43.0     Self Enquiry        1              NaN   \n",
       "1423          0   NaN     Self Enquiry        1              6.0   \n",
       "51            1   NaN     Self Enquiry        1             11.0   \n",
       "820           0  35.0  Company Invited        3             17.0   \n",
       "\n",
       "          Occupation  Gender  NumberOfPersonVisiting  NumberOfFollowups  \\\n",
       "3214  Small Business    Male                       3                4.0   \n",
       "396         Salaried  Female                       3                3.0   \n",
       "1423        Salaried    Male                       3                3.0   \n",
       "51    Large Business    Male                       2                3.0   \n",
       "820   Small Business    Male                       2                NaN   \n",
       "\n",
       "     ProductPitched PreferredPropertyStar MaritalStatus  NumberOfTrips  \\\n",
       "3214           King                   NaN       Married            2.0   \n",
       "396          Deluxe                   3.0       Married            5.0   \n",
       "1423          Basic                   3.0        Single            1.0   \n",
       "51            Basic                   3.0        Single            2.0   \n",
       "820          Deluxe                   3.0       Married            2.0   \n",
       "\n",
       "     Passport  PitchSatisfactionScore OwnCar  NumberOfChildrenVisiting  \\\n",
       "3214        0                       5      1                       2.0   \n",
       "396         1                       2      0                       0.0   \n",
       "1423        0                       3      0                       2.0   \n",
       "51          1                       2      1                       0.0   \n",
       "820         0                       5      0                       0.0   \n",
       "\n",
       "     Designation  MonthlyIncome  \n",
       "3214          VP        38305.0  \n",
       "396      Manager        19522.0  \n",
       "1423   Executive        18375.0  \n",
       "51     Executive        18441.0  \n",
       "820      Manager        19968.0  "
      ]
     },
     "execution_count": 17,
     "metadata": {},
     "output_type": "execute_result"
    }
   ],
   "source": [
    "# data missing 2 or more \n",
    "data[num_missing == 1].sample(n=5)"
   ]
  },
  {
   "cell_type": "code",
   "execution_count": 18,
   "id": "9f9c1862",
   "metadata": {},
   "outputs": [
    {
     "data": {
      "text/html": [
       "<div>\n",
       "<style scoped>\n",
       "    .dataframe tbody tr th:only-of-type {\n",
       "        vertical-align: middle;\n",
       "    }\n",
       "\n",
       "    .dataframe tbody tr th {\n",
       "        vertical-align: top;\n",
       "    }\n",
       "\n",
       "    .dataframe thead th {\n",
       "        text-align: right;\n",
       "    }\n",
       "</style>\n",
       "<table border=\"1\" class=\"dataframe\">\n",
       "  <thead>\n",
       "    <tr style=\"text-align: right;\">\n",
       "      <th></th>\n",
       "      <th>CustomerID</th>\n",
       "      <th>ProdTaken</th>\n",
       "      <th>Age</th>\n",
       "      <th>TypeofContact</th>\n",
       "      <th>CityTier</th>\n",
       "      <th>DurationOfPitch</th>\n",
       "      <th>Occupation</th>\n",
       "      <th>Gender</th>\n",
       "      <th>NumberOfPersonVisiting</th>\n",
       "      <th>NumberOfFollowups</th>\n",
       "      <th>ProductPitched</th>\n",
       "      <th>PreferredPropertyStar</th>\n",
       "      <th>MaritalStatus</th>\n",
       "      <th>NumberOfTrips</th>\n",
       "      <th>Passport</th>\n",
       "      <th>PitchSatisfactionScore</th>\n",
       "      <th>OwnCar</th>\n",
       "      <th>NumberOfChildrenVisiting</th>\n",
       "      <th>Designation</th>\n",
       "      <th>MonthlyIncome</th>\n",
       "    </tr>\n",
       "  </thead>\n",
       "  <tbody>\n",
       "    <tr>\n",
       "      <th>1347</th>\n",
       "      <td>201347</td>\n",
       "      <td>0</td>\n",
       "      <td>NaN</td>\n",
       "      <td>Company Invited</td>\n",
       "      <td>2</td>\n",
       "      <td>8.0</td>\n",
       "      <td>Salaried</td>\n",
       "      <td>Male</td>\n",
       "      <td>3</td>\n",
       "      <td>4.0</td>\n",
       "      <td>Deluxe</td>\n",
       "      <td>3.0</td>\n",
       "      <td>Single</td>\n",
       "      <td>2.0</td>\n",
       "      <td>0</td>\n",
       "      <td>3</td>\n",
       "      <td>1</td>\n",
       "      <td>0.0</td>\n",
       "      <td>Manager</td>\n",
       "      <td>NaN</td>\n",
       "    </tr>\n",
       "    <tr>\n",
       "      <th>1098</th>\n",
       "      <td>201098</td>\n",
       "      <td>0</td>\n",
       "      <td>NaN</td>\n",
       "      <td>Company Invited</td>\n",
       "      <td>1</td>\n",
       "      <td>14.0</td>\n",
       "      <td>Salaried</td>\n",
       "      <td>Male</td>\n",
       "      <td>3</td>\n",
       "      <td>3.0</td>\n",
       "      <td>Deluxe</td>\n",
       "      <td>3.0</td>\n",
       "      <td>Married</td>\n",
       "      <td>4.0</td>\n",
       "      <td>1</td>\n",
       "      <td>3</td>\n",
       "      <td>1</td>\n",
       "      <td>1.0</td>\n",
       "      <td>Manager</td>\n",
       "      <td>NaN</td>\n",
       "    </tr>\n",
       "    <tr>\n",
       "      <th>1149</th>\n",
       "      <td>201149</td>\n",
       "      <td>0</td>\n",
       "      <td>NaN</td>\n",
       "      <td>Self Enquiry</td>\n",
       "      <td>1</td>\n",
       "      <td>25.0</td>\n",
       "      <td>Salaried</td>\n",
       "      <td>Male</td>\n",
       "      <td>3</td>\n",
       "      <td>4.0</td>\n",
       "      <td>Basic</td>\n",
       "      <td>5.0</td>\n",
       "      <td>Married</td>\n",
       "      <td>2.0</td>\n",
       "      <td>0</td>\n",
       "      <td>1</td>\n",
       "      <td>0</td>\n",
       "      <td>0.0</td>\n",
       "      <td>Executive</td>\n",
       "      <td>NaN</td>\n",
       "    </tr>\n",
       "    <tr>\n",
       "      <th>2324</th>\n",
       "      <td>202324</td>\n",
       "      <td>0</td>\n",
       "      <td>45.0</td>\n",
       "      <td>Self Enquiry</td>\n",
       "      <td>1</td>\n",
       "      <td>NaN</td>\n",
       "      <td>Small Business</td>\n",
       "      <td>Female</td>\n",
       "      <td>2</td>\n",
       "      <td>3.0</td>\n",
       "      <td>Basic</td>\n",
       "      <td>3.0</td>\n",
       "      <td>Married</td>\n",
       "      <td>5.0</td>\n",
       "      <td>1</td>\n",
       "      <td>3</td>\n",
       "      <td>0</td>\n",
       "      <td>1.0</td>\n",
       "      <td>Executive</td>\n",
       "      <td>NaN</td>\n",
       "    </tr>\n",
       "    <tr>\n",
       "      <th>2195</th>\n",
       "      <td>202195</td>\n",
       "      <td>1</td>\n",
       "      <td>NaN</td>\n",
       "      <td>Self Enquiry</td>\n",
       "      <td>1</td>\n",
       "      <td>20.0</td>\n",
       "      <td>Salaried</td>\n",
       "      <td>Male</td>\n",
       "      <td>2</td>\n",
       "      <td>4.0</td>\n",
       "      <td>Basic</td>\n",
       "      <td>4.0</td>\n",
       "      <td>Married</td>\n",
       "      <td>2.0</td>\n",
       "      <td>1</td>\n",
       "      <td>5</td>\n",
       "      <td>1</td>\n",
       "      <td>1.0</td>\n",
       "      <td>Executive</td>\n",
       "      <td>NaN</td>\n",
       "    </tr>\n",
       "  </tbody>\n",
       "</table>\n",
       "</div>"
      ],
      "text/plain": [
       "      CustomerID  ProdTaken   Age    TypeofContact  CityTier  DurationOfPitch  \\\n",
       "1347      201347          0   NaN  Company Invited         2              8.0   \n",
       "1098      201098          0   NaN  Company Invited         1             14.0   \n",
       "1149      201149          0   NaN     Self Enquiry         1             25.0   \n",
       "2324      202324          0  45.0     Self Enquiry         1              NaN   \n",
       "2195      202195          1   NaN     Self Enquiry         1             20.0   \n",
       "\n",
       "          Occupation  Gender  NumberOfPersonVisiting  NumberOfFollowups  \\\n",
       "1347        Salaried    Male                       3                4.0   \n",
       "1098        Salaried    Male                       3                3.0   \n",
       "1149        Salaried    Male                       3                4.0   \n",
       "2324  Small Business  Female                       2                3.0   \n",
       "2195        Salaried    Male                       2                4.0   \n",
       "\n",
       "     ProductPitched  PreferredPropertyStar MaritalStatus  NumberOfTrips  \\\n",
       "1347         Deluxe                    3.0        Single            2.0   \n",
       "1098         Deluxe                    3.0       Married            4.0   \n",
       "1149          Basic                    5.0       Married            2.0   \n",
       "2324          Basic                    3.0       Married            5.0   \n",
       "2195          Basic                    4.0       Married            2.0   \n",
       "\n",
       "      Passport  PitchSatisfactionScore  OwnCar  NumberOfChildrenVisiting  \\\n",
       "1347         0                       3       1                       0.0   \n",
       "1098         1                       3       1                       1.0   \n",
       "1149         0                       1       0                       0.0   \n",
       "2324         1                       3       0                       1.0   \n",
       "2195         1                       5       1                       1.0   \n",
       "\n",
       "     Designation  MonthlyIncome  \n",
       "1347     Manager            NaN  \n",
       "1098     Manager            NaN  \n",
       "1149   Executive            NaN  \n",
       "2324   Executive            NaN  \n",
       "2195   Executive            NaN  "
      ]
     },
     "execution_count": 18,
     "metadata": {},
     "output_type": "execute_result"
    }
   ],
   "source": [
    "df[num_missing == 2].sample(n=5)"
   ]
  },
  {
   "cell_type": "code",
   "execution_count": 19,
   "id": "940820ef",
   "metadata": {},
   "outputs": [
    {
     "data": {
      "text/html": [
       "<div>\n",
       "<style scoped>\n",
       "    .dataframe tbody tr th:only-of-type {\n",
       "        vertical-align: middle;\n",
       "    }\n",
       "\n",
       "    .dataframe tbody tr th {\n",
       "        vertical-align: top;\n",
       "    }\n",
       "\n",
       "    .dataframe thead th {\n",
       "        text-align: right;\n",
       "    }\n",
       "</style>\n",
       "<table border=\"1\" class=\"dataframe\">\n",
       "  <thead>\n",
       "    <tr style=\"text-align: right;\">\n",
       "      <th></th>\n",
       "      <th>CustomerID</th>\n",
       "      <th>ProdTaken</th>\n",
       "      <th>Age</th>\n",
       "      <th>TypeofContact</th>\n",
       "      <th>CityTier</th>\n",
       "      <th>DurationOfPitch</th>\n",
       "      <th>Occupation</th>\n",
       "      <th>Gender</th>\n",
       "      <th>NumberOfPersonVisiting</th>\n",
       "      <th>NumberOfFollowups</th>\n",
       "      <th>ProductPitched</th>\n",
       "      <th>PreferredPropertyStar</th>\n",
       "      <th>MaritalStatus</th>\n",
       "      <th>NumberOfTrips</th>\n",
       "      <th>Passport</th>\n",
       "      <th>PitchSatisfactionScore</th>\n",
       "      <th>OwnCar</th>\n",
       "      <th>NumberOfChildrenVisiting</th>\n",
       "      <th>Designation</th>\n",
       "      <th>MonthlyIncome</th>\n",
       "    </tr>\n",
       "  </thead>\n",
       "  <tbody>\n",
       "    <tr>\n",
       "      <th>1182</th>\n",
       "      <td>201182</td>\n",
       "      <td>0</td>\n",
       "      <td>36.0</td>\n",
       "      <td>NaN</td>\n",
       "      <td>1</td>\n",
       "      <td>NaN</td>\n",
       "      <td>Small Business</td>\n",
       "      <td>Female</td>\n",
       "      <td>2</td>\n",
       "      <td>4.0</td>\n",
       "      <td>Deluxe</td>\n",
       "      <td>3.0</td>\n",
       "      <td>Married</td>\n",
       "      <td>1.0</td>\n",
       "      <td>0</td>\n",
       "      <td>5</td>\n",
       "      <td>1</td>\n",
       "      <td>1.0</td>\n",
       "      <td>Manager</td>\n",
       "      <td>NaN</td>\n",
       "    </tr>\n",
       "    <tr>\n",
       "      <th>2042</th>\n",
       "      <td>202042</td>\n",
       "      <td>0</td>\n",
       "      <td>29.0</td>\n",
       "      <td>NaN</td>\n",
       "      <td>1</td>\n",
       "      <td>NaN</td>\n",
       "      <td>Small Business</td>\n",
       "      <td>Female</td>\n",
       "      <td>3</td>\n",
       "      <td>3.0</td>\n",
       "      <td>Deluxe</td>\n",
       "      <td>3.0</td>\n",
       "      <td>Married</td>\n",
       "      <td>5.0</td>\n",
       "      <td>0</td>\n",
       "      <td>1</td>\n",
       "      <td>0</td>\n",
       "      <td>1.0</td>\n",
       "      <td>Manager</td>\n",
       "      <td>NaN</td>\n",
       "    </tr>\n",
       "    <tr>\n",
       "      <th>2068</th>\n",
       "      <td>202068</td>\n",
       "      <td>1</td>\n",
       "      <td>28.0</td>\n",
       "      <td>NaN</td>\n",
       "      <td>1</td>\n",
       "      <td>NaN</td>\n",
       "      <td>Small Business</td>\n",
       "      <td>Male</td>\n",
       "      <td>2</td>\n",
       "      <td>3.0</td>\n",
       "      <td>Basic</td>\n",
       "      <td>3.0</td>\n",
       "      <td>Single</td>\n",
       "      <td>7.0</td>\n",
       "      <td>0</td>\n",
       "      <td>3</td>\n",
       "      <td>1</td>\n",
       "      <td>1.0</td>\n",
       "      <td>Executive</td>\n",
       "      <td>NaN</td>\n",
       "    </tr>\n",
       "    <tr>\n",
       "      <th>1694</th>\n",
       "      <td>201694</td>\n",
       "      <td>0</td>\n",
       "      <td>31.0</td>\n",
       "      <td>NaN</td>\n",
       "      <td>1</td>\n",
       "      <td>NaN</td>\n",
       "      <td>Small Business</td>\n",
       "      <td>Male</td>\n",
       "      <td>2</td>\n",
       "      <td>5.0</td>\n",
       "      <td>Deluxe</td>\n",
       "      <td>3.0</td>\n",
       "      <td>Married</td>\n",
       "      <td>1.0</td>\n",
       "      <td>0</td>\n",
       "      <td>3</td>\n",
       "      <td>0</td>\n",
       "      <td>0.0</td>\n",
       "      <td>Manager</td>\n",
       "      <td>NaN</td>\n",
       "    </tr>\n",
       "    <tr>\n",
       "      <th>1047</th>\n",
       "      <td>201047</td>\n",
       "      <td>0</td>\n",
       "      <td>33.0</td>\n",
       "      <td>NaN</td>\n",
       "      <td>3</td>\n",
       "      <td>NaN</td>\n",
       "      <td>Small Business</td>\n",
       "      <td>Male</td>\n",
       "      <td>2</td>\n",
       "      <td>3.0</td>\n",
       "      <td>Deluxe</td>\n",
       "      <td>5.0</td>\n",
       "      <td>Divorced</td>\n",
       "      <td>1.0</td>\n",
       "      <td>0</td>\n",
       "      <td>3</td>\n",
       "      <td>0</td>\n",
       "      <td>0.0</td>\n",
       "      <td>Manager</td>\n",
       "      <td>NaN</td>\n",
       "    </tr>\n",
       "  </tbody>\n",
       "</table>\n",
       "</div>"
      ],
      "text/plain": [
       "      CustomerID  ProdTaken   Age TypeofContact  CityTier  DurationOfPitch  \\\n",
       "1182      201182          0  36.0           NaN         1              NaN   \n",
       "2042      202042          0  29.0           NaN         1              NaN   \n",
       "2068      202068          1  28.0           NaN         1              NaN   \n",
       "1694      201694          0  31.0           NaN         1              NaN   \n",
       "1047      201047          0  33.0           NaN         3              NaN   \n",
       "\n",
       "          Occupation  Gender  NumberOfPersonVisiting  NumberOfFollowups  \\\n",
       "1182  Small Business  Female                       2                4.0   \n",
       "2042  Small Business  Female                       3                3.0   \n",
       "2068  Small Business    Male                       2                3.0   \n",
       "1694  Small Business    Male                       2                5.0   \n",
       "1047  Small Business    Male                       2                3.0   \n",
       "\n",
       "     ProductPitched  PreferredPropertyStar MaritalStatus  NumberOfTrips  \\\n",
       "1182         Deluxe                    3.0       Married            1.0   \n",
       "2042         Deluxe                    3.0       Married            5.0   \n",
       "2068          Basic                    3.0        Single            7.0   \n",
       "1694         Deluxe                    3.0       Married            1.0   \n",
       "1047         Deluxe                    5.0      Divorced            1.0   \n",
       "\n",
       "      Passport  PitchSatisfactionScore  OwnCar  NumberOfChildrenVisiting  \\\n",
       "1182         0                       5       1                       1.0   \n",
       "2042         0                       1       0                       1.0   \n",
       "2068         0                       3       1                       1.0   \n",
       "1694         0                       3       0                       0.0   \n",
       "1047         0                       3       0                       0.0   \n",
       "\n",
       "     Designation  MonthlyIncome  \n",
       "1182     Manager            NaN  \n",
       "2042     Manager            NaN  \n",
       "2068   Executive            NaN  \n",
       "1694     Manager            NaN  \n",
       "1047     Manager            NaN  "
      ]
     },
     "execution_count": 19,
     "metadata": {},
     "output_type": "execute_result"
    }
   ],
   "source": [
    "df[num_missing == 3].sample(n=5)"
   ]
  },
  {
   "cell_type": "markdown",
   "id": "51055cc7",
   "metadata": {},
   "source": [
    "#### Imputing values into the missing variables\n",
    "* Use Mode values for categoric data and used rounded mean values for integer and float values. \n",
    "* Used round method because there are no decimals in the data, this will stay in alignment with the general data\n",
    "* the missing data isnt enough to sway the overall performance- we would like to keep the observations for the other data"
   ]
  },
  {
   "cell_type": "markdown",
   "id": "464886c2",
   "metadata": {},
   "source": [
    "#### Using Hist_Gradient_Boosting to impute missing values for a more precise adjustment for missingness."
   ]
  },
  {
   "cell_type": "markdown",
   "id": "11fdb42b",
   "metadata": {},
   "source": [
    "#### imputing for \"TypeofContact\""
   ]
  },
  {
   "cell_type": "code",
   "execution_count": 20,
   "id": "fcca2699",
   "metadata": {},
   "outputs": [],
   "source": [
    "# Create a copy of the DataFrame\n",
    "impute_data = data.copy()"
   ]
  },
  {
   "cell_type": "code",
   "execution_count": 21,
   "id": "ac47cdf6",
   "metadata": {},
   "outputs": [],
   "source": [
    "# Filter the DataFrame to exclude rows with missing 'TypeofContact'\n",
    "not_missing_data = impute_data[~impute_data['TypeofContact'].isna()]"
   ]
  },
  {
   "cell_type": "code",
   "execution_count": 22,
   "id": "d278310f",
   "metadata": {},
   "outputs": [],
   "source": [
    "# Select the relevant features for training the model\n",
    "features = ['DurationOfPitch', 'MonthlyIncome', 'Age', 'NumberOfTrips', 'NumberOfChildrenVisiting', 'NumberOfFollowups', 'PreferredPropertyStar']\n"
   ]
  },
  {
   "cell_type": "code",
   "execution_count": 23,
   "id": "506e6459",
   "metadata": {},
   "outputs": [],
   "source": [
    "# Create X and y for training the model\n",
    "X = not_missing_data[features]\n",
    "y = not_missing_data['TypeofContact']"
   ]
  },
  {
   "cell_type": "code",
   "execution_count": 24,
   "id": "58e218d1",
   "metadata": {},
   "outputs": [],
   "source": [
    "# Initialize the  classifier\n",
    "gb_classifierTOC = HistGradientBoostingClassifier()"
   ]
  },
  {
   "cell_type": "code",
   "execution_count": 25,
   "id": "0982ff51",
   "metadata": {},
   "outputs": [
    {
     "data": {
      "text/html": [
       "<style>#sk-container-id-1 {color: black;background-color: white;}#sk-container-id-1 pre{padding: 0;}#sk-container-id-1 div.sk-toggleable {background-color: white;}#sk-container-id-1 label.sk-toggleable__label {cursor: pointer;display: block;width: 100%;margin-bottom: 0;padding: 0.3em;box-sizing: border-box;text-align: center;}#sk-container-id-1 label.sk-toggleable__label-arrow:before {content: \"▸\";float: left;margin-right: 0.25em;color: #696969;}#sk-container-id-1 label.sk-toggleable__label-arrow:hover:before {color: black;}#sk-container-id-1 div.sk-estimator:hover label.sk-toggleable__label-arrow:before {color: black;}#sk-container-id-1 div.sk-toggleable__content {max-height: 0;max-width: 0;overflow: hidden;text-align: left;background-color: #f0f8ff;}#sk-container-id-1 div.sk-toggleable__content pre {margin: 0.2em;color: black;border-radius: 0.25em;background-color: #f0f8ff;}#sk-container-id-1 input.sk-toggleable__control:checked~div.sk-toggleable__content {max-height: 200px;max-width: 100%;overflow: auto;}#sk-container-id-1 input.sk-toggleable__control:checked~label.sk-toggleable__label-arrow:before {content: \"▾\";}#sk-container-id-1 div.sk-estimator input.sk-toggleable__control:checked~label.sk-toggleable__label {background-color: #d4ebff;}#sk-container-id-1 div.sk-label input.sk-toggleable__control:checked~label.sk-toggleable__label {background-color: #d4ebff;}#sk-container-id-1 input.sk-hidden--visually {border: 0;clip: rect(1px 1px 1px 1px);clip: rect(1px, 1px, 1px, 1px);height: 1px;margin: -1px;overflow: hidden;padding: 0;position: absolute;width: 1px;}#sk-container-id-1 div.sk-estimator {font-family: monospace;background-color: #f0f8ff;border: 1px dotted black;border-radius: 0.25em;box-sizing: border-box;margin-bottom: 0.5em;}#sk-container-id-1 div.sk-estimator:hover {background-color: #d4ebff;}#sk-container-id-1 div.sk-parallel-item::after {content: \"\";width: 100%;border-bottom: 1px solid gray;flex-grow: 1;}#sk-container-id-1 div.sk-label:hover label.sk-toggleable__label {background-color: #d4ebff;}#sk-container-id-1 div.sk-serial::before {content: \"\";position: absolute;border-left: 1px solid gray;box-sizing: border-box;top: 0;bottom: 0;left: 50%;z-index: 0;}#sk-container-id-1 div.sk-serial {display: flex;flex-direction: column;align-items: center;background-color: white;padding-right: 0.2em;padding-left: 0.2em;position: relative;}#sk-container-id-1 div.sk-item {position: relative;z-index: 1;}#sk-container-id-1 div.sk-parallel {display: flex;align-items: stretch;justify-content: center;background-color: white;position: relative;}#sk-container-id-1 div.sk-item::before, #sk-container-id-1 div.sk-parallel-item::before {content: \"\";position: absolute;border-left: 1px solid gray;box-sizing: border-box;top: 0;bottom: 0;left: 50%;z-index: -1;}#sk-container-id-1 div.sk-parallel-item {display: flex;flex-direction: column;z-index: 1;position: relative;background-color: white;}#sk-container-id-1 div.sk-parallel-item:first-child::after {align-self: flex-end;width: 50%;}#sk-container-id-1 div.sk-parallel-item:last-child::after {align-self: flex-start;width: 50%;}#sk-container-id-1 div.sk-parallel-item:only-child::after {width: 0;}#sk-container-id-1 div.sk-dashed-wrapped {border: 1px dashed gray;margin: 0 0.4em 0.5em 0.4em;box-sizing: border-box;padding-bottom: 0.4em;background-color: white;}#sk-container-id-1 div.sk-label label {font-family: monospace;font-weight: bold;display: inline-block;line-height: 1.2em;}#sk-container-id-1 div.sk-label-container {text-align: center;}#sk-container-id-1 div.sk-container {/* jupyter's `normalize.less` sets `[hidden] { display: none; }` but bootstrap.min.css set `[hidden] { display: none !important; }` so we also need the `!important` here to be able to override the default hidden behavior on the sphinx rendered scikit-learn.org. See: https://github.com/scikit-learn/scikit-learn/issues/21755 */display: inline-block !important;position: relative;}#sk-container-id-1 div.sk-text-repr-fallback {display: none;}</style><div id=\"sk-container-id-1\" class=\"sk-top-container\"><div class=\"sk-text-repr-fallback\"><pre>HistGradientBoostingClassifier()</pre><b>In a Jupyter environment, please rerun this cell to show the HTML representation or trust the notebook. <br />On GitHub, the HTML representation is unable to render, please try loading this page with nbviewer.org.</b></div><div class=\"sk-container\" hidden><div class=\"sk-item\"><div class=\"sk-estimator sk-toggleable\"><input class=\"sk-toggleable__control sk-hidden--visually\" id=\"sk-estimator-id-1\" type=\"checkbox\" checked><label for=\"sk-estimator-id-1\" class=\"sk-toggleable__label sk-toggleable__label-arrow\">HistGradientBoostingClassifier</label><div class=\"sk-toggleable__content\"><pre>HistGradientBoostingClassifier()</pre></div></div></div></div></div>"
      ],
      "text/plain": [
       "HistGradientBoostingClassifier()"
      ]
     },
     "execution_count": 25,
     "metadata": {},
     "output_type": "execute_result"
    }
   ],
   "source": [
    "# Fit the classifier on the imputed data\n",
    "gb_classifierTOC.fit(X, y)"
   ]
  },
  {
   "cell_type": "code",
   "execution_count": 26,
   "id": "1a523a1e",
   "metadata": {},
   "outputs": [],
   "source": [
    "# Filter the DataFrame to include only rows with missing 'TypeofContact'\n",
    "missing_data = impute_data[impute_data['TypeofContact'].isna()]\n",
    "\n",
    "# Use the trained classifier to predict the missing values\n",
    "imputed_values = gb_classifierTOC.predict(missing_data[features])\n"
   ]
  },
  {
   "cell_type": "code",
   "execution_count": 27,
   "id": "bf806beb",
   "metadata": {},
   "outputs": [
    {
     "name": "stdout",
     "output_type": "stream",
     "text": [
      "      ProdTaken   Age TypeofContact CityTier  DurationOfPitch      Occupation  \\\n",
      "224           0  31.0           NaN        1              NaN  Small Business   \n",
      "571           0  26.0           NaN        1              NaN        Salaried   \n",
      "572           0  29.0           NaN        1              NaN  Small Business   \n",
      "576           0  27.0           NaN        3              NaN  Small Business   \n",
      "579           0  34.0           NaN        1              NaN  Small Business   \n",
      "598           1  28.0           NaN        1              NaN  Small Business   \n",
      "622           0  32.0           NaN        3              NaN        Salaried   \n",
      "724           0  24.0           NaN        1              NaN  Small Business   \n",
      "843           0  26.0           NaN        1              NaN  Small Business   \n",
      "1021          1  25.0           NaN        3              NaN        Salaried   \n",
      "1047          0  33.0           NaN        3              NaN  Small Business   \n",
      "1143          0  45.0           NaN        3              NaN  Small Business   \n",
      "1182          0  36.0           NaN        1              NaN  Small Business   \n",
      "1217          0  24.0           NaN        1              NaN  Small Business   \n",
      "1356          0  41.0           NaN        3              NaN  Small Business   \n",
      "1469          0  34.0           NaN        1              NaN  Small Business   \n",
      "1694          0  31.0           NaN        1              NaN  Small Business   \n",
      "2041          0  26.0           NaN        1              NaN        Salaried   \n",
      "2042          0  29.0           NaN        1              NaN  Small Business   \n",
      "2046          0  27.0           NaN        3              NaN  Small Business   \n",
      "2049          0  34.0           NaN        1              NaN  Small Business   \n",
      "2068          1  28.0           NaN        1              NaN  Small Business   \n",
      "2092          0  32.0           NaN        3              NaN        Salaried   \n",
      "2194          0  24.0           NaN        1              NaN  Small Business   \n",
      "2313          0  26.0           NaN        1              NaN  Small Business   \n",
      "\n",
      "      Gender  NumberOfPersonVisiting  NumberOfFollowups ProductPitched  \\\n",
      "224     Male                       2                5.0         Deluxe   \n",
      "571   Female                       3                5.0          Basic   \n",
      "572   Female                       3                3.0         Deluxe   \n",
      "576     Male                       2                3.0         Deluxe   \n",
      "579   Female                       2                4.0          Basic   \n",
      "598     Male                       2                3.0          Basic   \n",
      "622     Male                       3                3.0         Deluxe   \n",
      "724   Female                       2                4.0         Deluxe   \n",
      "843     Male                       2                1.0          Basic   \n",
      "1021    Male                       3                4.0          Basic   \n",
      "1047    Male                       2                3.0         Deluxe   \n",
      "1143    Male                       2                4.0         Deluxe   \n",
      "1182  Female                       2                4.0         Deluxe   \n",
      "1217    Male                       3                1.0          Basic   \n",
      "1356  Female                       2                3.0         Deluxe   \n",
      "1469    Male                       2                1.0         Deluxe   \n",
      "1694    Male                       2                5.0         Deluxe   \n",
      "2041  Female                       3                5.0          Basic   \n",
      "2042  Female                       3                3.0         Deluxe   \n",
      "2046    Male                       2                3.0         Deluxe   \n",
      "2049  Female                       2                4.0          Basic   \n",
      "2068    Male                       2                3.0          Basic   \n",
      "2092    Male                       3                3.0         Deluxe   \n",
      "2194  Female                       2                4.0         Deluxe   \n",
      "2313    Male                       2                1.0          Basic   \n",
      "\n",
      "     PreferredPropertyStar MaritalStatus  NumberOfTrips Passport  \\\n",
      "224                    3.0      Divorced            1.0        0   \n",
      "571                    3.0       Married            4.0        0   \n",
      "572                    3.0      Divorced            5.0        0   \n",
      "576                    3.0      Divorced            1.0        0   \n",
      "579                    5.0        Single            2.0        0   \n",
      "598                    3.0        Single            7.0        0   \n",
      "622                    3.0       Married            3.0        0   \n",
      "724                    3.0       Married            2.0        0   \n",
      "843                    3.0      Divorced            2.0        0   \n",
      "1021                   5.0      Divorced            4.0        0   \n",
      "1047                   5.0      Divorced            1.0        0   \n",
      "1143                   5.0       Married            2.0        0   \n",
      "1182                   3.0       Married            1.0        0   \n",
      "1217                   3.0       Married            2.0        0   \n",
      "1356                   4.0       Married            6.0        0   \n",
      "1469                   3.0       Married            3.0        0   \n",
      "1694                   3.0       Married            1.0        0   \n",
      "2041                   3.0       Married            4.0        0   \n",
      "2042                   3.0       Married            5.0        0   \n",
      "2046                   3.0       Married            1.0        0   \n",
      "2049                   5.0        Single            2.0        0   \n",
      "2068                   3.0        Single            7.0        0   \n",
      "2092                   3.0       Married            3.0        0   \n",
      "2194                   3.0       Married            2.0        0   \n",
      "2313                   3.0       Married            2.0        0   \n",
      "\n",
      "      PitchSatisfactionScore OwnCar  NumberOfChildrenVisiting Designation  \\\n",
      "224                        3      1                       0.0     Manager   \n",
      "571                        4      1                       2.0   Executive   \n",
      "572                        2      1                       0.0     Manager   \n",
      "576                        3      0                       1.0     Manager   \n",
      "579                        2      1                       1.0   Executive   \n",
      "598                        3      0                       0.0   Executive   \n",
      "622                        2      0                       0.0     Manager   \n",
      "724                        3      1                       1.0     Manager   \n",
      "843                        5      1                       1.0   Executive   \n",
      "1021                       1      1                       0.0   Executive   \n",
      "1047                       3      0                       0.0     Manager   \n",
      "1143                       3      0                       0.0     Manager   \n",
      "1182                       5      1                       1.0     Manager   \n",
      "1217                       1      0                       0.0   Executive   \n",
      "1356                       3      1                       1.0     Manager   \n",
      "1469                       3      0                       1.0     Manager   \n",
      "1694                       3      0                       0.0     Manager   \n",
      "2041                       4      1                       0.0   Executive   \n",
      "2042                       1      0                       1.0     Manager   \n",
      "2046                       3      1                       1.0     Manager   \n",
      "2049                       1      1                       0.0   Executive   \n",
      "2068                       3      1                       1.0   Executive   \n",
      "2092                       1      0                       2.0     Manager   \n",
      "2194                       3      0                       0.0     Manager   \n",
      "2313                       5      1                       1.0   Executive   \n",
      "\n",
      "      MonthlyIncome ImputedTypeofContact  \n",
      "224             NaN      Company Invited  \n",
      "571             NaN         Self Enquiry  \n",
      "572             NaN         Self Enquiry  \n",
      "576             NaN         Self Enquiry  \n",
      "579             NaN         Self Enquiry  \n",
      "598             NaN         Self Enquiry  \n",
      "622             NaN         Self Enquiry  \n",
      "724             NaN         Self Enquiry  \n",
      "843             NaN         Self Enquiry  \n",
      "1021            NaN         Self Enquiry  \n",
      "1047            NaN         Self Enquiry  \n",
      "1143            NaN      Company Invited  \n",
      "1182            NaN         Self Enquiry  \n",
      "1217            NaN         Self Enquiry  \n",
      "1356            NaN      Company Invited  \n",
      "1469            NaN      Company Invited  \n",
      "1694            NaN      Company Invited  \n",
      "2041            NaN         Self Enquiry  \n",
      "2042            NaN         Self Enquiry  \n",
      "2046            NaN         Self Enquiry  \n",
      "2049            NaN         Self Enquiry  \n",
      "2068            NaN         Self Enquiry  \n",
      "2092            NaN      Company Invited  \n",
      "2194            NaN         Self Enquiry  \n",
      "2313            NaN         Self Enquiry  \n"
     ]
    }
   ],
   "source": [
    "# Create a DataFrame to store the imputed values along with their indices\n",
    "imputed_data = pd.DataFrame({'ImputedTypeofContact': imputed_values}, index=missing_data.index)\n",
    "\n",
    "# Concatenate the original missing_data DataFrame with the imputed_data DataFrame\n",
    "imputed_df = pd.concat([missing_data, imputed_data], axis=1)\n",
    "\n",
    "# Print the imputed DataFrame\n",
    "print(imputed_df)"
   ]
  },
  {
   "cell_type": "code",
   "execution_count": 28,
   "id": "9a328c74",
   "metadata": {},
   "outputs": [],
   "source": [
    "# Update the original dataframe with the imputed values\n",
    "data.loc[data['TypeofContact'].isna(), 'TypeofContact'] = imputed_values"
   ]
  },
  {
   "cell_type": "markdown",
   "id": "52841111",
   "metadata": {},
   "source": [
    "#### imputing for \"PreferredPropertyStar\""
   ]
  },
  {
   "cell_type": "code",
   "execution_count": 29,
   "id": "3646c4e8",
   "metadata": {},
   "outputs": [],
   "source": [
    "# Create a copy of the DataFrame- this may not be necessary but i would like to make it redundant to insure data integrity\n",
    "impute_data = data.copy()"
   ]
  },
  {
   "cell_type": "code",
   "execution_count": 30,
   "id": "9437a7d3",
   "metadata": {},
   "outputs": [],
   "source": [
    "# Filter the DataFrame to exclude rows with missing 'TypeofContact'\n",
    "not_missing_data = impute_data[~impute_data['PreferredPropertyStar'].isna()]"
   ]
  },
  {
   "cell_type": "code",
   "execution_count": 31,
   "id": "46ba13d0",
   "metadata": {},
   "outputs": [],
   "source": [
    "# Select the relevant features for training the model\n",
    "features = ['DurationOfPitch', 'MonthlyIncome', 'Age', 'NumberOfTrips', 'NumberOfChildrenVisiting', 'NumberOfFollowups', 'TypeofContact']\n"
   ]
  },
  {
   "cell_type": "code",
   "execution_count": 32,
   "id": "e1d5082b",
   "metadata": {},
   "outputs": [],
   "source": [
    "# Convert categorical variables to numerical representations\n",
    "label_encoder = LabelEncoder()\n",
    "not_missing_data['TypeofContact'] = label_encoder.fit_transform(not_missing_data['TypeofContact'])"
   ]
  },
  {
   "cell_type": "code",
   "execution_count": 33,
   "id": "c8c42fd0",
   "metadata": {},
   "outputs": [],
   "source": [
    "# Perform one-hot encoding on the 'TypeofContact' column\n",
    "onehot_encoder = OneHotEncoder(sparse=False)\n",
    "encoded_categories = onehot_encoder.fit_transform(not_missing_data['TypeofContact'].values.reshape(-1, 1))"
   ]
  },
  {
   "cell_type": "code",
   "execution_count": 34,
   "id": "8153c916",
   "metadata": {},
   "outputs": [],
   "source": [
    "# Create X and y for training the model\n",
    "X_categorical = encoded_categories\n",
    "X_numerical = not_missing_data[features].values\n",
    "X = np.concatenate((X_numerical, X_categorical), axis=1)\n",
    "y = not_missing_data['PreferredPropertyStar']"
   ]
  },
  {
   "cell_type": "code",
   "execution_count": 35,
   "id": "a533e3b3",
   "metadata": {},
   "outputs": [],
   "source": [
    "# Initialize the  classifier\n",
    "gb_classifierPPS = HistGradientBoostingClassifier()"
   ]
  },
  {
   "cell_type": "code",
   "execution_count": 36,
   "id": "37e4c1eb",
   "metadata": {},
   "outputs": [
    {
     "data": {
      "text/html": [
       "<style>#sk-container-id-2 {color: black;background-color: white;}#sk-container-id-2 pre{padding: 0;}#sk-container-id-2 div.sk-toggleable {background-color: white;}#sk-container-id-2 label.sk-toggleable__label {cursor: pointer;display: block;width: 100%;margin-bottom: 0;padding: 0.3em;box-sizing: border-box;text-align: center;}#sk-container-id-2 label.sk-toggleable__label-arrow:before {content: \"▸\";float: left;margin-right: 0.25em;color: #696969;}#sk-container-id-2 label.sk-toggleable__label-arrow:hover:before {color: black;}#sk-container-id-2 div.sk-estimator:hover label.sk-toggleable__label-arrow:before {color: black;}#sk-container-id-2 div.sk-toggleable__content {max-height: 0;max-width: 0;overflow: hidden;text-align: left;background-color: #f0f8ff;}#sk-container-id-2 div.sk-toggleable__content pre {margin: 0.2em;color: black;border-radius: 0.25em;background-color: #f0f8ff;}#sk-container-id-2 input.sk-toggleable__control:checked~div.sk-toggleable__content {max-height: 200px;max-width: 100%;overflow: auto;}#sk-container-id-2 input.sk-toggleable__control:checked~label.sk-toggleable__label-arrow:before {content: \"▾\";}#sk-container-id-2 div.sk-estimator input.sk-toggleable__control:checked~label.sk-toggleable__label {background-color: #d4ebff;}#sk-container-id-2 div.sk-label input.sk-toggleable__control:checked~label.sk-toggleable__label {background-color: #d4ebff;}#sk-container-id-2 input.sk-hidden--visually {border: 0;clip: rect(1px 1px 1px 1px);clip: rect(1px, 1px, 1px, 1px);height: 1px;margin: -1px;overflow: hidden;padding: 0;position: absolute;width: 1px;}#sk-container-id-2 div.sk-estimator {font-family: monospace;background-color: #f0f8ff;border: 1px dotted black;border-radius: 0.25em;box-sizing: border-box;margin-bottom: 0.5em;}#sk-container-id-2 div.sk-estimator:hover {background-color: #d4ebff;}#sk-container-id-2 div.sk-parallel-item::after {content: \"\";width: 100%;border-bottom: 1px solid gray;flex-grow: 1;}#sk-container-id-2 div.sk-label:hover label.sk-toggleable__label {background-color: #d4ebff;}#sk-container-id-2 div.sk-serial::before {content: \"\";position: absolute;border-left: 1px solid gray;box-sizing: border-box;top: 0;bottom: 0;left: 50%;z-index: 0;}#sk-container-id-2 div.sk-serial {display: flex;flex-direction: column;align-items: center;background-color: white;padding-right: 0.2em;padding-left: 0.2em;position: relative;}#sk-container-id-2 div.sk-item {position: relative;z-index: 1;}#sk-container-id-2 div.sk-parallel {display: flex;align-items: stretch;justify-content: center;background-color: white;position: relative;}#sk-container-id-2 div.sk-item::before, #sk-container-id-2 div.sk-parallel-item::before {content: \"\";position: absolute;border-left: 1px solid gray;box-sizing: border-box;top: 0;bottom: 0;left: 50%;z-index: -1;}#sk-container-id-2 div.sk-parallel-item {display: flex;flex-direction: column;z-index: 1;position: relative;background-color: white;}#sk-container-id-2 div.sk-parallel-item:first-child::after {align-self: flex-end;width: 50%;}#sk-container-id-2 div.sk-parallel-item:last-child::after {align-self: flex-start;width: 50%;}#sk-container-id-2 div.sk-parallel-item:only-child::after {width: 0;}#sk-container-id-2 div.sk-dashed-wrapped {border: 1px dashed gray;margin: 0 0.4em 0.5em 0.4em;box-sizing: border-box;padding-bottom: 0.4em;background-color: white;}#sk-container-id-2 div.sk-label label {font-family: monospace;font-weight: bold;display: inline-block;line-height: 1.2em;}#sk-container-id-2 div.sk-label-container {text-align: center;}#sk-container-id-2 div.sk-container {/* jupyter's `normalize.less` sets `[hidden] { display: none; }` but bootstrap.min.css set `[hidden] { display: none !important; }` so we also need the `!important` here to be able to override the default hidden behavior on the sphinx rendered scikit-learn.org. See: https://github.com/scikit-learn/scikit-learn/issues/21755 */display: inline-block !important;position: relative;}#sk-container-id-2 div.sk-text-repr-fallback {display: none;}</style><div id=\"sk-container-id-2\" class=\"sk-top-container\"><div class=\"sk-text-repr-fallback\"><pre>HistGradientBoostingClassifier()</pre><b>In a Jupyter environment, please rerun this cell to show the HTML representation or trust the notebook. <br />On GitHub, the HTML representation is unable to render, please try loading this page with nbviewer.org.</b></div><div class=\"sk-container\" hidden><div class=\"sk-item\"><div class=\"sk-estimator sk-toggleable\"><input class=\"sk-toggleable__control sk-hidden--visually\" id=\"sk-estimator-id-2\" type=\"checkbox\" checked><label for=\"sk-estimator-id-2\" class=\"sk-toggleable__label sk-toggleable__label-arrow\">HistGradientBoostingClassifier</label><div class=\"sk-toggleable__content\"><pre>HistGradientBoostingClassifier()</pre></div></div></div></div></div>"
      ],
      "text/plain": [
       "HistGradientBoostingClassifier()"
      ]
     },
     "execution_count": 36,
     "metadata": {},
     "output_type": "execute_result"
    }
   ],
   "source": [
    "# Fit the classifier on the imputed data\n",
    "gb_classifierPPS.fit(X, y)"
   ]
  },
  {
   "cell_type": "code",
   "execution_count": 37,
   "id": "eac6cbc9",
   "metadata": {},
   "outputs": [],
   "source": [
    "# Filter the DataFrame to include only rows with missing 'PreferredPropertyStar'\n",
    "missing_data = impute_data[impute_data['PreferredPropertyStar'].isna()]\n",
    "\n",
    "# Convert categorical variables to numerical representations\n",
    "missing_data['TypeofContact'] = label_encoder.transform(missing_data['TypeofContact'])\n",
    "\n",
    "# Perform one-hot encoding on the 'TypeofContact' column\n",
    "encoded_categories_missing = onehot_encoder.transform(missing_data['TypeofContact'].values.reshape(-1, 1))\n"
   ]
  },
  {
   "cell_type": "code",
   "execution_count": 38,
   "id": "98be04f1",
   "metadata": {},
   "outputs": [],
   "source": [
    "# Create X for the missing data\n",
    "X_categorical_missing = encoded_categories_missing\n",
    "X_numerical_missing = missing_data[features].values\n",
    "X_missing = np.concatenate((X_numerical_missing, X_categorical_missing), axis=1)"
   ]
  },
  {
   "cell_type": "code",
   "execution_count": 39,
   "id": "6800eed2",
   "metadata": {},
   "outputs": [],
   "source": [
    "# Use the trained classifier to predict the missing values\n",
    "imputed_values = gb_classifierPPS.predict(X_missing)"
   ]
  },
  {
   "cell_type": "code",
   "execution_count": 40,
   "id": "e715cbca",
   "metadata": {},
   "outputs": [],
   "source": [
    "# Update the original dataframe with the imputed values\n",
    "data.loc[data['PreferredPropertyStar'].isna(), 'PreferredPropertyStar'] = imputed_values"
   ]
  },
  {
   "cell_type": "markdown",
   "id": "a4f9a9b4",
   "metadata": {},
   "source": [
    "#### imputing for \"TypeofContact\""
   ]
  },
  {
   "cell_type": "code",
   "execution_count": 41,
   "id": "f8d6aa70",
   "metadata": {},
   "outputs": [],
   "source": [
    "# Create a copy of the DataFrame - this may not be necessary but i would like to make it redundant to insure data integrity\n",
    "impute_data = data.copy()"
   ]
  },
  {
   "cell_type": "code",
   "execution_count": 42,
   "id": "3219da13",
   "metadata": {},
   "outputs": [],
   "source": [
    "# Filter the DataFrame to exclude rows with missing 'TypeofContact'\n",
    "not_missing_data = impute_data[~impute_data['NumberOfFollowups'].isna()]"
   ]
  },
  {
   "cell_type": "code",
   "execution_count": 43,
   "id": "b0c009bd",
   "metadata": {},
   "outputs": [],
   "source": [
    "# Select the relevant features for training the model\n",
    "features = ['DurationOfPitch', 'MonthlyIncome', 'Age', 'NumberOfTrips', 'NumberOfChildrenVisiting', 'PreferredPropertyStar', 'TypeofContact']\n"
   ]
  },
  {
   "cell_type": "code",
   "execution_count": 44,
   "id": "a18a12aa",
   "metadata": {},
   "outputs": [],
   "source": [
    "# Convert categorical variables to numerical representations\n",
    "label_encoder = LabelEncoder()\n",
    "not_missing_data['TypeofContact'] = label_encoder.fit_transform(not_missing_data['TypeofContact'])"
   ]
  },
  {
   "cell_type": "code",
   "execution_count": 45,
   "id": "63fa1d52",
   "metadata": {},
   "outputs": [],
   "source": [
    "# Perform one-hot encoding on the 'TypeofContact' column\n",
    "onehot_encoder = OneHotEncoder(sparse=False)\n",
    "encoded_categories = onehot_encoder.fit_transform(not_missing_data['TypeofContact'].values.reshape(-1, 1))"
   ]
  },
  {
   "cell_type": "code",
   "execution_count": 46,
   "id": "65f8d0f7",
   "metadata": {},
   "outputs": [],
   "source": [
    "# Create X and y for training the model\n",
    "X_categorical = encoded_categories\n",
    "X_numerical = not_missing_data[features].values\n",
    "X = np.concatenate((X_numerical, X_categorical), axis=1)\n",
    "y = not_missing_data['TypeofContact']"
   ]
  },
  {
   "cell_type": "code",
   "execution_count": 47,
   "id": "20e50d58",
   "metadata": {},
   "outputs": [],
   "source": [
    "# Initialize the  classifier\n",
    "gb_classifierNOF = HistGradientBoostingClassifier()"
   ]
  },
  {
   "cell_type": "code",
   "execution_count": 48,
   "id": "f5727a14",
   "metadata": {},
   "outputs": [
    {
     "data": {
      "text/html": [
       "<style>#sk-container-id-3 {color: black;background-color: white;}#sk-container-id-3 pre{padding: 0;}#sk-container-id-3 div.sk-toggleable {background-color: white;}#sk-container-id-3 label.sk-toggleable__label {cursor: pointer;display: block;width: 100%;margin-bottom: 0;padding: 0.3em;box-sizing: border-box;text-align: center;}#sk-container-id-3 label.sk-toggleable__label-arrow:before {content: \"▸\";float: left;margin-right: 0.25em;color: #696969;}#sk-container-id-3 label.sk-toggleable__label-arrow:hover:before {color: black;}#sk-container-id-3 div.sk-estimator:hover label.sk-toggleable__label-arrow:before {color: black;}#sk-container-id-3 div.sk-toggleable__content {max-height: 0;max-width: 0;overflow: hidden;text-align: left;background-color: #f0f8ff;}#sk-container-id-3 div.sk-toggleable__content pre {margin: 0.2em;color: black;border-radius: 0.25em;background-color: #f0f8ff;}#sk-container-id-3 input.sk-toggleable__control:checked~div.sk-toggleable__content {max-height: 200px;max-width: 100%;overflow: auto;}#sk-container-id-3 input.sk-toggleable__control:checked~label.sk-toggleable__label-arrow:before {content: \"▾\";}#sk-container-id-3 div.sk-estimator input.sk-toggleable__control:checked~label.sk-toggleable__label {background-color: #d4ebff;}#sk-container-id-3 div.sk-label input.sk-toggleable__control:checked~label.sk-toggleable__label {background-color: #d4ebff;}#sk-container-id-3 input.sk-hidden--visually {border: 0;clip: rect(1px 1px 1px 1px);clip: rect(1px, 1px, 1px, 1px);height: 1px;margin: -1px;overflow: hidden;padding: 0;position: absolute;width: 1px;}#sk-container-id-3 div.sk-estimator {font-family: monospace;background-color: #f0f8ff;border: 1px dotted black;border-radius: 0.25em;box-sizing: border-box;margin-bottom: 0.5em;}#sk-container-id-3 div.sk-estimator:hover {background-color: #d4ebff;}#sk-container-id-3 div.sk-parallel-item::after {content: \"\";width: 100%;border-bottom: 1px solid gray;flex-grow: 1;}#sk-container-id-3 div.sk-label:hover label.sk-toggleable__label {background-color: #d4ebff;}#sk-container-id-3 div.sk-serial::before {content: \"\";position: absolute;border-left: 1px solid gray;box-sizing: border-box;top: 0;bottom: 0;left: 50%;z-index: 0;}#sk-container-id-3 div.sk-serial {display: flex;flex-direction: column;align-items: center;background-color: white;padding-right: 0.2em;padding-left: 0.2em;position: relative;}#sk-container-id-3 div.sk-item {position: relative;z-index: 1;}#sk-container-id-3 div.sk-parallel {display: flex;align-items: stretch;justify-content: center;background-color: white;position: relative;}#sk-container-id-3 div.sk-item::before, #sk-container-id-3 div.sk-parallel-item::before {content: \"\";position: absolute;border-left: 1px solid gray;box-sizing: border-box;top: 0;bottom: 0;left: 50%;z-index: -1;}#sk-container-id-3 div.sk-parallel-item {display: flex;flex-direction: column;z-index: 1;position: relative;background-color: white;}#sk-container-id-3 div.sk-parallel-item:first-child::after {align-self: flex-end;width: 50%;}#sk-container-id-3 div.sk-parallel-item:last-child::after {align-self: flex-start;width: 50%;}#sk-container-id-3 div.sk-parallel-item:only-child::after {width: 0;}#sk-container-id-3 div.sk-dashed-wrapped {border: 1px dashed gray;margin: 0 0.4em 0.5em 0.4em;box-sizing: border-box;padding-bottom: 0.4em;background-color: white;}#sk-container-id-3 div.sk-label label {font-family: monospace;font-weight: bold;display: inline-block;line-height: 1.2em;}#sk-container-id-3 div.sk-label-container {text-align: center;}#sk-container-id-3 div.sk-container {/* jupyter's `normalize.less` sets `[hidden] { display: none; }` but bootstrap.min.css set `[hidden] { display: none !important; }` so we also need the `!important` here to be able to override the default hidden behavior on the sphinx rendered scikit-learn.org. See: https://github.com/scikit-learn/scikit-learn/issues/21755 */display: inline-block !important;position: relative;}#sk-container-id-3 div.sk-text-repr-fallback {display: none;}</style><div id=\"sk-container-id-3\" class=\"sk-top-container\"><div class=\"sk-text-repr-fallback\"><pre>HistGradientBoostingClassifier()</pre><b>In a Jupyter environment, please rerun this cell to show the HTML representation or trust the notebook. <br />On GitHub, the HTML representation is unable to render, please try loading this page with nbviewer.org.</b></div><div class=\"sk-container\" hidden><div class=\"sk-item\"><div class=\"sk-estimator sk-toggleable\"><input class=\"sk-toggleable__control sk-hidden--visually\" id=\"sk-estimator-id-3\" type=\"checkbox\" checked><label for=\"sk-estimator-id-3\" class=\"sk-toggleable__label sk-toggleable__label-arrow\">HistGradientBoostingClassifier</label><div class=\"sk-toggleable__content\"><pre>HistGradientBoostingClassifier()</pre></div></div></div></div></div>"
      ],
      "text/plain": [
       "HistGradientBoostingClassifier()"
      ]
     },
     "execution_count": 48,
     "metadata": {},
     "output_type": "execute_result"
    }
   ],
   "source": [
    "# Fit the classifier on the imputed data\n",
    "gb_classifierNOF.fit(X, y)"
   ]
  },
  {
   "cell_type": "code",
   "execution_count": 49,
   "id": "ba5ca0c6",
   "metadata": {},
   "outputs": [],
   "source": [
    "# Filter the DataFrame to include only rows with missing 'NumberOfFollowups'\n",
    "missing_data = impute_data[impute_data['NumberOfFollowups'].isna()]\n",
    "\n",
    "# Convert categorical variables to numerical representations\n",
    "missing_data['TypeofContact'] = label_encoder.transform(missing_data['TypeofContact'])\n",
    "\n",
    "# Perform one-hot encoding on the 'TypeofContact' column\n",
    "encoded_categories_missing = onehot_encoder.transform(missing_data['TypeofContact'].values.reshape(-1, 1))"
   ]
  },
  {
   "cell_type": "code",
   "execution_count": 50,
   "id": "67473132",
   "metadata": {},
   "outputs": [],
   "source": [
    "# Create X for the missing data\n",
    "X_categorical_missing = encoded_categories_missing\n",
    "X_numerical_missing = missing_data[features].values\n",
    "X_missing = np.concatenate((X_numerical_missing, X_categorical_missing), axis=1)"
   ]
  },
  {
   "cell_type": "code",
   "execution_count": 51,
   "id": "9e238b4c",
   "metadata": {},
   "outputs": [],
   "source": [
    "# Use the trained classifier to predict the missing values\n",
    "imputed_values = gb_classifierNOF.predict(X_missing)"
   ]
  },
  {
   "cell_type": "code",
   "execution_count": 52,
   "id": "b8985a55",
   "metadata": {},
   "outputs": [],
   "source": [
    "# Update the original dataframe with the imputed values\n",
    "data.loc[data['NumberOfFollowups'].isna(), 'NumberOfFollowups'] = imputed_values"
   ]
  },
  {
   "cell_type": "markdown",
   "id": "70482375",
   "metadata": {},
   "source": [
    "#### imputing for \"NumberOfChildrenVisiting\""
   ]
  },
  {
   "cell_type": "code",
   "execution_count": 53,
   "id": "3e4cd75d",
   "metadata": {},
   "outputs": [],
   "source": [
    "# Create a copy of the DataFrame- this may not be necessary but i would like to make it redundant to insure data integrity\n",
    "impute_data = data.copy()"
   ]
  },
  {
   "cell_type": "code",
   "execution_count": 54,
   "id": "5db576ee",
   "metadata": {},
   "outputs": [],
   "source": [
    "# Filter the DataFrame to exclude rows with missing 'TypeofContact'\n",
    "not_missing_data = impute_data[~impute_data['NumberOfChildrenVisiting'].isna()]"
   ]
  },
  {
   "cell_type": "code",
   "execution_count": 55,
   "id": "998d4850",
   "metadata": {},
   "outputs": [],
   "source": [
    "# Select the relevant features for training the model\n",
    "features = ['DurationOfPitch', 'MonthlyIncome', 'Age', 'NumberOfTrips', 'NumberOfFollowups', 'PreferredPropertyStar', 'TypeofContact']\n"
   ]
  },
  {
   "cell_type": "code",
   "execution_count": 56,
   "id": "690ff93c",
   "metadata": {},
   "outputs": [],
   "source": [
    "# Convert categorical variables to numerical representations\n",
    "label_encoder = LabelEncoder()\n",
    "not_missing_data['TypeofContact'] = label_encoder.fit_transform(not_missing_data['TypeofContact'])"
   ]
  },
  {
   "cell_type": "code",
   "execution_count": 57,
   "id": "31a47d2b",
   "metadata": {},
   "outputs": [],
   "source": [
    "# Perform one-hot encoding on the 'TypeofContact' column\n",
    "onehot_encoder = OneHotEncoder(sparse=False)\n",
    "encoded_categories = onehot_encoder.fit_transform(not_missing_data['TypeofContact'].values.reshape(-1, 1))"
   ]
  },
  {
   "cell_type": "code",
   "execution_count": 58,
   "id": "2827e61f",
   "metadata": {},
   "outputs": [],
   "source": [
    "# Create X and y for training the model\n",
    "X_categorical = encoded_categories\n",
    "X_numerical = not_missing_data[features].values\n",
    "X = np.concatenate((X_numerical, X_categorical), axis=1)\n",
    "y = not_missing_data['NumberOfChildrenVisiting']"
   ]
  },
  {
   "cell_type": "code",
   "execution_count": 59,
   "id": "10865a17",
   "metadata": {},
   "outputs": [],
   "source": [
    "# Initialize the  classifier\n",
    "gb_classifierNOCV = HistGradientBoostingClassifier()"
   ]
  },
  {
   "cell_type": "code",
   "execution_count": 60,
   "id": "e75c4b32",
   "metadata": {},
   "outputs": [
    {
     "data": {
      "text/html": [
       "<style>#sk-container-id-4 {color: black;background-color: white;}#sk-container-id-4 pre{padding: 0;}#sk-container-id-4 div.sk-toggleable {background-color: white;}#sk-container-id-4 label.sk-toggleable__label {cursor: pointer;display: block;width: 100%;margin-bottom: 0;padding: 0.3em;box-sizing: border-box;text-align: center;}#sk-container-id-4 label.sk-toggleable__label-arrow:before {content: \"▸\";float: left;margin-right: 0.25em;color: #696969;}#sk-container-id-4 label.sk-toggleable__label-arrow:hover:before {color: black;}#sk-container-id-4 div.sk-estimator:hover label.sk-toggleable__label-arrow:before {color: black;}#sk-container-id-4 div.sk-toggleable__content {max-height: 0;max-width: 0;overflow: hidden;text-align: left;background-color: #f0f8ff;}#sk-container-id-4 div.sk-toggleable__content pre {margin: 0.2em;color: black;border-radius: 0.25em;background-color: #f0f8ff;}#sk-container-id-4 input.sk-toggleable__control:checked~div.sk-toggleable__content {max-height: 200px;max-width: 100%;overflow: auto;}#sk-container-id-4 input.sk-toggleable__control:checked~label.sk-toggleable__label-arrow:before {content: \"▾\";}#sk-container-id-4 div.sk-estimator input.sk-toggleable__control:checked~label.sk-toggleable__label {background-color: #d4ebff;}#sk-container-id-4 div.sk-label input.sk-toggleable__control:checked~label.sk-toggleable__label {background-color: #d4ebff;}#sk-container-id-4 input.sk-hidden--visually {border: 0;clip: rect(1px 1px 1px 1px);clip: rect(1px, 1px, 1px, 1px);height: 1px;margin: -1px;overflow: hidden;padding: 0;position: absolute;width: 1px;}#sk-container-id-4 div.sk-estimator {font-family: monospace;background-color: #f0f8ff;border: 1px dotted black;border-radius: 0.25em;box-sizing: border-box;margin-bottom: 0.5em;}#sk-container-id-4 div.sk-estimator:hover {background-color: #d4ebff;}#sk-container-id-4 div.sk-parallel-item::after {content: \"\";width: 100%;border-bottom: 1px solid gray;flex-grow: 1;}#sk-container-id-4 div.sk-label:hover label.sk-toggleable__label {background-color: #d4ebff;}#sk-container-id-4 div.sk-serial::before {content: \"\";position: absolute;border-left: 1px solid gray;box-sizing: border-box;top: 0;bottom: 0;left: 50%;z-index: 0;}#sk-container-id-4 div.sk-serial {display: flex;flex-direction: column;align-items: center;background-color: white;padding-right: 0.2em;padding-left: 0.2em;position: relative;}#sk-container-id-4 div.sk-item {position: relative;z-index: 1;}#sk-container-id-4 div.sk-parallel {display: flex;align-items: stretch;justify-content: center;background-color: white;position: relative;}#sk-container-id-4 div.sk-item::before, #sk-container-id-4 div.sk-parallel-item::before {content: \"\";position: absolute;border-left: 1px solid gray;box-sizing: border-box;top: 0;bottom: 0;left: 50%;z-index: -1;}#sk-container-id-4 div.sk-parallel-item {display: flex;flex-direction: column;z-index: 1;position: relative;background-color: white;}#sk-container-id-4 div.sk-parallel-item:first-child::after {align-self: flex-end;width: 50%;}#sk-container-id-4 div.sk-parallel-item:last-child::after {align-self: flex-start;width: 50%;}#sk-container-id-4 div.sk-parallel-item:only-child::after {width: 0;}#sk-container-id-4 div.sk-dashed-wrapped {border: 1px dashed gray;margin: 0 0.4em 0.5em 0.4em;box-sizing: border-box;padding-bottom: 0.4em;background-color: white;}#sk-container-id-4 div.sk-label label {font-family: monospace;font-weight: bold;display: inline-block;line-height: 1.2em;}#sk-container-id-4 div.sk-label-container {text-align: center;}#sk-container-id-4 div.sk-container {/* jupyter's `normalize.less` sets `[hidden] { display: none; }` but bootstrap.min.css set `[hidden] { display: none !important; }` so we also need the `!important` here to be able to override the default hidden behavior on the sphinx rendered scikit-learn.org. See: https://github.com/scikit-learn/scikit-learn/issues/21755 */display: inline-block !important;position: relative;}#sk-container-id-4 div.sk-text-repr-fallback {display: none;}</style><div id=\"sk-container-id-4\" class=\"sk-top-container\"><div class=\"sk-text-repr-fallback\"><pre>HistGradientBoostingClassifier()</pre><b>In a Jupyter environment, please rerun this cell to show the HTML representation or trust the notebook. <br />On GitHub, the HTML representation is unable to render, please try loading this page with nbviewer.org.</b></div><div class=\"sk-container\" hidden><div class=\"sk-item\"><div class=\"sk-estimator sk-toggleable\"><input class=\"sk-toggleable__control sk-hidden--visually\" id=\"sk-estimator-id-4\" type=\"checkbox\" checked><label for=\"sk-estimator-id-4\" class=\"sk-toggleable__label sk-toggleable__label-arrow\">HistGradientBoostingClassifier</label><div class=\"sk-toggleable__content\"><pre>HistGradientBoostingClassifier()</pre></div></div></div></div></div>"
      ],
      "text/plain": [
       "HistGradientBoostingClassifier()"
      ]
     },
     "execution_count": 60,
     "metadata": {},
     "output_type": "execute_result"
    }
   ],
   "source": [
    "# Fit the classifier on the imputed data\n",
    "gb_classifierNOCV.fit(X, y)"
   ]
  },
  {
   "cell_type": "code",
   "execution_count": 61,
   "id": "092f69b5",
   "metadata": {},
   "outputs": [],
   "source": [
    "# Filter the DataFrame to include only rows with missing NumberOfChildrenVisiting''\n",
    "missing_data = impute_data[impute_data['NumberOfChildrenVisiting'].isna()]\n",
    "\n",
    "# Convert categorical variables to numerical representations\n",
    "missing_data['TypeofContact'] = label_encoder.transform(missing_data['TypeofContact'])\n",
    "\n",
    "# Perform one-hot encoding on the 'TypeofContact' column\n",
    "encoded_categories_missing = onehot_encoder.transform(missing_data['TypeofContact'].values.reshape(-1, 1))"
   ]
  },
  {
   "cell_type": "code",
   "execution_count": 62,
   "id": "88629425",
   "metadata": {},
   "outputs": [],
   "source": [
    "# Create X for the missing data\n",
    "X_categorical_missing = encoded_categories_missing\n",
    "X_numerical_missing = missing_data[features].values\n",
    "X_missing = np.concatenate((X_numerical_missing, X_categorical_missing), axis=1)"
   ]
  },
  {
   "cell_type": "code",
   "execution_count": 63,
   "id": "1e219791",
   "metadata": {},
   "outputs": [],
   "source": [
    "# Use the trained classifier to predict the missing values\n",
    "imputed_values = gb_classifierNOCV.predict(X_missing)"
   ]
  },
  {
   "cell_type": "code",
   "execution_count": 64,
   "id": "cd9c0510",
   "metadata": {},
   "outputs": [],
   "source": [
    "# Update the original dataframe with the imputed values\n",
    "data.loc[data['NumberOfChildrenVisiting'].isna(), 'NumberOfChildrenVisiting'] = imputed_values"
   ]
  },
  {
   "cell_type": "markdown",
   "id": "c7a22265",
   "metadata": {},
   "source": [
    "#### imputing for \"NumberOfTrips\""
   ]
  },
  {
   "cell_type": "code",
   "execution_count": 65,
   "id": "29df7c29",
   "metadata": {},
   "outputs": [],
   "source": [
    "# Create a copy of the DataFrame- this may not be necessary but i would like to make it redundant to insure data integrity\n",
    "impute_data = data.copy()"
   ]
  },
  {
   "cell_type": "code",
   "execution_count": 66,
   "id": "10ca22e4",
   "metadata": {},
   "outputs": [],
   "source": [
    "# Filter the DataFrame to exclude rows with missing 'TypeofContact'\n",
    "not_missing_data = impute_data[~impute_data['NumberOfTrips'].isna()]"
   ]
  },
  {
   "cell_type": "code",
   "execution_count": 67,
   "id": "96bf6d1a",
   "metadata": {},
   "outputs": [],
   "source": [
    "# Select the relevant features for training the model\n",
    "features = ['DurationOfPitch', 'MonthlyIncome', 'Age', 'NumberOfChildrenVisiting', 'NumberOfFollowups', 'PreferredPropertyStar', 'TypeofContact']\n"
   ]
  },
  {
   "cell_type": "code",
   "execution_count": 68,
   "id": "8f492c6e",
   "metadata": {},
   "outputs": [],
   "source": [
    "# Convert categorical variables to numerical representations\n",
    "label_encoder = LabelEncoder()\n",
    "not_missing_data['TypeofContact'] = label_encoder.fit_transform(not_missing_data['TypeofContact'])"
   ]
  },
  {
   "cell_type": "code",
   "execution_count": 69,
   "id": "6d87d425",
   "metadata": {},
   "outputs": [],
   "source": [
    "# Perform one-hot encoding on the 'TypeofContact' column\n",
    "onehot_encoder = OneHotEncoder(sparse=False)\n",
    "encoded_categories = onehot_encoder.fit_transform(not_missing_data['TypeofContact'].values.reshape(-1, 1))"
   ]
  },
  {
   "cell_type": "code",
   "execution_count": 70,
   "id": "f67dfd74",
   "metadata": {},
   "outputs": [],
   "source": [
    "# Create X and y for training the model\n",
    "X_categorical = encoded_categories\n",
    "X_numerical = not_missing_data[features].values\n",
    "X = np.concatenate((X_numerical, X_categorical), axis=1)\n",
    "y = not_missing_data['NumberOfTrips']"
   ]
  },
  {
   "cell_type": "code",
   "execution_count": 71,
   "id": "66320bac",
   "metadata": {},
   "outputs": [],
   "source": [
    "# Initialize the  classifier\n",
    "gb_classifierNOT = HistGradientBoostingClassifier()"
   ]
  },
  {
   "cell_type": "code",
   "execution_count": 72,
   "id": "eae77a5a",
   "metadata": {},
   "outputs": [
    {
     "data": {
      "text/html": [
       "<style>#sk-container-id-5 {color: black;background-color: white;}#sk-container-id-5 pre{padding: 0;}#sk-container-id-5 div.sk-toggleable {background-color: white;}#sk-container-id-5 label.sk-toggleable__label {cursor: pointer;display: block;width: 100%;margin-bottom: 0;padding: 0.3em;box-sizing: border-box;text-align: center;}#sk-container-id-5 label.sk-toggleable__label-arrow:before {content: \"▸\";float: left;margin-right: 0.25em;color: #696969;}#sk-container-id-5 label.sk-toggleable__label-arrow:hover:before {color: black;}#sk-container-id-5 div.sk-estimator:hover label.sk-toggleable__label-arrow:before {color: black;}#sk-container-id-5 div.sk-toggleable__content {max-height: 0;max-width: 0;overflow: hidden;text-align: left;background-color: #f0f8ff;}#sk-container-id-5 div.sk-toggleable__content pre {margin: 0.2em;color: black;border-radius: 0.25em;background-color: #f0f8ff;}#sk-container-id-5 input.sk-toggleable__control:checked~div.sk-toggleable__content {max-height: 200px;max-width: 100%;overflow: auto;}#sk-container-id-5 input.sk-toggleable__control:checked~label.sk-toggleable__label-arrow:before {content: \"▾\";}#sk-container-id-5 div.sk-estimator input.sk-toggleable__control:checked~label.sk-toggleable__label {background-color: #d4ebff;}#sk-container-id-5 div.sk-label input.sk-toggleable__control:checked~label.sk-toggleable__label {background-color: #d4ebff;}#sk-container-id-5 input.sk-hidden--visually {border: 0;clip: rect(1px 1px 1px 1px);clip: rect(1px, 1px, 1px, 1px);height: 1px;margin: -1px;overflow: hidden;padding: 0;position: absolute;width: 1px;}#sk-container-id-5 div.sk-estimator {font-family: monospace;background-color: #f0f8ff;border: 1px dotted black;border-radius: 0.25em;box-sizing: border-box;margin-bottom: 0.5em;}#sk-container-id-5 div.sk-estimator:hover {background-color: #d4ebff;}#sk-container-id-5 div.sk-parallel-item::after {content: \"\";width: 100%;border-bottom: 1px solid gray;flex-grow: 1;}#sk-container-id-5 div.sk-label:hover label.sk-toggleable__label {background-color: #d4ebff;}#sk-container-id-5 div.sk-serial::before {content: \"\";position: absolute;border-left: 1px solid gray;box-sizing: border-box;top: 0;bottom: 0;left: 50%;z-index: 0;}#sk-container-id-5 div.sk-serial {display: flex;flex-direction: column;align-items: center;background-color: white;padding-right: 0.2em;padding-left: 0.2em;position: relative;}#sk-container-id-5 div.sk-item {position: relative;z-index: 1;}#sk-container-id-5 div.sk-parallel {display: flex;align-items: stretch;justify-content: center;background-color: white;position: relative;}#sk-container-id-5 div.sk-item::before, #sk-container-id-5 div.sk-parallel-item::before {content: \"\";position: absolute;border-left: 1px solid gray;box-sizing: border-box;top: 0;bottom: 0;left: 50%;z-index: -1;}#sk-container-id-5 div.sk-parallel-item {display: flex;flex-direction: column;z-index: 1;position: relative;background-color: white;}#sk-container-id-5 div.sk-parallel-item:first-child::after {align-self: flex-end;width: 50%;}#sk-container-id-5 div.sk-parallel-item:last-child::after {align-self: flex-start;width: 50%;}#sk-container-id-5 div.sk-parallel-item:only-child::after {width: 0;}#sk-container-id-5 div.sk-dashed-wrapped {border: 1px dashed gray;margin: 0 0.4em 0.5em 0.4em;box-sizing: border-box;padding-bottom: 0.4em;background-color: white;}#sk-container-id-5 div.sk-label label {font-family: monospace;font-weight: bold;display: inline-block;line-height: 1.2em;}#sk-container-id-5 div.sk-label-container {text-align: center;}#sk-container-id-5 div.sk-container {/* jupyter's `normalize.less` sets `[hidden] { display: none; }` but bootstrap.min.css set `[hidden] { display: none !important; }` so we also need the `!important` here to be able to override the default hidden behavior on the sphinx rendered scikit-learn.org. See: https://github.com/scikit-learn/scikit-learn/issues/21755 */display: inline-block !important;position: relative;}#sk-container-id-5 div.sk-text-repr-fallback {display: none;}</style><div id=\"sk-container-id-5\" class=\"sk-top-container\"><div class=\"sk-text-repr-fallback\"><pre>HistGradientBoostingClassifier()</pre><b>In a Jupyter environment, please rerun this cell to show the HTML representation or trust the notebook. <br />On GitHub, the HTML representation is unable to render, please try loading this page with nbviewer.org.</b></div><div class=\"sk-container\" hidden><div class=\"sk-item\"><div class=\"sk-estimator sk-toggleable\"><input class=\"sk-toggleable__control sk-hidden--visually\" id=\"sk-estimator-id-5\" type=\"checkbox\" checked><label for=\"sk-estimator-id-5\" class=\"sk-toggleable__label sk-toggleable__label-arrow\">HistGradientBoostingClassifier</label><div class=\"sk-toggleable__content\"><pre>HistGradientBoostingClassifier()</pre></div></div></div></div></div>"
      ],
      "text/plain": [
       "HistGradientBoostingClassifier()"
      ]
     },
     "execution_count": 72,
     "metadata": {},
     "output_type": "execute_result"
    }
   ],
   "source": [
    "# Fit the classifier on the imputed data\n",
    "gb_classifierNOT.fit(X, y)"
   ]
  },
  {
   "cell_type": "code",
   "execution_count": 73,
   "id": "7bcbeddc",
   "metadata": {},
   "outputs": [],
   "source": [
    "# Filter the DataFrame to include only rows with missing 'NumberOfTrips'\n",
    "missing_data = impute_data[impute_data['NumberOfTrips'].isna()]\n",
    "\n",
    "# Convert categorical variables to numerical representations\n",
    "missing_data['TypeofContact'] = label_encoder.transform(missing_data['TypeofContact'])\n",
    "\n",
    "# Perform one-hot encoding on the 'TypeofContact' column\n",
    "encoded_categories_missing = onehot_encoder.transform(missing_data['TypeofContact'].values.reshape(-1, 1))"
   ]
  },
  {
   "cell_type": "code",
   "execution_count": 74,
   "id": "ddcc6abc",
   "metadata": {},
   "outputs": [],
   "source": [
    "# Create X for the missing data\n",
    "X_categorical_missing = encoded_categories_missing\n",
    "X_numerical_missing = missing_data[features].values\n",
    "X_missing = np.concatenate((X_numerical_missing, X_categorical_missing), axis=1)"
   ]
  },
  {
   "cell_type": "code",
   "execution_count": 75,
   "id": "5677fca1",
   "metadata": {},
   "outputs": [],
   "source": [
    "# Use the trained classifier to predict the missing values\n",
    "imputed_values = gb_classifierNOT.predict(X_missing)"
   ]
  },
  {
   "cell_type": "code",
   "execution_count": 76,
   "id": "0ec9d2c7",
   "metadata": {},
   "outputs": [],
   "source": [
    "# Update the original dataframe with the imputed values\n",
    "data.loc[data['NumberOfTrips'].isna(), 'NumberOfTrips'] = imputed_values"
   ]
  },
  {
   "cell_type": "markdown",
   "id": "e60544ed",
   "metadata": {},
   "source": [
    "#### imputing for \"Age\""
   ]
  },
  {
   "cell_type": "code",
   "execution_count": 77,
   "id": "437d58c6",
   "metadata": {},
   "outputs": [],
   "source": [
    "# Create a copy of the DataFrame- this may not be necessary but i would like to make it redundant to insure data integrity\n",
    "impute_data = data.copy()"
   ]
  },
  {
   "cell_type": "code",
   "execution_count": 78,
   "id": "9ea939ab",
   "metadata": {},
   "outputs": [],
   "source": [
    "# Filter the DataFrame to exclude rows with missing 'Age'\n",
    "not_missing_data = impute_data[~impute_data['Age'].isna()]"
   ]
  },
  {
   "cell_type": "code",
   "execution_count": 79,
   "id": "be2d8451",
   "metadata": {},
   "outputs": [],
   "source": [
    "# Select the relevant features for training the model\n",
    "features = ['DurationOfPitch', 'MonthlyIncome', 'NumberOfTrips', 'NumberOfChildrenVisiting', 'NumberOfFollowups', 'PreferredPropertyStar', 'TypeofContact']\n"
   ]
  },
  {
   "cell_type": "code",
   "execution_count": 80,
   "id": "deaa3f7d",
   "metadata": {},
   "outputs": [],
   "source": [
    "# Convert categorical variables to numerical representations\n",
    "label_encoder = LabelEncoder()\n",
    "not_missing_data['TypeofContact'] = label_encoder.fit_transform(not_missing_data['TypeofContact'])"
   ]
  },
  {
   "cell_type": "code",
   "execution_count": 81,
   "id": "05361c71",
   "metadata": {},
   "outputs": [],
   "source": [
    "# Perform one-hot encoding on the 'TypeofContact' column\n",
    "onehot_encoder = OneHotEncoder(sparse=False)\n",
    "encoded_categories = onehot_encoder.fit_transform(not_missing_data['TypeofContact'].values.reshape(-1, 1))"
   ]
  },
  {
   "cell_type": "code",
   "execution_count": 82,
   "id": "d8472847",
   "metadata": {},
   "outputs": [],
   "source": [
    "# Create X and y for training the model\n",
    "X_categorical = encoded_categories\n",
    "X_numerical = not_missing_data[features].values\n",
    "X = np.concatenate((X_numerical, X_categorical), axis=1)\n",
    "y = not_missing_data['Age']"
   ]
  },
  {
   "cell_type": "code",
   "execution_count": 83,
   "id": "2a04e331",
   "metadata": {},
   "outputs": [],
   "source": [
    "# Initialize the  classifier\n",
    "gb_classifierAGE = HistGradientBoostingClassifier()"
   ]
  },
  {
   "cell_type": "code",
   "execution_count": 84,
   "id": "ed272f56",
   "metadata": {},
   "outputs": [
    {
     "data": {
      "text/html": [
       "<style>#sk-container-id-6 {color: black;background-color: white;}#sk-container-id-6 pre{padding: 0;}#sk-container-id-6 div.sk-toggleable {background-color: white;}#sk-container-id-6 label.sk-toggleable__label {cursor: pointer;display: block;width: 100%;margin-bottom: 0;padding: 0.3em;box-sizing: border-box;text-align: center;}#sk-container-id-6 label.sk-toggleable__label-arrow:before {content: \"▸\";float: left;margin-right: 0.25em;color: #696969;}#sk-container-id-6 label.sk-toggleable__label-arrow:hover:before {color: black;}#sk-container-id-6 div.sk-estimator:hover label.sk-toggleable__label-arrow:before {color: black;}#sk-container-id-6 div.sk-toggleable__content {max-height: 0;max-width: 0;overflow: hidden;text-align: left;background-color: #f0f8ff;}#sk-container-id-6 div.sk-toggleable__content pre {margin: 0.2em;color: black;border-radius: 0.25em;background-color: #f0f8ff;}#sk-container-id-6 input.sk-toggleable__control:checked~div.sk-toggleable__content {max-height: 200px;max-width: 100%;overflow: auto;}#sk-container-id-6 input.sk-toggleable__control:checked~label.sk-toggleable__label-arrow:before {content: \"▾\";}#sk-container-id-6 div.sk-estimator input.sk-toggleable__control:checked~label.sk-toggleable__label {background-color: #d4ebff;}#sk-container-id-6 div.sk-label input.sk-toggleable__control:checked~label.sk-toggleable__label {background-color: #d4ebff;}#sk-container-id-6 input.sk-hidden--visually {border: 0;clip: rect(1px 1px 1px 1px);clip: rect(1px, 1px, 1px, 1px);height: 1px;margin: -1px;overflow: hidden;padding: 0;position: absolute;width: 1px;}#sk-container-id-6 div.sk-estimator {font-family: monospace;background-color: #f0f8ff;border: 1px dotted black;border-radius: 0.25em;box-sizing: border-box;margin-bottom: 0.5em;}#sk-container-id-6 div.sk-estimator:hover {background-color: #d4ebff;}#sk-container-id-6 div.sk-parallel-item::after {content: \"\";width: 100%;border-bottom: 1px solid gray;flex-grow: 1;}#sk-container-id-6 div.sk-label:hover label.sk-toggleable__label {background-color: #d4ebff;}#sk-container-id-6 div.sk-serial::before {content: \"\";position: absolute;border-left: 1px solid gray;box-sizing: border-box;top: 0;bottom: 0;left: 50%;z-index: 0;}#sk-container-id-6 div.sk-serial {display: flex;flex-direction: column;align-items: center;background-color: white;padding-right: 0.2em;padding-left: 0.2em;position: relative;}#sk-container-id-6 div.sk-item {position: relative;z-index: 1;}#sk-container-id-6 div.sk-parallel {display: flex;align-items: stretch;justify-content: center;background-color: white;position: relative;}#sk-container-id-6 div.sk-item::before, #sk-container-id-6 div.sk-parallel-item::before {content: \"\";position: absolute;border-left: 1px solid gray;box-sizing: border-box;top: 0;bottom: 0;left: 50%;z-index: -1;}#sk-container-id-6 div.sk-parallel-item {display: flex;flex-direction: column;z-index: 1;position: relative;background-color: white;}#sk-container-id-6 div.sk-parallel-item:first-child::after {align-self: flex-end;width: 50%;}#sk-container-id-6 div.sk-parallel-item:last-child::after {align-self: flex-start;width: 50%;}#sk-container-id-6 div.sk-parallel-item:only-child::after {width: 0;}#sk-container-id-6 div.sk-dashed-wrapped {border: 1px dashed gray;margin: 0 0.4em 0.5em 0.4em;box-sizing: border-box;padding-bottom: 0.4em;background-color: white;}#sk-container-id-6 div.sk-label label {font-family: monospace;font-weight: bold;display: inline-block;line-height: 1.2em;}#sk-container-id-6 div.sk-label-container {text-align: center;}#sk-container-id-6 div.sk-container {/* jupyter's `normalize.less` sets `[hidden] { display: none; }` but bootstrap.min.css set `[hidden] { display: none !important; }` so we also need the `!important` here to be able to override the default hidden behavior on the sphinx rendered scikit-learn.org. See: https://github.com/scikit-learn/scikit-learn/issues/21755 */display: inline-block !important;position: relative;}#sk-container-id-6 div.sk-text-repr-fallback {display: none;}</style><div id=\"sk-container-id-6\" class=\"sk-top-container\"><div class=\"sk-text-repr-fallback\"><pre>HistGradientBoostingClassifier()</pre><b>In a Jupyter environment, please rerun this cell to show the HTML representation or trust the notebook. <br />On GitHub, the HTML representation is unable to render, please try loading this page with nbviewer.org.</b></div><div class=\"sk-container\" hidden><div class=\"sk-item\"><div class=\"sk-estimator sk-toggleable\"><input class=\"sk-toggleable__control sk-hidden--visually\" id=\"sk-estimator-id-6\" type=\"checkbox\" checked><label for=\"sk-estimator-id-6\" class=\"sk-toggleable__label sk-toggleable__label-arrow\">HistGradientBoostingClassifier</label><div class=\"sk-toggleable__content\"><pre>HistGradientBoostingClassifier()</pre></div></div></div></div></div>"
      ],
      "text/plain": [
       "HistGradientBoostingClassifier()"
      ]
     },
     "execution_count": 84,
     "metadata": {},
     "output_type": "execute_result"
    }
   ],
   "source": [
    "# Fit the classifier on the imputed data\n",
    "gb_classifierAGE.fit(X, y)"
   ]
  },
  {
   "cell_type": "code",
   "execution_count": 85,
   "id": "978a3ed2",
   "metadata": {},
   "outputs": [],
   "source": [
    "# Filter the DataFrame to include only rows with missing 'NumberOfFollowups'\n",
    "missing_data = impute_data[impute_data['Age'].isna()]\n",
    "\n",
    "# Convert categorical variables to numerical representations\n",
    "missing_data['TypeofContact'] = label_encoder.transform(missing_data['TypeofContact'])\n",
    "\n",
    "# Perform one-hot encoding on the 'TypeofContact' column\n",
    "encoded_categories_missing = onehot_encoder.transform(missing_data['TypeofContact'].values.reshape(-1, 1))"
   ]
  },
  {
   "cell_type": "code",
   "execution_count": 86,
   "id": "42385010",
   "metadata": {},
   "outputs": [],
   "source": [
    "# Create X for the missing data\n",
    "X_categorical_missing = encoded_categories_missing\n",
    "X_numerical_missing = missing_data[features].values\n",
    "X_missing = np.concatenate((X_numerical_missing, X_categorical_missing), axis=1)"
   ]
  },
  {
   "cell_type": "code",
   "execution_count": 87,
   "id": "77473227",
   "metadata": {},
   "outputs": [],
   "source": [
    "# Use the trained classifier to predict the missing values\n",
    "imputed_values = gb_classifierAGE.predict(X_missing)"
   ]
  },
  {
   "cell_type": "code",
   "execution_count": 88,
   "id": "5f149f6d",
   "metadata": {},
   "outputs": [],
   "source": [
    "# Update the original dataframe with the imputed values\n",
    "data.loc[data['Age'].isna(), 'Age'] = imputed_values"
   ]
  },
  {
   "cell_type": "code",
   "execution_count": null,
   "id": "d5eb31d0",
   "metadata": {},
   "outputs": [],
   "source": []
  },
  {
   "cell_type": "markdown",
   "id": "8d19477e",
   "metadata": {},
   "source": [
    "#### imputing for \"MonthlyIncome\""
   ]
  },
  {
   "cell_type": "code",
   "execution_count": 89,
   "id": "4522be36",
   "metadata": {},
   "outputs": [],
   "source": [
    "# Create a copy of the DataFrame- this may not be necessary but i would like to make it redundant to insure data integrity\n",
    "impute_data = data.copy()"
   ]
  },
  {
   "cell_type": "code",
   "execution_count": 90,
   "id": "5cfbe2cd",
   "metadata": {},
   "outputs": [],
   "source": [
    "# Filter the DataFrame to exclude rows with missing 'MonthlyIncome'\n",
    "not_missing_data = impute_data[~impute_data['MonthlyIncome'].isna()]"
   ]
  },
  {
   "cell_type": "code",
   "execution_count": 91,
   "id": "5b8257ed",
   "metadata": {},
   "outputs": [],
   "source": [
    "# Select the relevant features for training the model\n",
    "features = ['DurationOfPitch', 'Age', 'NumberOfTrips', 'NumberOfChildrenVisiting', 'NumberOfFollowups', 'PreferredPropertyStar', 'TypeofContact']\n"
   ]
  },
  {
   "cell_type": "code",
   "execution_count": 92,
   "id": "d2f56aa2",
   "metadata": {},
   "outputs": [],
   "source": [
    "# Convert categorical variables to numerical representations\n",
    "label_encoder = LabelEncoder()\n",
    "not_missing_data['TypeofContact'] = label_encoder.fit_transform(not_missing_data['TypeofContact'])"
   ]
  },
  {
   "cell_type": "code",
   "execution_count": 93,
   "id": "e857269a",
   "metadata": {},
   "outputs": [],
   "source": [
    "# Perform one-hot encoding on the 'TypeofContact' column\n",
    "onehot_encoder = OneHotEncoder(sparse=False)\n",
    "encoded_categories = onehot_encoder.fit_transform(not_missing_data['TypeofContact'].values.reshape(-1, 1))"
   ]
  },
  {
   "cell_type": "code",
   "execution_count": 94,
   "id": "ffb0a1ca",
   "metadata": {},
   "outputs": [],
   "source": [
    "# Create X and y for training the model\n",
    "X_categorical = encoded_categories\n",
    "X_numerical = not_missing_data[features].values\n",
    "X = np.concatenate((X_numerical, X_categorical), axis=1)\n",
    "y = not_missing_data['MonthlyIncome']"
   ]
  },
  {
   "cell_type": "code",
   "execution_count": 95,
   "id": "a6eaa54a",
   "metadata": {},
   "outputs": [],
   "source": [
    "# Initialize the  classifier\n",
    "gb_classifierMI = HistGradientBoostingClassifier()"
   ]
  },
  {
   "cell_type": "code",
   "execution_count": 96,
   "id": "922181fa",
   "metadata": {},
   "outputs": [
    {
     "ename": "ValueError",
     "evalue": "could not convert string to float: 'Self Enquiry'",
     "output_type": "error",
     "traceback": [
      "\u001b[1;31m---------------------------------------------------------------------------\u001b[0m",
      "\u001b[1;31mValueError\u001b[0m                                Traceback (most recent call last)",
      "Cell \u001b[1;32mIn[96], line 2\u001b[0m\n\u001b[0;32m      1\u001b[0m \u001b[38;5;66;03m# Fit the classifier on the imputed data\u001b[39;00m\n\u001b[1;32m----> 2\u001b[0m \u001b[43mgb_classifierMI\u001b[49m\u001b[38;5;241;43m.\u001b[39;49m\u001b[43mfit\u001b[49m\u001b[43m(\u001b[49m\u001b[43mX\u001b[49m\u001b[43m,\u001b[49m\u001b[43m \u001b[49m\u001b[43my\u001b[49m\u001b[43m)\u001b[49m\n",
      "File \u001b[1;32mC:\\anaconda3\\lib\\site-packages\\sklearn\\ensemble\\_hist_gradient_boosting\\gradient_boosting.py:361\u001b[0m, in \u001b[0;36mBaseHistGradientBoosting.fit\u001b[1;34m(self, X, y, sample_weight)\u001b[0m\n\u001b[0;32m    359\u001b[0m \u001b[38;5;66;03m# time spent predicting X for gradient and hessians update\u001b[39;00m\n\u001b[0;32m    360\u001b[0m acc_prediction_time \u001b[38;5;241m=\u001b[39m \u001b[38;5;241m0.0\u001b[39m\n\u001b[1;32m--> 361\u001b[0m X, y \u001b[38;5;241m=\u001b[39m \u001b[38;5;28;43mself\u001b[39;49m\u001b[38;5;241;43m.\u001b[39;49m\u001b[43m_validate_data\u001b[49m\u001b[43m(\u001b[49m\u001b[43mX\u001b[49m\u001b[43m,\u001b[49m\u001b[43m \u001b[49m\u001b[43my\u001b[49m\u001b[43m,\u001b[49m\u001b[43m \u001b[49m\u001b[43mdtype\u001b[49m\u001b[38;5;241;43m=\u001b[39;49m\u001b[43m[\u001b[49m\u001b[43mX_DTYPE\u001b[49m\u001b[43m]\u001b[49m\u001b[43m,\u001b[49m\u001b[43m \u001b[49m\u001b[43mforce_all_finite\u001b[49m\u001b[38;5;241;43m=\u001b[39;49m\u001b[38;5;28;43;01mFalse\u001b[39;49;00m\u001b[43m)\u001b[49m\n\u001b[0;32m    362\u001b[0m y \u001b[38;5;241m=\u001b[39m \u001b[38;5;28mself\u001b[39m\u001b[38;5;241m.\u001b[39m_encode_y(y)\n\u001b[0;32m    363\u001b[0m check_consistent_length(X, y)\n",
      "File \u001b[1;32mC:\\anaconda3\\lib\\site-packages\\sklearn\\base.py:565\u001b[0m, in \u001b[0;36mBaseEstimator._validate_data\u001b[1;34m(self, X, y, reset, validate_separately, **check_params)\u001b[0m\n\u001b[0;32m    563\u001b[0m         y \u001b[38;5;241m=\u001b[39m check_array(y, input_name\u001b[38;5;241m=\u001b[39m\u001b[38;5;124m\"\u001b[39m\u001b[38;5;124my\u001b[39m\u001b[38;5;124m\"\u001b[39m, \u001b[38;5;241m*\u001b[39m\u001b[38;5;241m*\u001b[39mcheck_y_params)\n\u001b[0;32m    564\u001b[0m     \u001b[38;5;28;01melse\u001b[39;00m:\n\u001b[1;32m--> 565\u001b[0m         X, y \u001b[38;5;241m=\u001b[39m check_X_y(X, y, \u001b[38;5;241m*\u001b[39m\u001b[38;5;241m*\u001b[39mcheck_params)\n\u001b[0;32m    566\u001b[0m     out \u001b[38;5;241m=\u001b[39m X, y\n\u001b[0;32m    568\u001b[0m \u001b[38;5;28;01mif\u001b[39;00m \u001b[38;5;129;01mnot\u001b[39;00m no_val_X \u001b[38;5;129;01mand\u001b[39;00m check_params\u001b[38;5;241m.\u001b[39mget(\u001b[38;5;124m\"\u001b[39m\u001b[38;5;124mensure_2d\u001b[39m\u001b[38;5;124m\"\u001b[39m, \u001b[38;5;28;01mTrue\u001b[39;00m):\n",
      "File \u001b[1;32mC:\\anaconda3\\lib\\site-packages\\sklearn\\utils\\validation.py:1106\u001b[0m, in \u001b[0;36mcheck_X_y\u001b[1;34m(X, y, accept_sparse, accept_large_sparse, dtype, order, copy, force_all_finite, ensure_2d, allow_nd, multi_output, ensure_min_samples, ensure_min_features, y_numeric, estimator)\u001b[0m\n\u001b[0;32m   1101\u001b[0m         estimator_name \u001b[38;5;241m=\u001b[39m _check_estimator_name(estimator)\n\u001b[0;32m   1102\u001b[0m     \u001b[38;5;28;01mraise\u001b[39;00m \u001b[38;5;167;01mValueError\u001b[39;00m(\n\u001b[0;32m   1103\u001b[0m         \u001b[38;5;124mf\u001b[39m\u001b[38;5;124m\"\u001b[39m\u001b[38;5;132;01m{\u001b[39;00mestimator_name\u001b[38;5;132;01m}\u001b[39;00m\u001b[38;5;124m requires y to be passed, but the target y is None\u001b[39m\u001b[38;5;124m\"\u001b[39m\n\u001b[0;32m   1104\u001b[0m     )\n\u001b[1;32m-> 1106\u001b[0m X \u001b[38;5;241m=\u001b[39m \u001b[43mcheck_array\u001b[49m\u001b[43m(\u001b[49m\n\u001b[0;32m   1107\u001b[0m \u001b[43m    \u001b[49m\u001b[43mX\u001b[49m\u001b[43m,\u001b[49m\n\u001b[0;32m   1108\u001b[0m \u001b[43m    \u001b[49m\u001b[43maccept_sparse\u001b[49m\u001b[38;5;241;43m=\u001b[39;49m\u001b[43maccept_sparse\u001b[49m\u001b[43m,\u001b[49m\n\u001b[0;32m   1109\u001b[0m \u001b[43m    \u001b[49m\u001b[43maccept_large_sparse\u001b[49m\u001b[38;5;241;43m=\u001b[39;49m\u001b[43maccept_large_sparse\u001b[49m\u001b[43m,\u001b[49m\n\u001b[0;32m   1110\u001b[0m \u001b[43m    \u001b[49m\u001b[43mdtype\u001b[49m\u001b[38;5;241;43m=\u001b[39;49m\u001b[43mdtype\u001b[49m\u001b[43m,\u001b[49m\n\u001b[0;32m   1111\u001b[0m \u001b[43m    \u001b[49m\u001b[43morder\u001b[49m\u001b[38;5;241;43m=\u001b[39;49m\u001b[43morder\u001b[49m\u001b[43m,\u001b[49m\n\u001b[0;32m   1112\u001b[0m \u001b[43m    \u001b[49m\u001b[43mcopy\u001b[49m\u001b[38;5;241;43m=\u001b[39;49m\u001b[43mcopy\u001b[49m\u001b[43m,\u001b[49m\n\u001b[0;32m   1113\u001b[0m \u001b[43m    \u001b[49m\u001b[43mforce_all_finite\u001b[49m\u001b[38;5;241;43m=\u001b[39;49m\u001b[43mforce_all_finite\u001b[49m\u001b[43m,\u001b[49m\n\u001b[0;32m   1114\u001b[0m \u001b[43m    \u001b[49m\u001b[43mensure_2d\u001b[49m\u001b[38;5;241;43m=\u001b[39;49m\u001b[43mensure_2d\u001b[49m\u001b[43m,\u001b[49m\n\u001b[0;32m   1115\u001b[0m \u001b[43m    \u001b[49m\u001b[43mallow_nd\u001b[49m\u001b[38;5;241;43m=\u001b[39;49m\u001b[43mallow_nd\u001b[49m\u001b[43m,\u001b[49m\n\u001b[0;32m   1116\u001b[0m \u001b[43m    \u001b[49m\u001b[43mensure_min_samples\u001b[49m\u001b[38;5;241;43m=\u001b[39;49m\u001b[43mensure_min_samples\u001b[49m\u001b[43m,\u001b[49m\n\u001b[0;32m   1117\u001b[0m \u001b[43m    \u001b[49m\u001b[43mensure_min_features\u001b[49m\u001b[38;5;241;43m=\u001b[39;49m\u001b[43mensure_min_features\u001b[49m\u001b[43m,\u001b[49m\n\u001b[0;32m   1118\u001b[0m \u001b[43m    \u001b[49m\u001b[43mestimator\u001b[49m\u001b[38;5;241;43m=\u001b[39;49m\u001b[43mestimator\u001b[49m\u001b[43m,\u001b[49m\n\u001b[0;32m   1119\u001b[0m \u001b[43m    \u001b[49m\u001b[43minput_name\u001b[49m\u001b[38;5;241;43m=\u001b[39;49m\u001b[38;5;124;43m\"\u001b[39;49m\u001b[38;5;124;43mX\u001b[39;49m\u001b[38;5;124;43m\"\u001b[39;49m\u001b[43m,\u001b[49m\n\u001b[0;32m   1120\u001b[0m \u001b[43m\u001b[49m\u001b[43m)\u001b[49m\n\u001b[0;32m   1122\u001b[0m y \u001b[38;5;241m=\u001b[39m _check_y(y, multi_output\u001b[38;5;241m=\u001b[39mmulti_output, y_numeric\u001b[38;5;241m=\u001b[39my_numeric, estimator\u001b[38;5;241m=\u001b[39mestimator)\n\u001b[0;32m   1124\u001b[0m check_consistent_length(X, y)\n",
      "File \u001b[1;32mC:\\anaconda3\\lib\\site-packages\\sklearn\\utils\\validation.py:879\u001b[0m, in \u001b[0;36mcheck_array\u001b[1;34m(array, accept_sparse, accept_large_sparse, dtype, order, copy, force_all_finite, ensure_2d, allow_nd, ensure_min_samples, ensure_min_features, estimator, input_name)\u001b[0m\n\u001b[0;32m    877\u001b[0m         array \u001b[38;5;241m=\u001b[39m xp\u001b[38;5;241m.\u001b[39mastype(array, dtype, copy\u001b[38;5;241m=\u001b[39m\u001b[38;5;28;01mFalse\u001b[39;00m)\n\u001b[0;32m    878\u001b[0m     \u001b[38;5;28;01melse\u001b[39;00m:\n\u001b[1;32m--> 879\u001b[0m         array \u001b[38;5;241m=\u001b[39m \u001b[43m_asarray_with_order\u001b[49m\u001b[43m(\u001b[49m\u001b[43marray\u001b[49m\u001b[43m,\u001b[49m\u001b[43m \u001b[49m\u001b[43morder\u001b[49m\u001b[38;5;241;43m=\u001b[39;49m\u001b[43morder\u001b[49m\u001b[43m,\u001b[49m\u001b[43m \u001b[49m\u001b[43mdtype\u001b[49m\u001b[38;5;241;43m=\u001b[39;49m\u001b[43mdtype\u001b[49m\u001b[43m,\u001b[49m\u001b[43m \u001b[49m\u001b[43mxp\u001b[49m\u001b[38;5;241;43m=\u001b[39;49m\u001b[43mxp\u001b[49m\u001b[43m)\u001b[49m\n\u001b[0;32m    880\u001b[0m \u001b[38;5;28;01mexcept\u001b[39;00m ComplexWarning \u001b[38;5;28;01mas\u001b[39;00m complex_warning:\n\u001b[0;32m    881\u001b[0m     \u001b[38;5;28;01mraise\u001b[39;00m \u001b[38;5;167;01mValueError\u001b[39;00m(\n\u001b[0;32m    882\u001b[0m         \u001b[38;5;124m\"\u001b[39m\u001b[38;5;124mComplex data not supported\u001b[39m\u001b[38;5;130;01m\\n\u001b[39;00m\u001b[38;5;132;01m{}\u001b[39;00m\u001b[38;5;130;01m\\n\u001b[39;00m\u001b[38;5;124m\"\u001b[39m\u001b[38;5;241m.\u001b[39mformat(array)\n\u001b[0;32m    883\u001b[0m     ) \u001b[38;5;28;01mfrom\u001b[39;00m \u001b[38;5;21;01mcomplex_warning\u001b[39;00m\n",
      "File \u001b[1;32mC:\\anaconda3\\lib\\site-packages\\sklearn\\utils\\_array_api.py:185\u001b[0m, in \u001b[0;36m_asarray_with_order\u001b[1;34m(array, dtype, order, copy, xp)\u001b[0m\n\u001b[0;32m    182\u001b[0m     xp, _ \u001b[38;5;241m=\u001b[39m get_namespace(array)\n\u001b[0;32m    183\u001b[0m \u001b[38;5;28;01mif\u001b[39;00m xp\u001b[38;5;241m.\u001b[39m\u001b[38;5;18m__name__\u001b[39m \u001b[38;5;129;01min\u001b[39;00m {\u001b[38;5;124m\"\u001b[39m\u001b[38;5;124mnumpy\u001b[39m\u001b[38;5;124m\"\u001b[39m, \u001b[38;5;124m\"\u001b[39m\u001b[38;5;124mnumpy.array_api\u001b[39m\u001b[38;5;124m\"\u001b[39m}:\n\u001b[0;32m    184\u001b[0m     \u001b[38;5;66;03m# Use NumPy API to support order\u001b[39;00m\n\u001b[1;32m--> 185\u001b[0m     array \u001b[38;5;241m=\u001b[39m \u001b[43mnumpy\u001b[49m\u001b[38;5;241;43m.\u001b[39;49m\u001b[43masarray\u001b[49m\u001b[43m(\u001b[49m\u001b[43marray\u001b[49m\u001b[43m,\u001b[49m\u001b[43m \u001b[49m\u001b[43morder\u001b[49m\u001b[38;5;241;43m=\u001b[39;49m\u001b[43morder\u001b[49m\u001b[43m,\u001b[49m\u001b[43m \u001b[49m\u001b[43mdtype\u001b[49m\u001b[38;5;241;43m=\u001b[39;49m\u001b[43mdtype\u001b[49m\u001b[43m)\u001b[49m\n\u001b[0;32m    186\u001b[0m     \u001b[38;5;28;01mreturn\u001b[39;00m xp\u001b[38;5;241m.\u001b[39masarray(array, copy\u001b[38;5;241m=\u001b[39mcopy)\n\u001b[0;32m    187\u001b[0m \u001b[38;5;28;01melse\u001b[39;00m:\n",
      "File \u001b[1;32mC:\\anaconda3\\lib\\site-packages\\numpy\\core\\_asarray.py:102\u001b[0m, in \u001b[0;36masarray\u001b[1;34m(a, dtype, order, like)\u001b[0m\n\u001b[0;32m     99\u001b[0m \u001b[38;5;28;01mif\u001b[39;00m like \u001b[38;5;129;01mis\u001b[39;00m \u001b[38;5;129;01mnot\u001b[39;00m \u001b[38;5;28;01mNone\u001b[39;00m:\n\u001b[0;32m    100\u001b[0m     \u001b[38;5;28;01mreturn\u001b[39;00m _asarray_with_like(a, dtype\u001b[38;5;241m=\u001b[39mdtype, order\u001b[38;5;241m=\u001b[39morder, like\u001b[38;5;241m=\u001b[39mlike)\n\u001b[1;32m--> 102\u001b[0m \u001b[38;5;28;01mreturn\u001b[39;00m \u001b[43marray\u001b[49m\u001b[43m(\u001b[49m\u001b[43ma\u001b[49m\u001b[43m,\u001b[49m\u001b[43m \u001b[49m\u001b[43mdtype\u001b[49m\u001b[43m,\u001b[49m\u001b[43m \u001b[49m\u001b[43mcopy\u001b[49m\u001b[38;5;241;43m=\u001b[39;49m\u001b[38;5;28;43;01mFalse\u001b[39;49;00m\u001b[43m,\u001b[49m\u001b[43m \u001b[49m\u001b[43morder\u001b[49m\u001b[38;5;241;43m=\u001b[39;49m\u001b[43morder\u001b[49m\u001b[43m)\u001b[49m\n",
      "\u001b[1;31mValueError\u001b[0m: could not convert string to float: 'Self Enquiry'"
     ]
    }
   ],
   "source": [
    "# Fit the classifier on the imputed data\n",
    "gb_classifierMI.fit(X, y)"
   ]
  },
  {
   "cell_type": "code",
   "execution_count": null,
   "id": "d637fad9",
   "metadata": {},
   "outputs": [],
   "source": [
    "# Filter the DataFrame to include only rows with missing 'NumberOfFollowups'\n",
    "missing_data = impute_data[impute_data['MonthlyIncome'].isna()]\n",
    "\n",
    "# Convert categorical variables to numerical representations\n",
    "missing_data['TypeofContact'] = label_encoder.transform(missing_data['TypeofContact'])\n",
    "\n",
    "# Perform one-hot encoding on the 'TypeofContact' column\n",
    "encoded_categories_missing = onehot_encoder.transform(missing_data['TypeofContact'].values.reshape(-1, 1))"
   ]
  },
  {
   "cell_type": "code",
   "execution_count": null,
   "id": "480238ef",
   "metadata": {},
   "outputs": [],
   "source": [
    "# Create X for the missing data\n",
    "X_categorical_missing = encoded_categories_missing\n",
    "X_numerical_missing = missing_data[features].values\n",
    "X_missing = np.concatenate((X_numerical_missing, X_categorical_missing), axis=1)"
   ]
  },
  {
   "cell_type": "code",
   "execution_count": null,
   "id": "54875397",
   "metadata": {},
   "outputs": [],
   "source": [
    "# Use the trained classifier to predict the missing values\n",
    "imputed_values = gb_classifierMI.predict(X_missing)"
   ]
  },
  {
   "cell_type": "code",
   "execution_count": null,
   "id": "f473bc67",
   "metadata": {},
   "outputs": [],
   "source": [
    "# Update the original dataframe with the imputed values\n",
    "data.loc[data['MonthlyIncome'].isna(), 'MontlyIncome'] = imputed_values"
   ]
  },
  {
   "cell_type": "markdown",
   "id": "889c798a",
   "metadata": {},
   "source": [
    "#### imputing for \"DurationOfPitch\""
   ]
  },
  {
   "cell_type": "code",
   "execution_count": null,
   "id": "cf7040dc",
   "metadata": {},
   "outputs": [],
   "source": [
    "# Create a copy of the DataFrame- this may not be necessary but i would like to make it redundant to insure data integrity\n",
    "impute_data = data.copy()"
   ]
  },
  {
   "cell_type": "code",
   "execution_count": null,
   "id": "1e93aa20",
   "metadata": {},
   "outputs": [],
   "source": [
    "# Filter the DataFrame to exclude rows with missing 'DurationOfPitch'\n",
    "not_missing_data = impute_data[~impute_data['DurationOfPitch'].isna()]"
   ]
  },
  {
   "cell_type": "code",
   "execution_count": null,
   "id": "8168f993",
   "metadata": {},
   "outputs": [],
   "source": [
    "# Select the relevant features for training the model\n",
    "features = ['MonthlyIncome', 'Age', 'NumberOfTrips', 'NumberOfChildrenVisiting', 'NumberOfFollowups', 'PreferredPropertyStar', 'TypeofContact']\n"
   ]
  },
  {
   "cell_type": "code",
   "execution_count": null,
   "id": "8e6c6ebf",
   "metadata": {},
   "outputs": [],
   "source": [
    "# Convert categorical variables to numerical representations\n",
    "label_encoder = LabelEncoder()\n",
    "not_missing_data['DurationOfPitch'] = label_encoder.fit_transform(not_missing_data['DurationOfPitch'])"
   ]
  },
  {
   "cell_type": "code",
   "execution_count": null,
   "id": "185c828f",
   "metadata": {},
   "outputs": [],
   "source": [
    "# Perform one-hot encoding on the 'TypeofContact' column\n",
    "onehot_encoder = OneHotEncoder(sparse=False)\n",
    "encoded_categories = onehot_encoder.fit_transform(not_missing_data['TypeofContact'].values.reshape(-1, 1))"
   ]
  },
  {
   "cell_type": "code",
   "execution_count": null,
   "id": "5b355cc5",
   "metadata": {},
   "outputs": [],
   "source": [
    "# Create X and y for training the model\n",
    "X_categorical = encoded_categories\n",
    "X_numerical = not_missing_data[features].values\n",
    "X = np.concatenate((X_numerical, X_categorical), axis=1)\n",
    "y = not_missing_data['DurationOfPitch']"
   ]
  },
  {
   "cell_type": "code",
   "execution_count": null,
   "id": "82e1b45e",
   "metadata": {},
   "outputs": [],
   "source": [
    "# Initialize the  classifier\n",
    "gb_classifierDOP = HistGradientBoostingClassifier()"
   ]
  },
  {
   "cell_type": "code",
   "execution_count": null,
   "id": "4b7da4e1",
   "metadata": {},
   "outputs": [],
   "source": [
    "# Fit the classifier on the imputed data\n",
    "gb_classifierDOP.fit(X, y)"
   ]
  },
  {
   "cell_type": "code",
   "execution_count": null,
   "id": "c4a3f8c6",
   "metadata": {},
   "outputs": [],
   "source": [
    "# Filter the DataFrame to include only rows with missing 'NumberOfFollowups'\n",
    "missing_data = impute_data[impute_data['DurationOfPitch'].isna()]\n",
    "\n",
    "# Convert categorical variables to numerical representations\n",
    "missing_data['TypeofContact'] = label_encoder.transform(missing_data['TypeofContact'])\n",
    "\n",
    "# Perform one-hot encoding on the 'TypeofContact' column\n",
    "encoded_categories_missing = onehot_encoder.transform(missing_data['TypeofContact'].values.reshape(-1, 1))"
   ]
  },
  {
   "cell_type": "code",
   "execution_count": null,
   "id": "167d53d5",
   "metadata": {},
   "outputs": [],
   "source": [
    "# Create X for the missing data\n",
    "X_categorical_missing = encoded_categories_missing\n",
    "X_numerical_missing = missing_data[features].values\n",
    "X_missing = np.concatenate((X_numerical_missing, X_categorical_missing), axis=1)"
   ]
  },
  {
   "cell_type": "code",
   "execution_count": null,
   "id": "d5640ef8",
   "metadata": {},
   "outputs": [],
   "source": [
    "# Use the trained classifier to predict the missing values\n",
    "imputed_values = gb_classifierDOP.predict(X_missing)"
   ]
  },
  {
   "cell_type": "code",
   "execution_count": null,
   "id": "45448f48",
   "metadata": {},
   "outputs": [],
   "source": [
    "# Update the original dataframe with the imputed values\n",
    "data.loc[data['DurationOfPitch'].isna(), 'DurationOfPitch'] = imputed_values"
   ]
  },
  {
   "cell_type": "code",
   "execution_count": null,
   "id": "a9baaa5e",
   "metadata": {},
   "outputs": [],
   "source": []
  },
  {
   "cell_type": "code",
   "execution_count": null,
   "id": "d0572bf0",
   "metadata": {},
   "outputs": [],
   "source": [
    "#check for missing data\n",
    "data.isna().sum().sort_values(ascending=False)"
   ]
  },
  {
   "cell_type": "code",
   "execution_count": null,
   "id": "b833ee79",
   "metadata": {},
   "outputs": [],
   "source": [
    "#check for missing data\n",
    "imputed_df.isna().sum().sort_values(ascending=False)"
   ]
  },
  {
   "cell_type": "code",
   "execution_count": null,
   "id": "2982eca1",
   "metadata": {},
   "outputs": [],
   "source": [
    "# data['Age']= data['Age'].fillna(data['Age'].mean()).astype(int)\n",
    "# data['Age'] = data['Age'].fillna(round(data['Age'].mean()))"
   ]
  },
  {
   "cell_type": "code",
   "execution_count": null,
   "id": "1d4578af",
   "metadata": {},
   "outputs": [],
   "source": [
    "#data['DurationOfPitch'] = data['DurationOfPitch'].fillna(round(data['DurationOfPitch'].mean()))"
   ]
  },
  {
   "cell_type": "code",
   "execution_count": null,
   "id": "24f08eb2",
   "metadata": {},
   "outputs": [],
   "source": [
    "#data['NumberOfFollowups'] = data['NumberOfFollowups'].fillna(round(data['NumberOfFollowups'].mean()))"
   ]
  },
  {
   "cell_type": "code",
   "execution_count": null,
   "id": "38a3532f",
   "metadata": {},
   "outputs": [],
   "source": [
    "# data['NumberOfTrips'] = data['NumberOfTrips'].fillna(round(data['NumberOfTrips'].mean()))"
   ]
  },
  {
   "cell_type": "code",
   "execution_count": null,
   "id": "c48934a7",
   "metadata": {},
   "outputs": [],
   "source": [
    "#data['MonthlyIncome']= data['MonthlyIncome'].fillna(round(data['MonthlyIncome'].mean()))"
   ]
  },
  {
   "cell_type": "code",
   "execution_count": null,
   "id": "f711c9d6",
   "metadata": {},
   "outputs": [],
   "source": [
    "for n in num_missing.value_counts().sort_index().index:\n",
    "    if n > 0:\n",
    "        print(f'For the rows with exactly {n} missing values, NAs are found in:')\n",
    "        n_miss_per_col = data[num_missing == n].isnull().sum()\n",
    "        print(n_miss_per_col[n_miss_per_col > 0])\n",
    "        print('\\n\\n')\n",
    "        "
   ]
  },
  {
   "cell_type": "code",
   "execution_count": null,
   "id": "be0bddf0",
   "metadata": {},
   "outputs": [],
   "source": [
    "# Statistical Summary of Data\n",
    "data.describe().T"
   ]
  },
  {
   "cell_type": "markdown",
   "id": "222a55a9",
   "metadata": {},
   "source": [
    "- 18.8% will buy the product\n",
    "- Age 37 Average and 50% quartile\n",
    "- Duration of Pitch Average length is 15.46\n",
    "- Number of People visiting - 2.9 or 3 \n",
    "- Children- average is just over 1 and 1 fits in the 50 %\n",
    "- Monthly income - 23619 average"
   ]
  },
  {
   "cell_type": "markdown",
   "id": "628ae51e",
   "metadata": {},
   "source": [
    "#### Replace Object type with Categorical type "
   ]
  },
  {
   "cell_type": "markdown",
   "id": "0014db35",
   "metadata": {},
   "source": [
    "* missing values have been properly addressed"
   ]
  },
  {
   "cell_type": "code",
   "execution_count": null,
   "id": "b1576f77",
   "metadata": {},
   "outputs": [],
   "source": [
    "data.info()"
   ]
  },
  {
   "cell_type": "markdown",
   "id": "4d5a789f",
   "metadata": {},
   "source": [
    "## Exploratory Data Analysis"
   ]
  },
  {
   "cell_type": "code",
   "execution_count": null,
   "id": "a2510b32",
   "metadata": {},
   "outputs": [],
   "source": [
    "# function to plot a boxplot and a histogram along the same scale.\n",
    "\n",
    "\n",
    "def histogram_boxplot(data, feature, figsize=(12, 7), kde=False, bins=None):\n",
    "    \"\"\"\n",
    "    Boxplot and histogram combined\n",
    "\n",
    "    data: dataframe\n",
    "    feature: dataframe column\n",
    "    figsize: size of figure (default (12,7))\n",
    "    kde: whether to show the density curve (default False)\n",
    "    bins: number of bins for histogram (default None)\n",
    "    \"\"\"\n",
    "    f2, (ax_box2, ax_hist2) = plt.subplots(\n",
    "        nrows=2,  # Number of rows of the subplot grid= 2\n",
    "        sharex=True,  # x-axis will be shared among all subplots\n",
    "        gridspec_kw={\"height_ratios\": (0.25, 0.75)},\n",
    "        figsize=figsize,\n",
    "    )  # creating the 2 subplots\n",
    "    sns.boxplot(\n",
    "        data=data, x=feature, ax=ax_box2, showmeans=True, color=\"violet\"\n",
    "    )  # boxplot will be created and a star will indicate the mean value of the column\n",
    "    sns.histplot(\n",
    "        data=data, x=feature, kde=kde, ax=ax_hist2, bins=bins, palette=\"winter\"\n",
    "    ) if bins else sns.histplot(\n",
    "        data=data, x=feature, kde=kde, ax=ax_hist2\n",
    "    )  # For histogram\n",
    "    ax_hist2.axvline(\n",
    "        data[feature].mean(), color=\"green\", linestyle=\"--\"\n",
    "    )  # Add mean to the histogram\n",
    "    ax_hist2.axvline(\n",
    "        data[feature].median(), color=\"black\", linestyle=\"-\"\n",
    "    )  # Add median to the histogram"
   ]
  },
  {
   "cell_type": "code",
   "execution_count": null,
   "id": "6f11bfd7",
   "metadata": {},
   "outputs": [],
   "source": [
    "# function to create labeled barplots\n",
    "\n",
    "\n",
    "def labeled_barplot(data, feature, perc=False, n=None):\n",
    "    \"\"\"\n",
    "    Barplot with percentage at the top\n",
    "\n",
    "    data: dataframe\n",
    "    feature: dataframe column\n",
    "    perc: whether to display percentages instead of count (default is False)\n",
    "    n: displays the top n category levels (default is None, i.e., display all levels)\n",
    "    \"\"\"\n",
    "\n",
    "    total = len(data[feature])  # length of the column\n",
    "    count = data[feature].nunique()\n",
    "    if n is None:\n",
    "        plt.figure(figsize=(count + 1, 5))\n",
    "    else:\n",
    "        plt.figure(figsize=(n + 1, 5))\n",
    "\n",
    "    plt.xticks(rotation=90, fontsize=15)\n",
    "    ax = sns.countplot(\n",
    "        data=data,\n",
    "        x=feature,\n",
    "        palette=\"Paired\",\n",
    "        order=data[feature].value_counts().index[:n].sort_values(),\n",
    "    )\n",
    "\n",
    "    for p in ax.patches:\n",
    "        if perc == True:\n",
    "            label = \"{:.1f}%\".format(\n",
    "                100 * p.get_height() / total\n",
    "            )  # percentage of each class of the category\n",
    "        else:\n",
    "            label = p.get_height()  # count of each level of the category\n",
    "\n",
    "        x = p.get_x() + p.get_width() / 2  # width of the plot\n",
    "        y = p.get_height()  # height of the plot\n",
    "\n",
    "        ax.annotate(\n",
    "            label,\n",
    "            (x, y),\n",
    "            ha=\"center\",\n",
    "            va=\"center\",\n",
    "            size=12,\n",
    "            xytext=(0, 5),\n",
    "            textcoords=\"offset points\",\n",
    "        )  # annotate the percentage\n",
    "\n",
    "    plt.show()  # show the plot"
   ]
  },
  {
   "cell_type": "markdown",
   "id": "cd96cc44",
   "metadata": {},
   "source": [
    "#### Statistical Summary of the data"
   ]
  },
  {
   "cell_type": "code",
   "execution_count": null,
   "id": "691aa025",
   "metadata": {},
   "outputs": [],
   "source": [
    "data.describe(include='all').T"
   ]
  },
  {
   "cell_type": "markdown",
   "id": "f0ba6942",
   "metadata": {},
   "source": [
    "### Summary of observations"
   ]
  },
  {
   "cell_type": "code",
   "execution_count": null,
   "id": "ee0a78fd",
   "metadata": {},
   "outputs": [],
   "source": [
    "columns = list(data)[0:-1] # Excluding Outcome column which has only \n",
    "data[columns].hist(stacked=False, bins=100, figsize=(12,30), layout=(14,2)); \n"
   ]
  },
  {
   "cell_type": "markdown",
   "id": "be45b74e",
   "metadata": {},
   "source": [
    "### Observations on ProdTaken"
   ]
  },
  {
   "cell_type": "code",
   "execution_count": null,
   "id": "1fe4d40a",
   "metadata": {},
   "outputs": [],
   "source": [
    "labeled_barplot(data, \"ProdTaken\",perc=True)"
   ]
  },
  {
   "cell_type": "markdown",
   "id": "9908fa2c",
   "metadata": {},
   "source": [
    "* 18.8% of customers purchased a package"
   ]
  },
  {
   "cell_type": "markdown",
   "id": "47c66b6c",
   "metadata": {},
   "source": [
    "### Observations on Age"
   ]
  },
  {
   "cell_type": "code",
   "execution_count": null,
   "id": "a67faefd",
   "metadata": {},
   "outputs": [],
   "source": [
    "labeled_barplot(data, \"Age\",perc=True)"
   ]
  },
  {
   "cell_type": "code",
   "execution_count": null,
   "id": "8a039d58",
   "metadata": {},
   "outputs": [],
   "source": [
    "histogram_boxplot(data,\"Age\")"
   ]
  },
  {
   "cell_type": "markdown",
   "id": "476f9bf5",
   "metadata": {},
   "source": [
    "* Age looks to resemble a uniform distribution\n",
    "* 35 is the most common observation in the Age column"
   ]
  },
  {
   "cell_type": "markdown",
   "id": "f48b958b",
   "metadata": {},
   "source": [
    "### Observations on TypeofContact "
   ]
  },
  {
   "cell_type": "code",
   "execution_count": null,
   "id": "4f0f8c15",
   "metadata": {},
   "outputs": [],
   "source": [
    "labeled_barplot(data, \"TypeofContact\",perc=True)"
   ]
  },
  {
   "cell_type": "markdown",
   "id": "e237934f",
   "metadata": {},
   "source": [
    "* 70.5% of the observations are Self Enquiry"
   ]
  },
  {
   "cell_type": "markdown",
   "id": "6f3a112a",
   "metadata": {},
   "source": [
    "### Observations on CityTier"
   ]
  },
  {
   "cell_type": "code",
   "execution_count": null,
   "id": "78ac6def",
   "metadata": {},
   "outputs": [],
   "source": [
    "labeled_barplot(data, \"CityTier\",perc=True)"
   ]
  },
  {
   "cell_type": "markdown",
   "id": "c98f0ac3",
   "metadata": {},
   "source": [
    "* City Tier of 1 has 65.3% of the data\n",
    "* City Tier of 3 has the second most with 30.7\n",
    "* City Tier of 2 has only 4.1%"
   ]
  },
  {
   "cell_type": "markdown",
   "id": "d033141d",
   "metadata": {},
   "source": [
    "### Observations on DurationOfPitch"
   ]
  },
  {
   "cell_type": "code",
   "execution_count": null,
   "id": "adb6e221",
   "metadata": {},
   "outputs": [],
   "source": [
    "labeled_barplot(data, \"DurationOfPitch\",perc=True)"
   ]
  },
  {
   "cell_type": "code",
   "execution_count": null,
   "id": "12c9cd9c",
   "metadata": {},
   "outputs": [],
   "source": [
    "histogram_boxplot(data,\"DurationOfPitch\")"
   ]
  },
  {
   "cell_type": "markdown",
   "id": "1b5691fe",
   "metadata": {},
   "source": [
    "* DurationOfPitch is Right skewed- most pitches gravitate to shorter timeframes"
   ]
  },
  {
   "cell_type": "markdown",
   "id": "aea6c19b",
   "metadata": {},
   "source": [
    "### Observations on Occupation "
   ]
  },
  {
   "cell_type": "code",
   "execution_count": null,
   "id": "06dd02c1",
   "metadata": {},
   "outputs": [],
   "source": [
    "labeled_barplot(data, \"Occupation\",perc=True)"
   ]
  },
  {
   "cell_type": "markdown",
   "id": "0f037864",
   "metadata": {},
   "source": [
    "* Salaried has the most observations with 48.4%, followed closely  by Small Business with 42.6%\n",
    "* Free Lancer is the smallest of this group "
   ]
  },
  {
   "cell_type": "markdown",
   "id": "311da9e8",
   "metadata": {},
   "source": [
    "### Observations on Gender"
   ]
  },
  {
   "cell_type": "code",
   "execution_count": null,
   "id": "a702f2cc",
   "metadata": {},
   "outputs": [],
   "source": [
    "labeled_barplot(data, \"Gender\",perc=True)"
   ]
  },
  {
   "cell_type": "markdown",
   "id": "acfdac79",
   "metadata": {},
   "source": [
    "* Most observations are Male- with 59.7%"
   ]
  },
  {
   "cell_type": "markdown",
   "id": "f219bfb9",
   "metadata": {},
   "source": [
    "### Observations on NumberOfPersonVisiting"
   ]
  },
  {
   "cell_type": "code",
   "execution_count": null,
   "id": "6b8f9c64",
   "metadata": {},
   "outputs": [],
   "source": [
    "labeled_barplot(data, \"NumberOfPersonVisiting\",perc=True)"
   ]
  },
  {
   "cell_type": "code",
   "execution_count": null,
   "id": "627a9368",
   "metadata": {},
   "outputs": [],
   "source": [
    "histogram_boxplot(data,\"NumberOfPersonVisiting\")"
   ]
  },
  {
   "cell_type": "markdown",
   "id": "5106ba9f",
   "metadata": {},
   "source": [
    "* Most of the observations have 2 , 3 or 4 people visiting. 3 is the most numerous with 49.1% \n",
    "* 5 and 1 are outliers"
   ]
  },
  {
   "cell_type": "markdown",
   "id": "918601d2",
   "metadata": {},
   "source": [
    "### Observations on NumberOfFollowups  "
   ]
  },
  {
   "cell_type": "code",
   "execution_count": null,
   "id": "13a8b021",
   "metadata": {},
   "outputs": [],
   "source": [
    "histogram_boxplot(data,\"NumberOfFollowups\")"
   ]
  },
  {
   "cell_type": "markdown",
   "id": "99c1c932",
   "metadata": {},
   "source": [
    "* NumberOfFollowups- 4 has the most with 42.3%\n",
    "* 3 has 30% and 5 has 15.7%"
   ]
  },
  {
   "cell_type": "markdown",
   "id": "e1e5ed1e",
   "metadata": {},
   "source": [
    "### Observations on ProductPitched "
   ]
  },
  {
   "cell_type": "code",
   "execution_count": null,
   "id": "64689d8d",
   "metadata": {},
   "outputs": [],
   "source": [
    "labeled_barplot(data, \"ProductPitched\",perc=True)"
   ]
  },
  {
   "cell_type": "markdown",
   "id": "b504dd5f",
   "metadata": {},
   "source": [
    "* Basic (37.7%) is the most popular closely followed by the Deluxe package (35.4%)"
   ]
  },
  {
   "cell_type": "markdown",
   "id": "52f6386d",
   "metadata": {},
   "source": [
    "### Observations on PreferredPropertyStar "
   ]
  },
  {
   "cell_type": "code",
   "execution_count": null,
   "id": "059b1904",
   "metadata": {},
   "outputs": [],
   "source": [
    "labeled_barplot(data, \"PreferredPropertyStar\",perc=True)"
   ]
  },
  {
   "cell_type": "markdown",
   "id": "a9be0db0",
   "metadata": {},
   "source": [
    "- 61.8% of respondents prefer a 3 star\n",
    "- 19.6% prefer a 5 star\n",
    "- 18.7% prefer a 4 star"
   ]
  },
  {
   "cell_type": "markdown",
   "id": "105cbe91",
   "metadata": {},
   "source": [
    "### Observations on MaritalStatus"
   ]
  },
  {
   "cell_type": "code",
   "execution_count": null,
   "id": "1021303c",
   "metadata": {},
   "outputs": [],
   "source": [
    "labeled_barplot(data, \"MaritalStatus\",perc=True)"
   ]
  },
  {
   "cell_type": "markdown",
   "id": "396381da",
   "metadata": {},
   "source": [
    "- 47.9% are Married\n",
    "- Divorced (19.4%), Single(18.7%) and Unmarried(14%) are smaller than Married by a large sum"
   ]
  },
  {
   "cell_type": "markdown",
   "id": "2685a9a6",
   "metadata": {},
   "source": [
    "### Observations on NumberOfTrips"
   ]
  },
  {
   "cell_type": "code",
   "execution_count": null,
   "id": "d46e5675",
   "metadata": {},
   "outputs": [],
   "source": [
    "labeled_barplot(data, \"NumberOfTrips\",perc=True)"
   ]
  },
  {
   "cell_type": "code",
   "execution_count": null,
   "id": "e919b0a3",
   "metadata": {},
   "outputs": [],
   "source": [
    "histogram_boxplot(data,\"NumberOfTrips\")"
   ]
  },
  {
   "cell_type": "markdown",
   "id": "26f55c4d",
   "metadata": {},
   "source": [
    "* Number of Trips is Skewed to the Right\n",
    "* Most fall between 2 and 4 trips"
   ]
  },
  {
   "cell_type": "markdown",
   "id": "e9a9b136",
   "metadata": {},
   "source": [
    "### Observations on Passport "
   ]
  },
  {
   "cell_type": "code",
   "execution_count": null,
   "id": "44c1049f",
   "metadata": {},
   "outputs": [],
   "source": [
    "labeled_barplot(data, \"Passport\",perc=True)"
   ]
  },
  {
   "cell_type": "markdown",
   "id": "96754b14",
   "metadata": {},
   "source": [
    "* most do not have a passport, however 29.1% do have a passport"
   ]
  },
  {
   "cell_type": "markdown",
   "id": "0b93faf7",
   "metadata": {},
   "source": [
    "### Observations on PitchSatisfactionScore"
   ]
  },
  {
   "cell_type": "code",
   "execution_count": null,
   "id": "82a2c7cc",
   "metadata": {},
   "outputs": [],
   "source": [
    "labeled_barplot(data, \"PitchSatisfactionScore\",perc=True)"
   ]
  },
  {
   "cell_type": "code",
   "execution_count": null,
   "id": "dcf659c4",
   "metadata": {},
   "outputs": [],
   "source": [
    "histogram_boxplot(data,\"PitchSatisfactionScore\")"
   ]
  },
  {
   "cell_type": "markdown",
   "id": "b7daa4e1",
   "metadata": {},
   "source": [
    "* the most common observation is a 3 - this may indicate the need to work on the sales pitch to improve the overall rating"
   ]
  },
  {
   "cell_type": "markdown",
   "id": "0db13334",
   "metadata": {},
   "source": [
    "### Observations on OwnCar"
   ]
  },
  {
   "cell_type": "code",
   "execution_count": null,
   "id": "8e9ec00f",
   "metadata": {},
   "outputs": [],
   "source": [
    "labeled_barplot(data, \"OwnCar\",perc=True)"
   ]
  },
  {
   "cell_type": "markdown",
   "id": "33d2f3b6",
   "metadata": {},
   "source": [
    "* Most own their own car- 62% versus 38% that do not"
   ]
  },
  {
   "cell_type": "markdown",
   "id": "ba4fa1ac",
   "metadata": {},
   "source": [
    "### Observations on NumberOfChildrenVisiting"
   ]
  },
  {
   "cell_type": "code",
   "execution_count": null,
   "id": "c47d0146",
   "metadata": {},
   "outputs": [],
   "source": [
    "labeled_barplot(data, \"NumberOfChildrenVisiting\",perc=True)"
   ]
  },
  {
   "cell_type": "code",
   "execution_count": null,
   "id": "c6c084e7",
   "metadata": {},
   "outputs": [],
   "source": [
    "histogram_boxplot(data,\"NumberOfChildrenVisiting\")"
   ]
  },
  {
   "cell_type": "markdown",
   "id": "2f3e115e",
   "metadata": {},
   "source": [
    "* 1 or 2 children accounts for 66% of the data"
   ]
  },
  {
   "cell_type": "markdown",
   "id": "0355b45a",
   "metadata": {},
   "source": [
    "### Observations on Designation"
   ]
  },
  {
   "cell_type": "code",
   "execution_count": null,
   "id": "cfde9e1f",
   "metadata": {},
   "outputs": [],
   "source": [
    "labeled_barplot(data, \"Designation\",perc=True)"
   ]
  },
  {
   "cell_type": "markdown",
   "id": "91e7c649",
   "metadata": {},
   "source": [
    "- Executive and Manager account for 73.1% of the data with Executive being the most numerous."
   ]
  },
  {
   "cell_type": "markdown",
   "id": "bffe4254",
   "metadata": {},
   "source": [
    "### Observations on MonthlyIncome"
   ]
  },
  {
   "cell_type": "code",
   "execution_count": null,
   "id": "9db27511",
   "metadata": {},
   "outputs": [],
   "source": [
    "histogram_boxplot(data,\"MonthlyIncome\")"
   ]
  },
  {
   "cell_type": "markdown",
   "id": "30e6b4e9",
   "metadata": {},
   "source": [
    "* Montly income is slightly skewed to the right with several outliers the larger the income becomes.\n",
    "* $23619.853491 is the average income "
   ]
  },
  {
   "cell_type": "markdown",
   "id": "3e9a7b0d",
   "metadata": {},
   "source": [
    "## Bivariate Analysis"
   ]
  },
  {
   "cell_type": "code",
   "execution_count": null,
   "id": "919e1683",
   "metadata": {},
   "outputs": [],
   "source": [
    "# function to plot stacked bar chart\n",
    "\n",
    "\n",
    "def stacked_barplot(data, predictor, target):\n",
    "    \"\"\"\n",
    "    Print the category counts and plot a stacked bar chart\n",
    "\n",
    "    data: dataframe\n",
    "    predictor: independent variable\n",
    "    target: target variable\n",
    "    \"\"\"\n",
    "    count = data[predictor].nunique()\n",
    "    sorter = data[target].value_counts().index[-1]\n",
    "    tab1 = pd.crosstab(data[predictor], data[target], margins=True).sort_values(\n",
    "        by=sorter, ascending=False\n",
    "    )\n",
    "    print(tab1)\n",
    "    print(\"-\" * 120)\n",
    "    tab = pd.crosstab(data[predictor], data[target], normalize=\"index\").sort_values(\n",
    "        by=sorter, ascending=False\n",
    "    )\n",
    "    tab.plot(kind=\"bar\", stacked=True, figsize=(count + 5, 6))\n",
    "    plt.legend(\n",
    "        loc=\"lower left\", frameon=False,\n",
    "    )\n",
    "    plt.legend(loc=\"upper left\", bbox_to_anchor=(1, 1))\n",
    "    plt.show()"
   ]
  },
  {
   "cell_type": "code",
   "execution_count": null,
   "id": "f849699d",
   "metadata": {},
   "outputs": [],
   "source": [
    "### function to plot distributions wrt target\n",
    "\n",
    "\n",
    "def distribution_plot_wrt_target(data, predictor, target):\n",
    "\n",
    "    fig, axs = plt.subplots(2, 2, figsize=(12, 10))\n",
    "\n",
    "    target_uniq = data[target].unique()\n",
    "\n",
    "    axs[0, 0].set_title(\"Distribution of target for target=\" + str(target_uniq[0]))\n",
    "    sns.histplot(\n",
    "        data=data[data[target] == target_uniq[0]],\n",
    "        x=predictor,\n",
    "        kde=True,\n",
    "        ax=axs[0, 0],\n",
    "        color=\"teal\",\n",
    "        stat=\"density\",\n",
    "    )\n",
    "\n",
    "    axs[0, 1].set_title(\"Distribution of target for target=\" + str(target_uniq[1]))\n",
    "    sns.histplot(\n",
    "        data=data[data[target] == target_uniq[1]],\n",
    "        x=predictor,\n",
    "        kde=True,\n",
    "        ax=axs[0, 1],\n",
    "        color=\"orange\",\n",
    "        stat=\"density\",\n",
    "    )\n",
    "\n",
    "    axs[1, 0].set_title(\"Boxplot w.r.t target\")\n",
    "    sns.boxplot(data=data, x=target, y=predictor, ax=axs[1, 0], palette=\"gist_rainbow\")\n",
    "\n",
    "    axs[1, 1].set_title(\"Boxplot (without outliers) w.r.t target\")\n",
    "    sns.boxplot(\n",
    "        data=data,\n",
    "        x=target,\n",
    "        y=predictor,\n",
    "        ax=axs[1, 1],\n",
    "        showfliers=False,\n",
    "        palette=\"gist_rainbow\",\n",
    "    )\n",
    "\n",
    "    plt.tight_layout()\n",
    "    plt.show()"
   ]
  },
  {
   "cell_type": "markdown",
   "id": "2a8e5322",
   "metadata": {},
   "source": [
    "### ProdTaken vs Age"
   ]
  },
  {
   "cell_type": "code",
   "execution_count": null,
   "id": "da7a34e9",
   "metadata": {},
   "outputs": [],
   "source": [
    "stacked_barplot(data,\"Age\", \"ProdTaken\")"
   ]
  },
  {
   "cell_type": "code",
   "execution_count": null,
   "id": "8a31bd2b",
   "metadata": {},
   "outputs": [],
   "source": [
    "distribution_plot_wrt_target(data, \"Age\", \"ProdTaken\")"
   ]
  },
  {
   "cell_type": "markdown",
   "id": "bc488fb6",
   "metadata": {},
   "source": [
    "* Age is skewed to the right slightly for taking the product indicating that there may be a slight age preference\n",
    "* Age resembles a normal distribution for those not taking the product"
   ]
  },
  {
   "cell_type": "markdown",
   "id": "9420e9b2",
   "metadata": {},
   "source": [
    "### ProdTaken vs TypeofContact"
   ]
  },
  {
   "cell_type": "code",
   "execution_count": null,
   "id": "1ea45c79",
   "metadata": {},
   "outputs": [],
   "source": [
    "stacked_barplot(data,\"TypeofContact\", \"ProdTaken\")"
   ]
  },
  {
   "cell_type": "code",
   "execution_count": null,
   "id": "0753455f",
   "metadata": {},
   "outputs": [],
   "source": [
    "distribution_plot_wrt_target(data,\"ProdTaken\",\"TypeofContact\")"
   ]
  },
  {
   "cell_type": "markdown",
   "id": "f2513993",
   "metadata": {},
   "source": [
    "* company invited respondents have a higher percentage of taking the product\n",
    "* Self Enquiry respondents are more numerous overall "
   ]
  },
  {
   "cell_type": "markdown",
   "id": "505603be",
   "metadata": {},
   "source": [
    "### ProdTaken vs CityTier"
   ]
  },
  {
   "cell_type": "code",
   "execution_count": null,
   "id": "4db70687",
   "metadata": {},
   "outputs": [],
   "source": [
    "stacked_barplot(data,\"CityTier\", \"ProdTaken\")"
   ]
  },
  {
   "cell_type": "markdown",
   "id": "f7df4634",
   "metadata": {},
   "source": [
    "* Tier 2 and 3 seem to have a similar success rate that is slightly better than tier 1 "
   ]
  },
  {
   "cell_type": "markdown",
   "id": "b2b52ba4",
   "metadata": {},
   "source": [
    "### DurationofPitch vs ProdTaken"
   ]
  },
  {
   "cell_type": "code",
   "execution_count": null,
   "id": "f39e66f9",
   "metadata": {},
   "outputs": [],
   "source": [
    "stacked_barplot(data,\"DurationOfPitch\", \"ProdTaken\")"
   ]
  },
  {
   "cell_type": "code",
   "execution_count": null,
   "id": "09f2babf",
   "metadata": {},
   "outputs": [],
   "source": [
    "plt.figure(figsize=(15, 5))\n",
    "\n",
    "plt.subplot(1, 2, 1)\n",
    "sns.barplot(data=data, y=\"ProdTaken\", x=\"DurationOfPitch\")\n",
    "plt.xticks(rotation=90)\n",
    "\n",
    "plt.show()"
   ]
  },
  {
   "cell_type": "markdown",
   "id": "dab68f47",
   "metadata": {},
   "source": [
    "* Duration of the pitch appears to have important curve. There is a double peak at 19 and 31, however the longer the pitch the less successful generally in converting to take the product"
   ]
  },
  {
   "cell_type": "markdown",
   "id": "6a8feadf",
   "metadata": {},
   "source": [
    "### Occupation vs ProdTaken"
   ]
  },
  {
   "cell_type": "code",
   "execution_count": null,
   "id": "bcebb1aa",
   "metadata": {},
   "outputs": [],
   "source": [
    "stacked_barplot(data,\"Occupation\",\"ProdTaken\")"
   ]
  },
  {
   "cell_type": "markdown",
   "id": "51155c94",
   "metadata": {},
   "source": [
    "* Since there were only 2 observations and in both cases they took the product , we need to consider this very carefully because it could be a outlier\n",
    "* Large Business clients have a higher percentage over Small Business and Salaried "
   ]
  },
  {
   "cell_type": "markdown",
   "id": "0e87b28a",
   "metadata": {},
   "source": [
    "### Gender vs ProdTaken"
   ]
  },
  {
   "cell_type": "code",
   "execution_count": null,
   "id": "1890e668",
   "metadata": {},
   "outputs": [],
   "source": [
    "stacked_barplot(data,\"ProdTaken\",\"Gender\")"
   ]
  },
  {
   "cell_type": "markdown",
   "id": "baa68f76",
   "metadata": {},
   "source": [
    "* Males have a slightly higher probability of taking the package"
   ]
  },
  {
   "cell_type": "markdown",
   "id": "17ea703a",
   "metadata": {},
   "source": [
    "### NumberOfPersonVisiting vs ProdTaken"
   ]
  },
  {
   "cell_type": "code",
   "execution_count": null,
   "id": "41975f59",
   "metadata": {},
   "outputs": [],
   "source": [
    "stacked_barplot(data,\"ProdTaken\",\"NumberOfPersonVisiting\")"
   ]
  },
  {
   "cell_type": "markdown",
   "id": "b8e1e8bc",
   "metadata": {},
   "source": [
    "* Number of Persons visiting seem to have similar results except when there is only 1 - in this case they have not opted for the product"
   ]
  },
  {
   "cell_type": "markdown",
   "id": "8e4d8d4e",
   "metadata": {},
   "source": [
    "### NumberOfFollowups vs ProdTaken"
   ]
  },
  {
   "cell_type": "code",
   "execution_count": null,
   "id": "cb0a887c",
   "metadata": {},
   "outputs": [],
   "source": [
    "stacked_barplot(data,\"NumberOfFollowups\",\"ProdTaken\")"
   ]
  },
  {
   "cell_type": "markdown",
   "id": "40477561",
   "metadata": {},
   "source": [
    "* The larger the number of Followups , the larger the percentage of respondents that take the product"
   ]
  },
  {
   "cell_type": "markdown",
   "id": "2dbc209c",
   "metadata": {},
   "source": [
    "### ProductPitched  vs ProdTaken"
   ]
  },
  {
   "cell_type": "code",
   "execution_count": null,
   "id": "cd483f5e",
   "metadata": {},
   "outputs": [],
   "source": [
    "stacked_barplot(data,\"ProductPitched\",\"ProdTaken\")"
   ]
  },
  {
   "cell_type": "markdown",
   "id": "5676d427",
   "metadata": {},
   "source": [
    "* The basic package has a higher percentage and number of acceptance- the higher the product offering the less successful.\n",
    "* Depending on how this is selected, this could be useful"
   ]
  },
  {
   "cell_type": "markdown",
   "id": "5084598e",
   "metadata": {},
   "source": [
    "### PreferredPropertyStar  vs ProdTaken"
   ]
  },
  {
   "cell_type": "code",
   "execution_count": null,
   "id": "f8d20398",
   "metadata": {},
   "outputs": [],
   "source": [
    "stacked_barplot(data,\"PreferredPropertyStar\",\"ProdTaken\")"
   ]
  },
  {
   "cell_type": "markdown",
   "id": "ef64affb",
   "metadata": {},
   "source": [
    "* the higher the star the higher the probability for success.\n",
    "* This may indicate that clients that have a more select taste may be more open to the product. "
   ]
  },
  {
   "cell_type": "markdown",
   "id": "f6cbff44",
   "metadata": {},
   "source": [
    "### MaritalStatus  vs ProdTaken"
   ]
  },
  {
   "cell_type": "code",
   "execution_count": null,
   "id": "1c6a33db",
   "metadata": {},
   "outputs": [],
   "source": [
    "stacked_barplot(data,\"MaritalStatus\",\"ProdTaken\")"
   ]
  },
  {
   "cell_type": "markdown",
   "id": "98210592",
   "metadata": {},
   "source": [
    "* this is interesting- Single and Unmarried have a higher percentage of likelihood of taking the package\n"
   ]
  },
  {
   "cell_type": "markdown",
   "id": "04def47e",
   "metadata": {},
   "source": [
    "### NumberOfTrips  vs ProdTaken"
   ]
  },
  {
   "cell_type": "code",
   "execution_count": null,
   "id": "58615313",
   "metadata": {},
   "outputs": [],
   "source": [
    "stacked_barplot(data,\"NumberOfTrips\",\"ProdTaken\")"
   ]
  },
  {
   "cell_type": "code",
   "execution_count": null,
   "id": "d43f40f8",
   "metadata": {},
   "outputs": [],
   "source": [
    "distribution_plot_wrt_target(data,\"NumberOfTrips\",\"ProdTaken\")"
   ]
  },
  {
   "cell_type": "markdown",
   "id": "adfe3e42",
   "metadata": {},
   "source": [
    "* similar distributions, looks to be a mixed result"
   ]
  },
  {
   "cell_type": "markdown",
   "id": "f72323b1",
   "metadata": {},
   "source": [
    "### Passport  vs ProdTaken"
   ]
  },
  {
   "cell_type": "code",
   "execution_count": null,
   "id": "18235167",
   "metadata": {},
   "outputs": [],
   "source": [
    "distribution_plot_wrt_target(data,\"ProdTaken\",\"Passport\")"
   ]
  },
  {
   "cell_type": "markdown",
   "id": "189289e2",
   "metadata": {},
   "source": [
    "* if a obserrvation has a passport, they are more likely to get the package"
   ]
  },
  {
   "cell_type": "markdown",
   "id": "7763565e",
   "metadata": {},
   "source": [
    "### PitchSatisfactionScore  vs ProdTaken"
   ]
  },
  {
   "cell_type": "code",
   "execution_count": null,
   "id": "6cd397d7",
   "metadata": {},
   "outputs": [],
   "source": [
    "stacked_barplot(data,\"PitchSatisfactionScore\",\"ProdTaken\")"
   ]
  },
  {
   "cell_type": "markdown",
   "id": "210f3c3a",
   "metadata": {},
   "source": [
    "* There seems to be a weak but present indication that the higher the satisfaction on the Pitch, the higher the probability of successfully selling the product"
   ]
  },
  {
   "cell_type": "markdown",
   "id": "5d41bbce",
   "metadata": {},
   "source": [
    "### OwnCar  vs ProdTaken"
   ]
  },
  {
   "cell_type": "code",
   "execution_count": null,
   "id": "89066fbd",
   "metadata": {},
   "outputs": [],
   "source": [
    "stacked_barplot(data,\"OwnCar\",\"ProdTaken\")"
   ]
  },
  {
   "cell_type": "code",
   "execution_count": null,
   "id": "4b470ab3",
   "metadata": {},
   "outputs": [],
   "source": [
    "distribution_plot_wrt_target(data,\"ProdTaken\",\"OwnCar\")"
   ]
  },
  {
   "cell_type": "markdown",
   "id": "4812518c",
   "metadata": {},
   "source": [
    "* there does not seem to be a strong relationship between owning a car and buying a package"
   ]
  },
  {
   "cell_type": "markdown",
   "id": "a7893619",
   "metadata": {},
   "source": [
    "### NumberOfChildrenVisiting vs ProdTaken"
   ]
  },
  {
   "cell_type": "code",
   "execution_count": null,
   "id": "ba5ee414",
   "metadata": {},
   "outputs": [],
   "source": [
    "stacked_barplot(data,\"NumberOfChildrenVisiting\",\"ProdTaken\")"
   ]
  },
  {
   "cell_type": "markdown",
   "id": "e7feddfe",
   "metadata": {},
   "source": [
    "* The Number Of Children Visiting does not seem to influence the purchase of the package"
   ]
  },
  {
   "cell_type": "markdown",
   "id": "ae7d3358",
   "metadata": {},
   "source": [
    "### Designation vs ProdTaken"
   ]
  },
  {
   "cell_type": "code",
   "execution_count": null,
   "id": "2dfdd86f",
   "metadata": {},
   "outputs": [],
   "source": [
    "stacked_barplot(data,\"Designation\",\"ProdTaken\")"
   ]
  },
  {
   "cell_type": "markdown",
   "id": "955c5777",
   "metadata": {},
   "source": [
    "Executives and Senior Managers are more likely to buy the package"
   ]
  },
  {
   "cell_type": "markdown",
   "id": "a0f1c311",
   "metadata": {},
   "source": [
    "### MonthlyIncome vs ProdTaken"
   ]
  },
  {
   "cell_type": "code",
   "execution_count": null,
   "id": "516de84a",
   "metadata": {},
   "outputs": [],
   "source": [
    "distribution_plot_wrt_target(data,\"MonthlyIncome\",\"ProdTaken\")"
   ]
  },
  {
   "cell_type": "markdown",
   "id": "b564194d",
   "metadata": {},
   "source": [
    "* when the monthly income is slightly less there is a more probable chance that they will buy the package. This may indicate that those that are making more money cannot take the time to get away. "
   ]
  },
  {
   "cell_type": "code",
   "execution_count": null,
   "id": "18262e3d",
   "metadata": {},
   "outputs": [],
   "source": [
    "stacked_barplot(data,\"NumberOfPersonVisiting\",\"NumberOfChildrenVisiting\")"
   ]
  },
  {
   "cell_type": "code",
   "execution_count": null,
   "id": "a9646e0e",
   "metadata": {},
   "outputs": [],
   "source": [
    "distribution_plot_wrt_target(data,\"NumberOfPersonVisiting\",\"NumberOfChildrenVisiting\")"
   ]
  },
  {
   "cell_type": "markdown",
   "id": "1e34a149",
   "metadata": {},
   "source": [
    "* there is a relationship between number of kids visiting and number of people visiting."
   ]
  },
  {
   "cell_type": "code",
   "execution_count": null,
   "id": "dffc8bea",
   "metadata": {},
   "outputs": [],
   "source": [
    "sns.pairplot(df,diag_kind='kde')"
   ]
  },
  {
   "cell_type": "code",
   "execution_count": null,
   "id": "f446ff10",
   "metadata": {},
   "outputs": [],
   "source": [
    "numeric_columns = data.select_dtypes(include=np.number).columns.tolist()\n",
    "\n",
    "# correlation heatmap\n",
    "plt.figure(figsize=(20, 14))\n",
    "sns.heatmap(\n",
    "    data[numeric_columns].corr(),\n",
    "    annot=True,\n",
    "    vmin=-1,\n",
    "    vmax=1,\n",
    "    fmt=\".2f\",\n",
    "    cmap=\"Spectral\",\n",
    ")\n",
    "plt.show()"
   ]
  },
  {
   "cell_type": "markdown",
   "id": "3e9ab79e",
   "metadata": {},
   "source": [
    "* The highest correlation is NumberOfChildrenVisiting and NumberOfPersonVisiting. It is .61 so we will not automatically drop this variable but we will watch it.\n",
    "* The second highest variable is Age to Montly Income- .46"
   ]
  },
  {
   "cell_type": "markdown",
   "id": "c6ced3db",
   "metadata": {},
   "source": [
    "### Outlier Inspection and treatment"
   ]
  },
  {
   "cell_type": "code",
   "execution_count": null,
   "id": "ec622238",
   "metadata": {},
   "outputs": [],
   "source": [
    "# outlier detection using boxplot\n",
    "numeric_columns = data.select_dtypes(include=np.number).columns.tolist()\n",
    "# dropping Personal_Loan as it is the dependent variable\n",
    "# dropping ZIPCode as it is a geographic identifier\n",
    "\n",
    "numeric_columns.remove(\"ProdTaken\")\n",
    "\n",
    "\n",
    "plt.figure(figsize=(15, 12))\n",
    "\n",
    "for i, variable in enumerate(numeric_columns):\n",
    "    plt.subplot(4, 4, i + 1)\n",
    "    plt.boxplot(data[variable], whis=1.5)\n",
    "    plt.tight_layout()\n",
    "    plt.title(variable)\n",
    "\n",
    "plt.show()"
   ]
  },
  {
   "cell_type": "markdown",
   "id": "1a5b2277",
   "metadata": {},
   "source": [
    "* there are outliers on NumberOfPersonVisiting however the outliers are real observable data that we would like to maintain for our analysis-"
   ]
  },
  {
   "cell_type": "markdown",
   "id": "5dbd0e16",
   "metadata": {},
   "source": [
    "## Building bagging and boosting models"
   ]
  },
  {
   "cell_type": "code",
   "execution_count": null,
   "id": "4b222dd9",
   "metadata": {},
   "outputs": [],
   "source": [
    "X = data.drop(\"ProdTaken\" , axis=1)\n",
    "y = data.pop(\"ProdTaken\")"
   ]
  },
  {
   "cell_type": "code",
   "execution_count": null,
   "id": "20d9e7b9",
   "metadata": {},
   "outputs": [],
   "source": [
    "X = pd.get_dummies(X, drop_first=False)"
   ]
  },
  {
   "cell_type": "markdown",
   "id": "02c7192b",
   "metadata": {},
   "source": [
    "#### the stratify argument maintains the original distribution of classes in the target variable while splitting the data into train and test sets"
   ]
  },
  {
   "cell_type": "code",
   "execution_count": null,
   "id": "d291b12e",
   "metadata": {},
   "outputs": [],
   "source": [
    "X_train, X_test, y_train, y_test = train_test_split(X, y, test_size=.30, random_state=1,stratify=y)\n",
    "print(X_train.shape,X_test.shape)"
   ]
  },
  {
   "cell_type": "code",
   "execution_count": null,
   "id": "5ab6b4e7",
   "metadata": {},
   "outputs": [],
   "source": [
    "#"
   ]
  },
  {
   "cell_type": "code",
   "execution_count": null,
   "id": "c636a730",
   "metadata": {},
   "outputs": [],
   "source": [
    "y.value_counts(1)"
   ]
  },
  {
   "cell_type": "code",
   "execution_count": null,
   "id": "17df8e66",
   "metadata": {},
   "outputs": [],
   "source": [
    "y_test.value_counts(1)"
   ]
  },
  {
   "cell_type": "markdown",
   "id": "8aa901a9",
   "metadata": {},
   "source": [
    "#### Before building the model, let's create functions to calculate different metrics- Accuracy, Recall and Precision and plot the confusion matrix."
   ]
  },
  {
   "cell_type": "code",
   "execution_count": null,
   "id": "d0e4fc77",
   "metadata": {},
   "outputs": [],
   "source": [
    "# defining a function to compute different metrics to check performance of a classification model built using sklearn\n",
    "def model_performance_classification_sklearn(model, predictors, target):\n",
    "    \"\"\"\n",
    "    Function to compute different metrics to check classification model performance\n",
    "\n",
    "    model: classifier\n",
    "    predictors: independent variables\n",
    "    target: dependent variable\n",
    "    \"\"\"\n",
    "\n",
    "    # predicting using the independent variables\n",
    "    pred = model.predict(predictors)\n",
    "\n",
    "    acc = accuracy_score(target, pred)  # to compute Accuracy\n",
    "    recall = recall_score(target, pred)  # to compute Recall\n",
    "    precision = precision_score(target, pred)  # to compute Precision\n",
    "    f1 = f1_score(target, pred)  # to compute F1-score\n",
    "\n",
    "    # creating a dataframe of metrics\n",
    "    df_perf = pd.DataFrame(\n",
    "        {\n",
    "            \"Accuracy\": acc,\n",
    "            \"Recall\": recall,\n",
    "            \"Precision\": precision,\n",
    "            \"F1\": f1,\n",
    "        },\n",
    "        index=[0],\n",
    "    )\n",
    "\n",
    "    return df_perf"
   ]
  },
  {
   "cell_type": "code",
   "execution_count": null,
   "id": "6ce748c1",
   "metadata": {},
   "outputs": [],
   "source": [
    "def confusion_matrix_sklearn(model, predictors, target):\n",
    "    \"\"\"\n",
    "    To plot the confusion_matrix with percentages\n",
    "\n",
    "    model: classifier\n",
    "    predictors: independent variables\n",
    "    target: dependent variable\n",
    "    \"\"\"\n",
    "    y_pred = model.predict(predictors)\n",
    "    cm = confusion_matrix(target, y_pred)\n",
    "    labels = np.asarray(\n",
    "        [\n",
    "            [\"{0:0.0f}\".format(item) + \"\\n{0:.2%}\".format(item / cm.flatten().sum())]\n",
    "            for item in cm.flatten()\n",
    "        ]\n",
    "    ).reshape(2, 2)\n",
    "\n",
    "    plt.figure(figsize=(6, 4))\n",
    "    sns.heatmap(cm, annot=labels, fmt=\"\")\n",
    "    plt.ylabel(\"True label\")\n",
    "    plt.xlabel(\"Predicted label\")"
   ]
  },
  {
   "cell_type": "markdown",
   "id": "c14d0ced",
   "metadata": {},
   "source": [
    "### Model Prediction \n",
    "-. False Positive-  Customer is predicted to buy a travel package but they do not\n",
    "-  False Negative- Customer is predicted not to buy a travel package but they do  \n",
    "\n",
    "- Since we are trying to avoid both False Negative and False Positive, we will want to maximize the F1 score"
   ]
  },
  {
   "cell_type": "markdown",
   "id": "34a9ad82",
   "metadata": {},
   "source": [
    "### Decision Tree Classifier"
   ]
  },
  {
   "cell_type": "code",
   "execution_count": null,
   "id": "2f81dd0b",
   "metadata": {},
   "outputs": [],
   "source": [
    "#Fitting the model\n",
    "d_tree = DecisionTreeClassifier(random_state=1)\n",
    "d_tree.fit(X_train,y_train)\n",
    "\n",
    "#Calculating different metrics\n",
    "d_tree_model_train_perf=model_performance_classification_sklearn(d_tree,X_train,y_train)\n",
    "print(\"Training performance:\\n\",d_tree_model_train_perf)\n",
    "d_tree_model_test_perf=model_performance_classification_sklearn(d_tree,X_test,y_test)\n",
    "print(\"Testing performance:\\n\",d_tree_model_test_perf)\n",
    "\n",
    "#Creating confusion matrix\n",
    "confusion_matrix_sklearn(d_tree,X_test,y_test)"
   ]
  },
  {
   "cell_type": "code",
   "execution_count": null,
   "id": "d751842e",
   "metadata": {},
   "outputs": [],
   "source": [
    "dTree1 = DecisionTreeClassifier(criterion = 'gini',max_depth=3,random_state=1)\n",
    "dTree1.fit(X_train, y_train)"
   ]
  },
  {
   "cell_type": "code",
   "execution_count": null,
   "id": "b3a76c28",
   "metadata": {},
   "outputs": [],
   "source": [
    "#Choose the type of classifier. \n",
    "dtree_estimator = DecisionTreeClassifier(criterion=\"entropy\", max_depth=3)\n",
    "\n",
    "# Grid of parameters to choose from\n",
    "parameters = {'max_depth': np.arange(2), \n",
    "              'min_samples_leaf': [1, 2, 5],\n",
    "              'max_leaf_nodes' : [2, 3, 5],\n",
    "              'min_impurity_decrease': [0.0001,0.001,0.01,0.1]\n",
    "             }\n",
    "\n",
    "# Type of scoring used to compare parameter combinations\n",
    "scorer = metrics.make_scorer(metrics.f1_score)\n",
    "\n",
    "# Run the grid search\n",
    "grid_obj = GridSearchCV(dtree_estimator, parameters, scoring=scorer,n_jobs=-1)\n",
    "grid_obj = grid_obj.fit(X_train, y_train)\n",
    "\n",
    "# Set the clf to the best combination of parameters\n",
    "dtree_estimator = grid_obj.best_estimator_\n",
    "\n",
    "# Fit the best algorithm to the data. \n",
    "dtree_estimator.fit(X_train, y_train)"
   ]
  },
  {
   "cell_type": "code",
   "execution_count": null,
   "id": "e2cae39e",
   "metadata": {},
   "outputs": [],
   "source": [
    "#Calculating different metrics\n",
    "dtree_estimator_model_train_perf=model_performance_classification_sklearn(d_tree,X_train,y_train)\n",
    "print(\"Training performance:\\n\",dtree_estimator_model_train_perf)\n",
    "dtree_estimator_model_test_perf=model_performance_classification_sklearn(d_tree,X_test,y_test)\n",
    "print(\"Testing performance:\\n\",dtree_estimator_model_test_perf)\n",
    "\n",
    "#Creating confusion matrix\n",
    "confusion_matrix_sklearn(dtree_estimator,X_test,y_test)"
   ]
  },
  {
   "cell_type": "markdown",
   "id": "8e872536",
   "metadata": {},
   "source": [
    "* Decision trees are known to overfit, modification of the decision tree yeilded a very similar result. \n",
    "* F1 score is 70.5, Accuracy is 89.4\n",
    "* there did not seem to be any added benefit to tuning for decision tree"
   ]
  },
  {
   "cell_type": "markdown",
   "id": "da70a898",
   "metadata": {},
   "source": [
    "### Bagging Models"
   ]
  },
  {
   "cell_type": "code",
   "execution_count": null,
   "id": "4e1d8f21",
   "metadata": {},
   "outputs": [],
   "source": [
    "#Fitting the model\n",
    "bagging_classifier = BaggingClassifier(random_state=1)\n",
    "bagging_classifier.fit(X_train,y_train)\n",
    "\n",
    "#Calculating different metrics\n",
    "bagging_classifier_model_train_perf=model_performance_classification_sklearn(bagging_classifier,X_train,y_train)\n",
    "print(bagging_classifier_model_train_perf)\n",
    "bagging_classifier_model_test_perf=model_performance_classification_sklearn(bagging_classifier,X_test,y_test)\n",
    "print(bagging_classifier_model_test_perf)\n",
    "\n",
    "#Creating confusion matrix\n",
    "confusion_matrix_sklearn(bagging_classifier,X_test,y_test)"
   ]
  },
  {
   "cell_type": "code",
   "execution_count": null,
   "id": "d9acf3f9",
   "metadata": {},
   "outputs": [],
   "source": [
    "# Choose the type of classifier. \n",
    "bagging_estimator_tuned = BaggingClassifier(random_state=1)\n",
    "\n",
    "# Grid of parameters to choose from\n",
    "parameters = {'max_samples': [0.7,0.8,0.9,1], \n",
    "              'max_features': [0.7,0.8,0.9,1],\n",
    "              'n_estimators' : [10,20,30,40,50],\n",
    "             }\n",
    "\n",
    "# Type of scoring used to compare parameter combinations\n",
    "scorer = metrics.make_scorer(metrics.f1_score)\n",
    "\n",
    "# Run the grid search\n",
    "grid_obj = GridSearchCV(bagging_estimator_tuned, parameters, scoring=scorer,cv=5)\n",
    "grid_obj = grid_obj.fit(X_train, y_train)\n",
    "\n",
    "# Set the clf to the best combination of parameters\n",
    "bagging_estimator_tuned = grid_obj.best_estimator_\n",
    "\n",
    "# Fit the best algorithm to the data.\n",
    "bagging_estimator_tuned.fit(X_train, y_train)"
   ]
  },
  {
   "cell_type": "code",
   "execution_count": null,
   "id": "b4103fca",
   "metadata": {},
   "outputs": [],
   "source": [
    "#Calculating different metrics\n",
    "bagging_estimator_tuned_model_train_perf=model_performance_classification_sklearn(bagging_estimator_tuned,X_train,y_train)\n",
    "print(bagging_estimator_tuned_model_train_perf)\n",
    "bagging_estimator_tuned_model_test_perf=model_performance_classification_sklearn(bagging_estimator_tuned,X_test,y_test)\n",
    "print(bagging_estimator_tuned_model_test_perf)\n",
    "\n",
    "#Creating confusion matrix\n",
    "confusion_matrix_sklearn(bagging_estimator_tuned,X_test,y_test)"
   ]
  },
  {
   "cell_type": "markdown",
   "id": "16b6ffd0",
   "metadata": {},
   "source": [
    "* Bagging classifier over fitted on both the original run and the modified run\n",
    "* F1 score was improved on the tuned model from 69 to 74.73\n",
    "* Recall was also slightly improved using the tuned model from 57.9 to 62.6\n",
    "* Accuracy and Precision also benefited from the hypertuning."
   ]
  },
  {
   "cell_type": "markdown",
   "id": "ff5de6f4",
   "metadata": {},
   "source": [
    "### Random Forest Classifier"
   ]
  },
  {
   "cell_type": "code",
   "execution_count": null,
   "id": "b63cbe0b",
   "metadata": {},
   "outputs": [],
   "source": [
    "# Fitting the model\n",
    "rf_estimator = RandomForestClassifier(random_state=1, class_weight=\"balanced\")\n",
    "rf_estimator.fit(X_train, y_train)\n",
    "\n",
    "#Calculating different metrics\n",
    "rf_estimator_model_train_perf = model_performance_classification_sklearn(rf_estimator,X_train,y_train)\n",
    "print(\"Training performance:\\n\",rf_estimator_model_train_perf)\n",
    "rf_estimator_model_test_perf = model_performance_classification_sklearn(rf_estimator,X_test,y_test)\n",
    "print(\"Testing performance:\\n\",rf_estimator_model_test_perf)\n",
    "\n",
    "#Creating confusion matrix\n",
    "confusion_matrix_sklearn(rf_estimator,X_test,y_test)"
   ]
  },
  {
   "cell_type": "markdown",
   "id": "8ce05c64",
   "metadata": {},
   "source": [
    "#### model performance on the Test set"
   ]
  },
  {
   "cell_type": "code",
   "execution_count": null,
   "id": "9a7b3552",
   "metadata": {},
   "outputs": [],
   "source": [
    "confusion_matrix_sklearn(bagging_estimator_tuned, X_test, y_test)"
   ]
  },
  {
   "cell_type": "code",
   "execution_count": null,
   "id": "bbd9159e",
   "metadata": {},
   "outputs": [],
   "source": [
    "#Calculating different metrics\n",
    "rf_estimator_model_train_perf = model_performance_classification_sklearn(rf_estimator,X_train,y_train)\n",
    "print(\"Training performance:\\n\",rf_estimator_model_train_perf)\n",
    "rf_estimator_model_test_perf = model_performance_classification_sklearn(rf_estimator,X_test,y_test)\n",
    "print(\"Testing performance:\\n\",rf_estimator_model_test_perf)"
   ]
  },
  {
   "cell_type": "markdown",
   "id": "292c3a24",
   "metadata": {},
   "source": [
    "### Hyperparameter Tuning- Random Forest"
   ]
  },
  {
   "cell_type": "markdown",
   "id": "d32c89be",
   "metadata": {},
   "source": [
    "* Random Forest Classifier\n",
    "- Now, let's see if we can get a better model by tuning the random forest classifier. Some of the important hyperparameters available for random forest classifier are:\n",
    "\n",
    "* n_estimators: The number of trees in the forest, default = 100.\n",
    "* max_features: The number of features to consider when looking for the best split.\n",
    "* class_weight: Weights associated with classes in the form {class_label: weight}.If not given, all classes are supposed to have weight one.\n",
    "* For example: If the frequency of class 0 is 80% and the frequency of class 1 is 20% in the data, then class 0 will become the dominant class and the model will become biased toward the dominant classes. In this case, we can pass a dictionary {0:0.2,1:0.8} to the model to specify the weight of each class and the random forest will give more weightage to class 1.\n",
    "* bootstrap: Whether bootstrap samples are used when building trees. If False, the entire dataset is used to build each tree, default=True.\n",
    "* max_samples: If bootstrap is True, then the number of samples to draw from X to train each base estimator. If None (default), then draw N samples, where N is the number of observations in the train data.\n",
    "* oob_score: Whether to use out-of-bag samples to estimate the generalization accuracy, default=False.\n",
    "\n",
    "* Note: A lot of hyperparameters of Decision Trees are also available to tune Random Forest like max_depth, min_sample_split etc."
   ]
  },
  {
   "cell_type": "code",
   "execution_count": null,
   "id": "fc547a80",
   "metadata": {},
   "outputs": [],
   "source": [
    "# Choose the type of classifier.\n",
    "rf_tuned = RandomForestClassifier(random_state=1, oob_score=True, bootstrap=True)\n",
    "\n",
    "parameters = {\n",
    "    \"max_depth\": list(np.arange(5, 15, 5)),\n",
    "    \"max_features\": [\"sqrt\", \"log2\"],\n",
    "    \"min_samples_split\": [3, 5, 7],\n",
    "    \"n_estimators\": np.arange(10, 100, 10),\n",
    "    'criterion':['gini','entropy'],\n",
    "}\n",
    "\n",
    "# Type of scoring used to compare parameter combinations\n",
    "acc_scorer = metrics.make_scorer(metrics.f1_score)\n",
    "\n",
    "# Run the grid search\n",
    "grid_obj = GridSearchCV(rf_tuned, parameters, scoring=acc_scorer, cv=5, n_jobs=-1)\n",
    "grid_obj = grid_obj.fit(X_train, y_train)\n",
    "\n",
    "# Set the clf to the best combination of parameters\n",
    "rf_tuned = grid_obj.best_estimator_\n",
    "\n",
    "# Fit the best algorithm to the data.\n",
    "rf_tuned.fit(X_train, y_train)"
   ]
  },
  {
   "cell_type": "markdown",
   "id": "b7cbe3db",
   "metadata": {},
   "source": [
    "#### Tuned Model performance on training set"
   ]
  },
  {
   "cell_type": "code",
   "execution_count": null,
   "id": "8db173e5",
   "metadata": {},
   "outputs": [],
   "source": [
    "confusion_matrix_sklearn(rf_tuned, X_train, y_train)"
   ]
  },
  {
   "cell_type": "code",
   "execution_count": null,
   "id": "bae54db1",
   "metadata": {},
   "outputs": [],
   "source": [
    "rf_tuned_model_train_perf = model_performance_classification_sklearn(\n",
    "    rf_tuned, X_train, y_train\n",
    ")\n",
    "rf_tuned_model_train_perf"
   ]
  },
  {
   "cell_type": "code",
   "execution_count": null,
   "id": "de799dd9",
   "metadata": {},
   "outputs": [],
   "source": [
    "confusion_matrix_sklearn(rf_tuned, X_test, y_test)"
   ]
  },
  {
   "cell_type": "code",
   "execution_count": null,
   "id": "4e9617bf",
   "metadata": {},
   "outputs": [],
   "source": [
    "rf_tuned_model_test_perf = model_performance_classification_sklearn(\n",
    "    rf_tuned, X_test, y_test\n",
    ")\n",
    "rf_tuned_model_test_perf"
   ]
  },
  {
   "cell_type": "markdown",
   "id": "c90df75a",
   "metadata": {},
   "source": [
    "* Hypertuning yeilded a lower F1 score \n",
    "* Train and Test of original model was superior to the hypertuned model, however with the difference in the F1 score and Recall it is overfitting and is not well balanced.\n",
    "* the original model preformed fairly well despite the overfitting- i would not recommend tuning ."
   ]
  },
  {
   "cell_type": "markdown",
   "id": "4026b26e",
   "metadata": {},
   "source": [
    "### Random Forest feature importances ranked"
   ]
  },
  {
   "cell_type": "markdown",
   "id": "d85d426d",
   "metadata": {},
   "source": [
    "#### Original model"
   ]
  },
  {
   "cell_type": "code",
   "execution_count": null,
   "id": "e100c434",
   "metadata": {},
   "outputs": [],
   "source": [
    "importances = rf_estimator.feature_importances_\n",
    "indices = np.argsort(importances)\n",
    "feature_names = list(X.columns)\n",
    "\n",
    "plt.figure(figsize=(12,12))\n",
    "plt.title('Feature Importances')\n",
    "plt.barh(range(len(indices)), importances[indices], color='violet', align='center')\n",
    "plt.yticks(range(len(indices)), [feature_names[i] for i in indices])\n",
    "plt.xlabel('Relative Importance')\n",
    "plt.show()"
   ]
  },
  {
   "cell_type": "markdown",
   "id": "5b20cd50",
   "metadata": {},
   "source": [
    "#### Tuned Model"
   ]
  },
  {
   "cell_type": "code",
   "execution_count": null,
   "id": "57c901f1",
   "metadata": {},
   "outputs": [],
   "source": [
    "importances = rf_tuned.feature_importances_\n",
    "indices = np.argsort(importances)\n",
    "feature_names = list(X.columns)\n",
    "\n",
    "plt.figure(figsize=(12,12))\n",
    "plt.title('Feature Importances')\n",
    "plt.barh(range(len(indices)), importances[indices], color='violet', align='center')\n",
    "plt.yticks(range(len(indices)), [feature_names[i] for i in indices])\n",
    "plt.xlabel('Relative Importance')\n",
    "plt.show()"
   ]
  },
  {
   "cell_type": "markdown",
   "id": "87d3a741",
   "metadata": {},
   "source": [
    "* Features of importance by rank for both\n",
    "- 1st Age\n",
    "- Monthly income\n",
    "- Duration of Pitch "
   ]
  },
  {
   "cell_type": "markdown",
   "id": "c8dc46cf",
   "metadata": {},
   "source": [
    "### Boosting Models"
   ]
  },
  {
   "cell_type": "markdown",
   "id": "ee26e8c8",
   "metadata": {},
   "source": [
    "### Building the Model\n",
    "* We are going to build 3 ensemble models here - AdaBoost Classifier, Gradient Boosting Classifier and XGBoost Classifier.\n",
    "* First, let's build these models with default parameters and then use hyperparameter tuning to optimize the model performance.\n",
    "* We will calculate all three metrics - Accuracy, Precision and Recall but the metric of interest here is recall.\n",
    "* Recall - It gives the ratio of True positives to Actual positives, so high Recall implies low false negatives\n",
    "* F1- overall performance indicator as mentioned previously will play a important role in our final selection"
   ]
  },
  {
   "cell_type": "markdown",
   "id": "9178fb05",
   "metadata": {},
   "source": [
    "### AdaBoost Classifier"
   ]
  },
  {
   "cell_type": "markdown",
   "id": "366ed69f",
   "metadata": {},
   "source": [
    "\n",
    "* An AdaBoost classifier is a meta-estimator that begins by fitting a classifier on the original dataset and then fits   additional copies of the classifier on the same dataset but where the weights of incorrectly classified instances are adjusted such that subsequent classifiers focus more on difficult cases.\n",
    "* Some important hyperparamters are:\n",
    ">  * base_estimator: The base estimator from which the boosted ensemble is built. By default the base estimator is a decision   tree with max_depth=1\n",
    ">  * n_estimators: The maximum number of estimators at which boosting is terminated. Default value is 50.\n",
    ">  * learning_rate: Learning rate shrinks the contribution of each classifier by learning_rate. There is a trade-off between learning_rate and n_estimators."
   ]
  },
  {
   "cell_type": "code",
   "execution_count": null,
   "id": "67d50da3",
   "metadata": {},
   "outputs": [],
   "source": [
    "abc = AdaBoostClassifier(random_state=1)\n",
    "abc.fit(X_train,y_train)"
   ]
  },
  {
   "cell_type": "code",
   "execution_count": null,
   "id": "9772f866",
   "metadata": {},
   "outputs": [],
   "source": [
    "#Fitting the model\n",
    "ab_classifier = AdaBoostClassifier(random_state=1)\n",
    "ab_classifier.fit(X_train,y_train)\n",
    "\n",
    "#Calculating different metrics\n",
    "ab_classifier_model_train_perf=model_performance_classification_sklearn(ab_classifier,X_train,y_train)\n",
    "print(ab_classifier_model_train_perf)\n",
    "ab_classifier_model_test_perf=model_performance_classification_sklearn(ab_classifier,X_test,y_test)\n",
    "print(ab_classifier_model_test_perf)\n",
    "\n",
    "#Creating confusion matrix\n",
    "confusion_matrix_sklearn(ab_classifier,X_test,y_test)"
   ]
  },
  {
   "cell_type": "markdown",
   "id": "c29c1b0c",
   "metadata": {},
   "source": [
    "### Hyperparameter tuning"
   ]
  },
  {
   "cell_type": "code",
   "execution_count": null,
   "id": "21163bff",
   "metadata": {},
   "outputs": [],
   "source": [
    "# Choose the type of classifier. \n",
    "abc_tuned = AdaBoostClassifier(random_state=1)\n",
    "\n",
    "# Grid of parameters to choose from\n",
    "## add from article\n",
    "parameters = {\n",
    "    #Let's try different max_depth for base_estimator\n",
    "    \"base_estimator\":[DecisionTreeClassifier(max_depth=1, random_state=1),DecisionTreeClassifier(max_depth=2, random_state=1),DecisionTreeClassifier(max_depth=3, random_state=1)],\n",
    "    \"n_estimators\": np.arange(10,110,10),\n",
    "    \"learning_rate\":np.arange(0.1,2,0.1)\n",
    "}\n",
    "\n",
    "# Type of scoring used to compare parameter combinations\n",
    "acc_scorer = metrics.make_scorer(metrics.recall_score)\n",
    "\n",
    "# Run the grid search\n",
    "grid_obj = GridSearchCV(abc_tuned, parameters, scoring=acc_scorer,cv=5)\n",
    "grid_obj = grid_obj.fit(X_train, y_train)\n",
    "\n",
    "# Set the clf to the best combination of parameters\n",
    "abc_tuned = grid_obj.best_estimator_\n",
    "\n",
    "# Fit the best algorithm to the data.\n",
    "abc_tuned.fit(X_train, y_train)"
   ]
  },
  {
   "cell_type": "code",
   "execution_count": null,
   "id": "1e29b3f2",
   "metadata": {},
   "outputs": [],
   "source": [
    "#Calculating different metrics\n",
    "abc_tuned_model_train_perf=model_performance_classification_sklearn(abc_tuned,X_train,y_train)\n",
    "print(abc_tuned_model_train_perf)\n",
    "abc_tuned_model_test_perf=model_performance_classification_sklearn(abc_tuned,X_test,y_test)\n",
    "print(abc_tuned_model_test_perf)\n",
    "\n",
    "#Creating confusion matrix\n",
    "confusion_matrix_sklearn(abc_tuned,X_test,y_test)"
   ]
  },
  {
   "cell_type": "markdown",
   "id": "74ccea94",
   "metadata": {},
   "source": [
    "* Adaboost performed much better after tuning\n",
    "- 65.21 for F1 is much better than 44.7 on the original\n",
    "- Precision for the tuned model lost a few points\n",
    "- Recall was dramatically better and Accuracy was slightly better"
   ]
  },
  {
   "cell_type": "markdown",
   "id": "9fbf0a37",
   "metadata": {},
   "source": [
    "### Adaboost feature importance ranked (tuned model)"
   ]
  },
  {
   "cell_type": "code",
   "execution_count": null,
   "id": "6d37e9a7",
   "metadata": {},
   "outputs": [],
   "source": [
    "importances = abc_tuned.feature_importances_\n",
    "indices = np.argsort(importances)\n",
    "feature_names = list(X.columns)\n",
    "\n",
    "plt.figure(figsize=(12,12))\n",
    "plt.title('Feature Importances')\n",
    "plt.barh(range(len(indices)), importances[indices], color='violet', align='center')\n",
    "plt.yticks(range(len(indices)), [feature_names[i] for i in indices])\n",
    "plt.xlabel('Relative Importance')\n",
    "plt.show()"
   ]
  },
  {
   "cell_type": "markdown",
   "id": "983f4f61",
   "metadata": {},
   "source": [
    "### Gradient Boosting Classifier"
   ]
  },
  {
   "cell_type": "code",
   "execution_count": null,
   "id": "f66c2905",
   "metadata": {},
   "outputs": [],
   "source": [
    "gbc = GradientBoostingClassifier(random_state=1)\n",
    "gbc.fit(X_train,y_train)"
   ]
  },
  {
   "cell_type": "markdown",
   "id": "cc044ea3",
   "metadata": {},
   "source": [
    "#### model performance on train set"
   ]
  },
  {
   "cell_type": "code",
   "execution_count": null,
   "id": "8a7b27b9",
   "metadata": {},
   "outputs": [],
   "source": [
    "confusion_matrix_sklearn(gbc, X_train, y_train)"
   ]
  },
  {
   "cell_type": "code",
   "execution_count": null,
   "id": "9fa0acec",
   "metadata": {},
   "outputs": [],
   "source": [
    "gbc_model_train_perf = model_performance_classification_sklearn(\n",
    "    gbc, X_train, y_train\n",
    ")\n",
    "gbc_model_train_perf"
   ]
  },
  {
   "cell_type": "markdown",
   "id": "68040083",
   "metadata": {},
   "source": [
    "#### model performance on test set"
   ]
  },
  {
   "cell_type": "code",
   "execution_count": null,
   "id": "55d0687f",
   "metadata": {},
   "outputs": [],
   "source": [
    "confusion_matrix_sklearn(gbc, X_test, y_test)"
   ]
  },
  {
   "cell_type": "code",
   "execution_count": null,
   "id": "6cde557c",
   "metadata": {},
   "outputs": [],
   "source": [
    "gbc_model_test_perf = model_performance_classification_sklearn(\n",
    "    gbc, X_test, y_test\n",
    ")\n",
    "gbc_model_test_perf"
   ]
  },
  {
   "cell_type": "markdown",
   "id": "67fbdd3d",
   "metadata": {},
   "source": [
    "#### It can also be done this way with one set of code- good to summarize"
   ]
  },
  {
   "cell_type": "code",
   "execution_count": null,
   "id": "7aa74486",
   "metadata": {},
   "outputs": [],
   "source": [
    "#Fitting the model\n",
    "gb_classifier = GradientBoostingClassifier(random_state=1)\n",
    "gb_classifier.fit(X_train,y_train)\n",
    "\n",
    "#Calculating different metrics\n",
    "gb_classifier_model_train_perf=model_performance_classification_sklearn(gb_classifier,X_train,y_train)\n",
    "print(\"Training performance:\\n\",gb_classifier_model_train_perf)\n",
    "gb_classifier_model_test_perf=model_performance_classification_sklearn(gb_classifier,X_test,y_test)\n",
    "print(\"Testing performance:\\n\",gb_classifier_model_test_perf)\n",
    "\n",
    "#Creating confusion matrix\n",
    "confusion_matrix_sklearn(gb_classifier,X_test,y_test)"
   ]
  },
  {
   "cell_type": "markdown",
   "id": "3ce683f6",
   "metadata": {},
   "source": [
    "* Gradient Boost has not overfitted, however the F1 score is low\n",
    "* Recall is only .402174 on test \n"
   ]
  },
  {
   "cell_type": "markdown",
   "id": "90147321",
   "metadata": {},
   "source": [
    "### Gradient Boosting Classifier Tuned\n",
    "* Most of the hyperparameters available are same as random forest classifier.\n",
    "* init: An estimator object that is used to compute the initial predictions. If ‘zero’, the initial raw predictions are set to zero. By default, a DummyEstimator predicting the classes priors is used.\n",
    "* There is no class_weights parameter in gradient boosting."
   ]
  },
  {
   "cell_type": "code",
   "execution_count": null,
   "id": "f82a2e2b",
   "metadata": {},
   "outputs": [],
   "source": [
    "# Choose the type of classifier. \n",
    "gbc_tuned = GradientBoostingClassifier(init=AdaBoostClassifier(random_state=1),random_state=1)\n",
    "\n",
    "# Grid of parameters to choose from\n",
    "parameters = {\n",
    "    \"n_estimators\": [100,150,200,250],\n",
    "    \"subsample\":[0.8,0.9,1],\n",
    "    \"max_features\":[0.7,0.8,0.9,1]\n",
    "}\n",
    "\n",
    "# Type of scoring used to compare parameter combinations\n",
    "scorer = metrics.make_scorer(metrics.f1_score)\n",
    "\n",
    "# Run the grid search\n",
    "grid_obj = GridSearchCV(gbc_tuned, parameters, scoring=scorer,cv=5)\n",
    "grid_obj = grid_obj.fit(X_train, y_train)\n",
    "\n",
    "# Set the clf to the best combination of parameters\n",
    "gbc_tuned = grid_obj.best_estimator_\n",
    "\n",
    "# Fit the best algorithm to the data.\n",
    "gbc_tuned.fit(X_train, y_train)"
   ]
  },
  {
   "cell_type": "code",
   "execution_count": null,
   "id": "cc4d62fe",
   "metadata": {},
   "outputs": [],
   "source": [
    "#Calculating different metrics\n",
    "gbc_tuned_model_train_perf=model_performance_classification_sklearn(gbc_tuned,X_train,y_train)\n",
    "print(\"Training performance:\\n\",gbc_tuned_model_train_perf)\n",
    "gbc_tuned_model_test_perf=model_performance_classification_sklearn(gbc_tuned,X_test,y_test)\n",
    "print(\"Testing performance:\\n\",gbc_tuned_model_test_perf)\n",
    "\n",
    "#Creating confusion matrix\n",
    "confusion_matrix_sklearn(gbc_tuned,X_test,y_test)"
   ]
  },
  {
   "cell_type": "markdown",
   "id": "c492d668",
   "metadata": {},
   "source": [
    "* Gradient Boost with hyperparameters performed better in almost every category\n",
    "* F1 score between Train and test is a more than we would like , however relative to other models tested this is relatively good\n",
    "* Recall with hyper parameters is better but still with only marginal success\n"
   ]
  },
  {
   "cell_type": "markdown",
   "id": "5ef57b89",
   "metadata": {},
   "source": [
    "### Gradient Boosing Features Ranked"
   ]
  },
  {
   "cell_type": "code",
   "execution_count": null,
   "id": "29277f4a",
   "metadata": {},
   "outputs": [],
   "source": [
    "importances = gb_classifier.feature_importances_\n",
    "indices = np.argsort(importances)\n",
    "feature_names = list(X.columns)\n",
    "\n",
    "plt.figure(figsize=(12,12))\n",
    "plt.title('Feature Importances')\n",
    "plt.barh(range(len(indices)), importances[indices], color='violet', align='center')\n",
    "plt.yticks(range(len(indices)), [feature_names[i] for i in indices])\n",
    "plt.xlabel('Relative Importance')\n",
    "plt.show()"
   ]
  },
  {
   "cell_type": "markdown",
   "id": "9714c9fa",
   "metadata": {},
   "source": [
    "### XGBoost Classifier"
   ]
  },
  {
   "cell_type": "code",
   "execution_count": null,
   "id": "19a91610",
   "metadata": {},
   "outputs": [],
   "source": [
    "#Fitting the model\n",
    "xgb_classifier = XGBClassifier(random_state=1, eval_metric='logloss')\n",
    "xgb_classifier.fit(X_train,y_train)\n",
    "\n",
    "#Calculating different metrics\n",
    "xgb_classifier_model_train_perf=model_performance_classification_sklearn(xgb_classifier,X_train,y_train)\n",
    "print(\"Training performance:\\n\",xgb_classifier_model_train_perf)\n",
    "xgb_classifier_model_test_perf=model_performance_classification_sklearn(xgb_classifier,X_test,y_test)\n",
    "print(\"Testing performance:\\n\",xgb_classifier_model_test_perf)\n",
    "\n",
    "#Creating confusion matrix\n",
    "confusion_matrix_sklearn(xgb_classifier,X_test,y_test)"
   ]
  },
  {
   "cell_type": "markdown",
   "id": "f5c51b0a",
   "metadata": {},
   "source": [
    "* XGBoost like the other models is overfitting but relating it to the other models this seems to be superior\n",
    "* Recall reflects once again overfitting but the results are superior to the other models\n",
    "* accuracy is good and precision is once again overfitting but superior to other models"
   ]
  },
  {
   "cell_type": "markdown",
   "id": "a0beb792",
   "metadata": {},
   "source": [
    "### XGBoost Classifier\n",
    "#### XGBoost has many hyper parameters which can be tuned to increase the model performance. You can read about them in the xgboost documentation here. Some of the important parameters are:\n",
    "\n",
    "* scale_pos_weight:Control the balance of positive and negative weights, useful for unbalanced classes. It has range from 0 to \n",
    "∞\n",
    ".\n",
    "* subsample: Corresponds to the fraction of observations (the rows) to subsample at each step. By default it is set to 1 meaning that we use all rows.\n",
    "* colsample_bytree: Corresponds to the fraction of features (the columns) to use.\n",
    "* colsample_bylevel: The subsample ratio of columns for each level. Columns are subsampled from the set of columns chosen for the current tree.\n",
    "* colsample_bynode: The subsample ratio of columns for each node (split). Columns are subsampled from the set of columns chosen for the current level.\n",
    "* max_depth: is the maximum number of nodes allowed from the root to the farthest leaf of a tree.\n",
    "* learning_rate/eta: Makes the model more robust by shrinking the weights on each step.\n",
    "* gamma: A node is split only when the resulting split gives a positive reduction in the loss function. Gamma specifies the minimum loss reduction required to make a split."
   ]
  },
  {
   "cell_type": "code",
   "execution_count": null,
   "id": "d538cc91",
   "metadata": {},
   "outputs": [],
   "source": [
    "# Choose the type of classifier. \n",
    "xgb_tuned = XGBClassifier(random_state=1,eval_metric='logloss')\n",
    "\n",
    "# Grid of parameters to choose from\n",
    "## add from\n",
    "parameters = {\n",
    "    \"n_estimators\": np.arange(10,100,20),\n",
    "    \"scale_pos_weight\":[0,1,2,5],\n",
    "    \"subsample\":[0.5,0.7,0.9,1],\n",
    "    \"learning_rate\":[0.01,0.1,0.2,0.05],\n",
    "    \"gamma\":[0,1,3],\n",
    "    \"colsample_bytree\":[0.5,0.7,0.9,1],\n",
    "    \"colsample_bylevel\":[0.5,0.7,0.9,1]\n",
    "}\n",
    "\n",
    "# Type of scoring used to compare parameter combinations\n",
    "acc_scorer = metrics.make_scorer(metrics.recall_score)\n",
    "\n",
    "# Run the grid search\n",
    "grid_obj = GridSearchCV(xgb_tuned, parameters,scoring=acc_scorer,cv=5)\n",
    "grid_obj = grid_obj.fit(X_train, y_train)\n",
    "\n",
    "# Set the clf to the best combination of parameters\n",
    "xgb_tuned = grid_obj.best_estimator_\n",
    "\n",
    "# Fit the best algorithm to the data.\n",
    "xgb_tuned.fit(X_train, y_train)"
   ]
  },
  {
   "cell_type": "code",
   "execution_count": null,
   "id": "52e48a18",
   "metadata": {},
   "outputs": [],
   "source": [
    "#Calculating different metrics\n",
    "xgb_tuned_model_train_perf=model_performance_classification_sklearn(xgb_tuned,X_train,y_train)\n",
    "print(\"Training performance:\\n\",xgb_tuned_model_train_perf)\n",
    "xgb_tuned_model_test_perf=model_performance_classification_sklearn(xgb_tuned,X_test,y_test)\n",
    "print(\"Testing performance:\\n\",xgb_tuned_model_test_perf)\n",
    "\n",
    "#Creating confusion matrix\n",
    "confusion_matrix_sklearn(xgb_tuned,X_test,y_test)"
   ]
  },
  {
   "cell_type": "markdown",
   "id": "bfcc4b9a",
   "metadata": {},
   "source": [
    "* XGBoost preformed comaritively well - however the original model performed better than the tuned model. \n",
    "* Overall F1 score of 77.77 is encouraging \n",
    "* Accuracy of 92, Recall of 70.2 and Precision of 86.9 are all respectable and compared to other models run - this is certainly a respectable model.\n",
    "* XGBoost does take longer to run but it appears to be worth the effort"
   ]
  },
  {
   "cell_type": "markdown",
   "id": "4d196373",
   "metadata": {},
   "source": [
    "### XGBoost Feature of Importances"
   ]
  },
  {
   "cell_type": "code",
   "execution_count": null,
   "id": "f1da4293",
   "metadata": {},
   "outputs": [],
   "source": [
    "importances = xgb_classifier.feature_importances_\n",
    "indices = np.argsort(importances)\n",
    "feature_names = list(X.columns)\n",
    "\n",
    "plt.figure(figsize=(12,12))\n",
    "plt.title('Feature Importances')\n",
    "plt.barh(range(len(indices)), importances[indices], color='violet', align='center')\n",
    "plt.yticks(range(len(indices)), [feature_names[i] for i in indices])\n",
    "plt.xlabel('Relative Importance')\n",
    "plt.show()\n"
   ]
  },
  {
   "cell_type": "markdown",
   "id": "2013fc4d",
   "metadata": {},
   "source": [
    "### Stacking Claissifier"
   ]
  },
  {
   "cell_type": "code",
   "execution_count": null,
   "id": "8d6f3259",
   "metadata": {},
   "outputs": [],
   "source": [
    "estimators = [('Random Forest',rf_tuned), ('Gradient Boosting',gbc_tuned), ('Decision Tree',dtree_estimator),\n",
    "             ('AdaBoost', abc_tuned),('Bagging',bagging_estimator_tuned),('XGBoosting',xgb_classifier)]\n",
    "# using xgb classifier instead of the tuned model due to performance\n",
    "final_estimator = xgb_tuned\n",
    "\n",
    "stacking_classifier= StackingClassifier(estimators=estimators,final_estimator=final_estimator)\n",
    "\n",
    "stacking_classifier.fit(X_train,y_train)"
   ]
  },
  {
   "cell_type": "code",
   "execution_count": null,
   "id": "78c853bb",
   "metadata": {},
   "outputs": [],
   "source": [
    "estimators = [('Random Forest',rf_tuned), ('Gradient Boosting',gbc_tuned), ('Decision Tree',dtree_estimator),\n",
    "             ('AdaBoost', abc_tuned),('Bagging',bagging_estimator_tuned),('XGBoosting',xgb_classifier)]\n",
    "# using xgb classifier instead of the tuned model due to performance\n",
    "final_estimator = xgb_classifier\n",
    "\n",
    "stacking_classifier= StackingClassifier(estimators=estimators,final_estimator=final_estimator)\n",
    "\n",
    "stacking_classifier.fit(X_train,y_train)"
   ]
  },
  {
   "cell_type": "code",
   "execution_count": null,
   "id": "38f3371d",
   "metadata": {},
   "outputs": [],
   "source": [
    "#Calculating different metrics\n",
    "stacking_classifier_model_train_perf=model_performance_classification_sklearn(stacking_classifier,X_train,y_train)\n",
    "print(\"Training performance:\\n\",stacking_classifier_model_train_perf)\n",
    "stacking_classifier_model_test_perf=model_performance_classification_sklearn(stacking_classifier,X_test,y_test)\n",
    "print(\"Testing performance:\\n\",stacking_classifier_model_test_perf)\n",
    "\n",
    "#Creating confusion matrix\n",
    "confusion_matrix_sklearn(stacking_classifier,X_test,y_test)"
   ]
  },
  {
   "cell_type": "markdown",
   "id": "06a85482",
   "metadata": {},
   "source": [
    "* Stacking Classifier overfitted but comparitively better than other models.\n",
    "* F1 score is respectable comparitively speaking to the other models in comparison with the original F1 score. \n",
    "* Maintained a respectable precision, Recall and Accuracy balance ( thus the F1 score responded accordingly)"
   ]
  },
  {
   "cell_type": "markdown",
   "id": "bfc80422",
   "metadata": {},
   "source": [
    "## Comparing all models"
   ]
  },
  {
   "cell_type": "code",
   "execution_count": null,
   "id": "0945bb0f",
   "metadata": {},
   "outputs": [],
   "source": [
    "# training performance comparison\n",
    "\n",
    "models_train_comp_df = pd.concat(\n",
    "    [d_tree_model_train_perf.T,dtree_estimator_model_train_perf.T,rf_estimator_model_train_perf.T,rf_tuned_model_train_perf.T,\n",
    "     bagging_classifier_model_train_perf.T,bagging_estimator_tuned_model_train_perf.T,ab_classifier_model_train_perf.T,\n",
    "     abc_tuned_model_train_perf.T,gb_classifier_model_train_perf.T,gbc_tuned_model_train_perf.T,xgb_classifier_model_train_perf.T,\n",
    "    xgb_tuned_model_train_perf.T,stacking_classifier_model_train_perf.T],\n",
    "    axis=1,\n",
    ")\n",
    "models_train_comp_df.columns = [\n",
    "    \"Decision Tree\",\n",
    "    \"Decision Tree Estimator\",\n",
    "    \"Random Forest Estimator\",\n",
    "    \"Random Forest Tuned\",\n",
    "    \"Bagging Classifier\",\n",
    "    \"Bagging Estimator Tuned\",\n",
    "    \"Adaboost Classifier\",\n",
    "    \"Adabosst Classifier Tuned\",\n",
    "    \"Gradient Boost Classifier\",\n",
    "    \"Gradient Boost Classifier Tuned\",\n",
    "    \"XGBoost Classifier\",\n",
    "    \"XGBoost Classifier Tuned\",\n",
    "    \"Stacking Classifier\"]\n",
    "print(\"Training performance comparison:\")\n",
    "models_train_comp_df"
   ]
  },
  {
   "cell_type": "code",
   "execution_count": null,
   "id": "e4659632",
   "metadata": {},
   "outputs": [],
   "source": [
    "# testing performance comparison\n",
    "\n",
    "models_test_comp_df = pd.concat(\n",
    "    [d_tree_model_test_perf.T,dtree_estimator_model_test_perf.T,rf_estimator_model_test_perf.T,rf_tuned_model_test_perf.T,\n",
    "     bagging_classifier_model_test_perf.T,bagging_estimator_tuned_model_test_perf.T,ab_classifier_model_test_perf.T,\n",
    "     abc_tuned_model_test_perf.T,gb_classifier_model_test_perf.T,gbc_tuned_model_test_perf.T,xgb_classifier_model_test_perf.T,\n",
    "    xgb_tuned_model_test_perf.T,stacking_classifier_model_test_perf.T],\n",
    "    axis=1,\n",
    ")\n",
    "models_test_comp_df.columns = [\n",
    "    \"Decision Tree\",\n",
    "    \"Decision Tree Estimator\",\n",
    "    \"Random Forest Estimator\",\n",
    "    \"Random Forest Tuned\",\n",
    "    \"Bagging Classifier\",\n",
    "    \"Bagging Estimator Tuned\",\n",
    "    \"Adaboost Classifier\",\n",
    "    \"Adabosst Classifier Tuned\",\n",
    "    \"Gradient Boost Classifier\",\n",
    "    \"Gradient Boost Classifier Tuned\",\n",
    "    \"XGBoost Classifier\",\n",
    "    \"XGBoost Classifier Tuned\",\n",
    "    \"Stacking Classifier\"] \n",
    "print(\"Testing performance comparison:\")\n",
    "models_test_comp_df"
   ]
  },
  {
   "cell_type": "markdown",
   "id": "6b391661",
   "metadata": {},
   "source": [
    "#### Used XGBoost classifier tuned since it has the best F1 score combined with being the final estimator for the stacking classifier which had the best overall results.\n",
    "- Stacking reflects the overfitting but handled it best\n",
    "- overall performance on stacking was better and provided closer variances\n"
   ]
  },
  {
   "cell_type": "code",
   "execution_count": null,
   "id": "3249c1f9",
   "metadata": {},
   "outputs": [],
   "source": [
    "importances = xgb_classifier.feature_importances_\n",
    "indices = np.argsort(importances)\n",
    "feature_names = list(X.columns)\n",
    "\n",
    "plt.figure(figsize=(12,12))\n",
    "plt.title('Feature Importances')\n",
    "plt.barh(range(len(indices)), importances[indices], color='violet', align='center')\n",
    "plt.yticks(range(len(indices)), [feature_names[i] for i in indices])\n",
    "plt.xlabel('Relative Importance')\n",
    "plt.show()"
   ]
  },
  {
   "cell_type": "markdown",
   "id": "097d68e0",
   "metadata": {},
   "source": [
    "* Feature of important variables\n",
    "- Having had the basic product pitched \n",
    "- Large business is the employer\n",
    "- Tier 3 city closely followed by Tier 1 city\n",
    "- Unmarried, or Divorced"
   ]
  },
  {
   "cell_type": "markdown",
   "id": "52a09384",
   "metadata": {},
   "source": [
    "#### Other features to consider strongly due to performance in other models\n",
    "- Age and Monthly income"
   ]
  },
  {
   "cell_type": "markdown",
   "id": "cb79c986",
   "metadata": {},
   "source": [
    "#### Actionable Insights and Recommendations\n",
    "1. Stacking performed well , but in the event that a single classifier was to be used for computational efficiency then\n",
    "i would recommend using XGBOOST_classifier (original) or the Bagging Estimator Tuned (if computer efficiency was a concern) due to overall performance.\n",
    "2. Recommend the marketing campaign to consider their potential clients to be :\n",
    "     \n",
    "    a. Age- close to 37\n",
    "    b. Montly income is around 23619.86\n",
    "    c. employed by a large business, but I would also consider executives \n",
    "    d. lives in a Tier 3 city or Tier 1 \n",
    "    e. they do not have a passport\n",
    "    f. They are single\n",
    "    \n",
    "I would market the product similar to basic product's marketing or use the basic product to open the door for potential up selling. \n",
    "\n",
    "Data integrity would be a emphasis , there were a lot of missing observations, if better recording was done then the model \n",
    "might perform slightly better and may reduce the over fitting. \n",
    "\n",
    "Since it is cheaper to advertise in a Tier 3 city, I would consider target marketing in those cities\n",
    "\n",
    "In EDA it became evident that there is room for improvement on the sales pitch. I would have my team work on trying to obtain better Pitch Satisfaction scores and utilize a survey to see if improvement from the first effort has improved. \n",
    "\n",
    "- Finally - Following up has shown to be beneficial. Its not good enough to perform the marketing but the data reflects the importance of following up with each."
   ]
  },
  {
   "cell_type": "code",
   "execution_count": null,
   "id": "1fdbd03b",
   "metadata": {},
   "outputs": [],
   "source": []
  }
 ],
 "metadata": {
  "kernelspec": {
   "display_name": "Python 3 (ipykernel)",
   "language": "python",
   "name": "python3"
  },
  "language_info": {
   "codemirror_mode": {
    "name": "ipython",
    "version": 3
   },
   "file_extension": ".py",
   "mimetype": "text/x-python",
   "name": "python",
   "nbconvert_exporter": "python",
   "pygments_lexer": "ipython3",
   "version": "3.9.7"
  }
 },
 "nbformat": 4,
 "nbformat_minor": 5
}
